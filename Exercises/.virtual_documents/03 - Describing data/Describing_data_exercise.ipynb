





import pandas as pd
import pandas as pd
import numpy as np
import matplotlib.pyplot as plt
%matplotlib inline
import seaborn as sns
import math

#load the statistical libraries
from statsmodels.stats import diagnostic
from scipy import stats


data_folder = './data/'
df = pd.read_csv(data_folder + 'acs2015_county_data.csv')


df.columns


df.sample(10)





df['IncomePerCap'].hist(bins = 50)





df['IncomePerCap'].describe()





# does the data come from a normal distrbution?
diagnostic.kstest_normal(df['IncomePerCap'].values, dist = 'norm')





#how about exponential?
diagnostic.kstest_normal(df['IncomePerCap'].values, dist = 'exp')











#make 10 samples with replacement
sample1_counties = df.sample(n = 10, replace = True)

#make 10 samples without replacement
sample1_counties = df.sample(n = 10, replace = False)

#sometimes we want to sample in an ublanaced way, so that we upsample datapoints of certain characteristic,
#and downsample the others. this can be acieved with weights parameter
#here we sample by upsampling counties with large population
sample2_counties = df.sample(n = 10, replace = False, weights = df['TotalPop'])


#on avergage, the samples in the sample produce with reveighting now have higher population, as we wanted!
print(sample1_counties['TotalPop'].mean())
print(sample2_counties['TotalPop'].mean())








stats.pearsonr(df['IncomePerCap'],df['Employed'])





stats.spearmanr(df['IncomePerCap'],df['Employed'])











df.loc[df['State'] == 'New York']['IncomePerCap'].mean()


df.loc[df['State'] == 'California']['IncomePerCap'].mean()





stats.ttest_ind(df.loc[df['State'] == 'New York']['IncomePerCap'], df.loc[df['State'] == 'California']['IncomePerCap'])








ax = sns.barplot(x="State", y="IncomePerCap", data=df.loc[df['State'].isin(['New York','California'])])
plt.ylim([25000,32000])





### your code and or answer here ###





### your code and or answer here ###





### your code and or answer here ###





### your code and or answer here ###











### your code and or answer here ###





### your code and or answer here ###





### your code and or answer here ###





### your code and or answer here ###





### your code and or answer here ###





### your code and or answer here ###
