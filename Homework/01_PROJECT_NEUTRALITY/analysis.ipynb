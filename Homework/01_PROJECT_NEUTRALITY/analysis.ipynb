{
 "cells": [
  {
   "cell_type": "markdown",
   "id": "579b567a-2b80-4bf1-8cc1-c514da76ca50",
   "metadata": {},
   "source": [
    "# (ADA) Homework 1: Scoring the Language Model Olympics\n",
    "\n",
    "---\n",
    "\n",
    "By the end of this homework, we expect you to be able to:\n",
    "\n",
    "- Load data and handle data using pandas;\n",
    "- Navigate the documentation of Python packages by yourself;\n",
    "- Filter and tidy up noisy real-world datasets;\n",
    "- Aggregate your data in different (and hopefully helpful) ways;\n",
    "- Create meaningful visualizations to analyze the data;\n",
    "- Communicate your findings in a clear and concise manner\n",
    "\n",
    "---\n",
    "\n",
    "**Important Dates.**\n",
    "\n",
    "- Homework release: Fri 04 Oct 2024\n",
    "- Homework due: Sat 18 Oct 2024, 23:59\n",
    "- Grade release: Mon 04 Nov 2024\n",
    "\n",
    "**Some rules**\n",
    "\n",
    "- You are allowed to use any built-in Python library that comes with Anaconda. If you want to use an external library, you may do so, but must justify your choice.\n",
    "- Make sure you use the data folder provided in the repository in read-only mode. (Or alternatively, be sure you don’t change any of the files.)\n",
    "- Be sure to provide a concise textual description of your thought process, the assumptions you made, the solution you implemented, and explanations for your answers. A notebook that only has code cells will not suffice. To avoid confusion: use short comments for longer code answers.\n",
    "- For questions containing the /Discuss:/ prefix, answer not with code, but with a textual explanation (in markdown).\n",
    "- Back up any hypotheses and claims with data, since this is an important aspect of the course.\n",
    "- Please write all your comments in English, and use meaningful variable names in your code. Your repo should have a single notebook (plus the required data files) in the master/main branch. If there are multiple notebooks present, we will not grade anything.\n",
    "- We will not run your notebook for you! Rather, we will grade it as is, which means that only the results contained in your evaluated code cells will be considered, and we will not see the results in unevaluated code cells. Thus, be sure to hand in a fully-run and evaluated notebook. In order to check whether everything looks as intended, you can check the rendered notebook on the GitHub website once you have pushed your solution there.\n",
    "- In continuation to the previous point, interactive plots, such as those generated using the ‘plotly’ package, should be strictly avoided! Make sure to print results and/or dataframes that confirm you have properly addressed the task.\n",
    "\n",
    "**A Note on using Language Models (LMs)**\n",
    "\n",
    "If you try hard enough, you will likely get away with cheating. Fortunately, our job is not to police, but rather to educate! So, please consider the following:\n",
    "- Presumably, you are taking this course to learn something! LMs are not always right ([they often fail in silly ways](https://community.openai.com/t/why-9-11-is-larger-than-9-9-incredible/869824/4)). This course should prepare you to detect when they are wrong!\n",
    "- Some of the TAs on this course literally published many works on detecting machine-generated text.\n",
    "---"
   ]
  },
  {
   "cell_type": "markdown",
   "id": "4f85896e-c0ae-4ae3-af41-46149faa2278",
   "metadata": {},
   "source": [
    "## Context\n",
    "\n",
    "Context\n",
    "AI is booming! Newspapers, influencers, and your relatives all agree that AI is important. But while almost everyone agrees that AI is the future, much is unclear about what that future looks like…\n",
    "\n",
    "Freshly graduated from the EPFL, you are hired by the Swiss government to advise on a large-scale “AI integration” initiative code-named **\"NEUTRALITY\"** (Navigating Efficient Upgrades Through Robust Artificial Learning Integration Techniques Yearly). Convinced by the stunning progress in language modeling, the government would like to battle the growing shortages in the education sector by using LMs. Your job description: investigate which LMs might be best suited!\n",
    "\n",
    "You are given the results of three LMs on the [“Massive Multitask Language Understanding (MMLU)”](https://arxiv.org/abs/2009.03300) dataset to compare. This famous dataset consists of 57 subjects with multiple-choice questions, covering diverse subjects like mathematics, computer science, history, and law. Most providers of state-of-the-art LMs use this dataset to showcase the versatility of their latest models. Unfortunately, Horta-Ribeiro, the intern responsible for collecting the results, didn’t take EPFL’s famous ADA course. As a result, the collected datasets are slightly corrupted.\n",
    "\n",
    "### A very brief primer on Language Models\n",
    "Language models (LMs) are sophisticated statistical models designed to understand and generate human-like text. At their core, LMs are trained to predict the most likely continuation of a given input text. For example, given the input \"The cat sat on the,\" an LM might predict \"mat\" as a likely continuation.\n",
    "LMs are trained on vast text samples from various sources, including books, websites, and social media. This extensive training allows them to capture patterns and relationships in language, enabling them to generate coherent and contextually appropriate text across a wide range of topics and styles.\n",
    "\n",
    "While LMs can produce text that appears to be written by intelligent humans, it's important to note that their capabilities can diverge from human intelligence in unexpected ways. They may sometimes generate factually incorrect information or struggle with complex reasoning tasks.\n",
    "\n",
    "Two key concepts in understanding LMs are:\n",
    "1. **Tokens**: LMs process text using \"tokens\" rather than individual characters. Tokens can be words, parts of words, or punctuation marks. For example, the sentence \"I love AI!\" might be tokenized as [\"I\", \"love\", \"AI\", \"!\"]. Tokenization is the first step in both training and using an LM.\n",
    "2. **Context**: The input text provided to an LM is called the \"context.\" This context informs the model's predictions or generations. A longer or more specific context often leads to more accurate and relevant outputs.\n",
    "\n",
    "[See: Wikipedia entry on language models](https://en.wikipedia.org/wiki/Large_language_model)\n",
    "\n",
    "###  Files for this assignment\n",
    "This assignment is divided into three tasks, each of which should bring you a step closer to providing a recommendation toward project NEUTRALITY’s objectives:\n",
    "\n",
    "- **Task 1**: Inspecting the results and getting your first model ranking\n",
    "- **Task 2**: Inspecting the underlying data used to generate the results for possible biases\n",
    "- **Task 3**: Learning about tokens and providing a final recommendation\n",
    "\n",
    "\n",
    "```\n",
    "📁 PROJECT_NEUTRALITY\n",
    "│\n",
    "├── 📄 analysis.ipynb (the file you're currently reading!)\n",
    "├── 📄 requirements.txt (install into your environment)\n",
    "│\n",
    "├── 📁 task_1\n",
    "├── 📁 task_2\n",
    "└── 📁 task_2.5\n",
    "```   \n",
    " "
   ]
  },
  {
   "cell_type": "code",
   "execution_count": 98,
   "id": "95ce4c12-9681-401e-9489-aa0765b19d5d",
   "metadata": {},
   "outputs": [],
   "source": [
    "# please make sure you install the packages listed in the requirements.txt file in your environment!\n",
    "# using pip\n",
    "# pip install -r requirements.txt\n",
    "#\n",
    "# using Conda:\n",
    "# conda create --name <env_name> --file requirements.txt\n",
    "#\n",
    "# some basic imports\n",
    "import os\n",
    "import pandas as pd\n",
    "import numpy as np\n",
    "import matplotlib.pyplot as plt\n",
    "import warnings\n",
    "import seaborn as sns\n",
    "from scipy.stats import ttest_ind\n",
    "from scipy.stats import chi2_contingency"
   ]
  },
  {
   "cell_type": "markdown",
   "id": "e62594ad-4f5f-4a46-80bc-deacf66b62e9",
   "metadata": {},
   "source": [
    "## Task 1 (18 points): What's in an average anyway?\n",
    "\n",
    "The files needed to complete task 1 can be found in the folder \"`data/task_1/`:\n",
    "```\n",
    "task_1/\n",
    "│\n",
    "├── mmlu_data/\n",
    "│   └── test.csv\n",
    "│\n",
    "└── lm_scores/\n",
    "    ├── lm_X.csv\n",
    "    ├── lm_Y.csv\n",
    "    └── lm_Z.csv\n",
    "```\n",
    "\n",
    "We will start by loading, (manually) inspecting, and cleaning the data. Although it doesn't seem \"glamorous\" (nor is it particularly fun...) - manually inspecting data is extremely important! In fact, it's one of the few things most AI and Data Science researchers agree on :). Next, we will take a first pass on ordering our Olympic podium between three LMs."
   ]
  },
  {
   "cell_type": "markdown",
   "id": "b5eae9a9-223b-47c4-bc2d-b0fbbf14f592",
   "metadata": {},
   "source": [
    "### 1.1 (1 pt)\n",
    " \n",
    "Load the subfiles contained in the `mmlu_data` and `lm_scores` folders into separate dataframes:\n",
    "- `df_test`\n",
    "- `df_x`\n",
    "- `df_y`\n",
    "- `df_z`\n",
    "\n",
    "for each, print their sizes."
   ]
  },
  {
   "cell_type": "code",
   "execution_count": 7,
   "id": "f98f5c61-b5ac-4ee4-993f-cbd8019d0a89",
   "metadata": {},
   "outputs": [
    {
     "name": "stdout",
     "output_type": "stream",
     "text": [
      "The respective lengths of the test, X, Y and Z data frame are :14042, 13882, 13978 and 13923.\n"
     ]
    }
   ],
   "source": [
    "## The subfiles are loaded into their seprate dataframes\n",
    "df_test = pd.read_csv(\"task_1/mmlu_data/test.csv\", sep=',')\n",
    "df_x = pd.read_csv(\"task_1/lm_scores/lm_X.csv\", sep=',')\n",
    "df_y = pd.read_csv(\"task_1/lm_scores/lm_Y.csv\", sep=',')\n",
    "df_z = pd.read_csv(\"task_1/lm_scores/lm_Z.csv\", sep=',')\n",
    "\n",
    "##The dataframes' size is printed.\n",
    "print(f\"The respective lengths of the test, X, Y and Z data frame are :{df_test.shape[0]}, {df_x.shape[0]}, {df_y.shape[0]} and {df_z.shape[0]}.\")"
   ]
  },
  {
   "cell_type": "markdown",
   "id": "acbda57d-7df2-4e33-b31c-52bc0af6753e",
   "metadata": {},
   "source": [
    "### 1.2 (4 pt)\n",
    "Unfortunately, LMs don't always output the format we want. In the column `result`, the value should be one of A, B, C, or D. \n",
    "\n",
    "A. For each of the LM score dataframes, use a `value_counts()` operation and print the results. \n",
    "\n",
    "B. /Discuss:/ Inspect the results and describe the types of answer formats you see. Besides the \"expected\" case, you should be able to find at least four unexpected formats."
   ]
  },
  {
   "cell_type": "code",
   "execution_count": 9,
   "id": "79936f23",
   "metadata": {},
   "outputs": [
    {
     "name": "stdout",
     "output_type": "stream",
     "text": [
      "Value counts of df_x:\n",
      "result\n",
      "A                                                                                                                 2733\n",
      "A                                                                                                                 1657\n",
      "B                                                                                                                 1412\n",
      "Answer: A                                                                                                         1398\n",
      "C                                                                                                                 1134\n",
      "                                                                                                                  ... \n",
      "judicial activism, so the answer is A                                                                                1\n",
      "creating insurmountable obstacles to the founding of factions, so the answer is A                                    1\n",
      "A congressperson who retires to take a position teaching political science at a university, so the answer is A       1\n",
      "David Hume, so the answer is D                                                                                       1\n",
      "Brahminic orthodoxy, so the answer is A                                                                              1\n",
      "Name: count, Length: 145, dtype: int64\n",
      "---------------------------\n",
      "Value counts of df_y:\n",
      "result\n",
      "D                                                                                                2894\n",
      "Answer: D                                                                                        1718\n",
      "C                                                                                                1701\n",
      "B                                                                                                1240\n",
      "D                                                                                                1145\n",
      "                                                                                                 ... \n",
      "Where the energy of interaction between the atoms is at its minimum value, so the answer is A       1\n",
      "leaves more viable offspring than others of its species., so the answer is D                        1\n",
      "A and C only, so the answer is D                                                                    1\n",
      "ADP + P → ATP, so the answer is D                                                                   1\n",
      "Monoclonal antibodies, so the answer is C                                                           1\n",
      "Name: count, Length: 141, dtype: int64\n",
      "---------------------------\n",
      "Value counts of df_z:\n",
      "result\n",
      "D                                                                                   2257\n",
      "C                                                                                   2191\n",
      "B                                                                                   2127\n",
      "A                                                                                   2060\n",
      "Answer: D                                                                            777\n",
      "                                                                                    ... \n",
      "omission of a universal suffrage clause, so the answer is D                            1\n",
      "declare war, so the answer is D                                                        1\n",
      "state and local governments, by means of federal funding, so the answer is B           1\n",
      "less clearly identified with consistent political ideologies, so the answer is B       1\n",
      "Rahit, so the answer is B                                                              1\n",
      "Name: count, Length: 560, dtype: int64\n",
      "---------------------------\n"
     ]
    }
   ],
   "source": [
    "# A\n",
    "\n",
    "##pd.set_option('display.max_rows', None) added in order to display the full value counts to obtain all answer formats, disabled afterwards to /\n",
    "##ensure ease of readability of the jupyter notebook. \n",
    "pd.reset_option('display.max_rows')\n",
    "\n",
    "print(\"Value counts of df_x:\")\n",
    "print(df_x['result'].value_counts())\n",
    "print(\"---------------------------\")##added for ease of readability \n",
    "\n",
    "print(\"Value counts of df_y:\")\n",
    "print(df_y['result'].value_counts())\n",
    "print(\"---------------------------\")\n",
    "\n",
    "print(\"Value counts of df_z:\")\n",
    "print(df_z['result'].value_counts())\n",
    "print(\"---------------------------\")"
   ]
  },
  {
   "cell_type": "markdown",
   "id": "9fcc3c9a-f316-4acb-a31f-1d55ea7cce93",
   "metadata": {},
   "source": [
    "# B\n",
    "The results of the print operation executed in 1.2.A reveals that while most of the dataframes display one of four possible letters in their result column (A, B, C or D), a number of unexpected data formats may be observed.\n",
    "\n",
    "The first - and visibly most common one - is the addition of \"Answer :\" before the letter. Another very common unexpected answer format is the \"reasoning, so the answer is ...\". All three data set additionally display a number of rows with results along the lines of \"Not wrong, wrong, so the answer is ...\". Finally a number of \"nan\", \"not sure\" and \"none of the above\" results permeate through all of the datasets. \n",
    "The unexpected answer formats may thus be grouped into 2 categories: those that display the letter answer along with some text and those that do not by displaying a \"not sure\" or \"none of the above\" answer. \n"
   ]
  },
  {
   "cell_type": "markdown",
   "id": "88c5551d-1968-427b-bdd6-51d996898e7c",
   "metadata": {},
   "source": [
    "### 1.3 (5 pt)\n",
    "Oh oh... That doesn't look great. Simply dropping all invalid answers seems overly wasteful, yet fixing all of these looks like a mess! Instead, let's focus for now on fixing just those answers of length < 10 characters that require only a single `str.replace()` operation. \n",
    "\n",
    "For example, if the answer looks like `--A--`, we could fix this by using the following simple function:\n",
    "\n",
    "```\n",
    "def clean_answer(s, pattern='-'):\n",
    "    return str(s).replace(pattern, '')\n",
    "\n",
    "dirty_answer = '--A--'\n",
    "clean_answer = clean_answer(dirty_answer)\n",
    "```\n",
    "\n",
    "A. Filter the three score dataframes to include only answers with less than 10 characters. Make a deep copy of the dataframes as you filter them.\n",
    "\n",
    "B. Modify the `clean_answer()` example function to clean the answers in the filtered data frames using the `apply()` functionality. Finally, make sure **all remaining answers are one of `A, B, C, or D`.**\n",
    "\n",
    "C. /Discuss:/ Compare the sizes of the original and filtered data frames. What do you see? Why might this be a problem?"
   ]
  },
  {
   "cell_type": "code",
   "execution_count": 12,
   "id": "aef1f933-20bf-426a-ac9d-a35e273b9bd2",
   "metadata": {},
   "outputs": [],
   "source": [
    "# A\n",
    "## Deep copies of the initial (or \"dirty\") dataframes for filtering\n",
    "df_x_filtered = df_x.copy()\n",
    "df_y_filtered = df_y.copy()\n",
    "df_z_filtered = df_z.copy()\n",
    "\n",
    "## Dataframe filtering by initially converting all results to strings then using a labda function to fiter out those with a length greater than 10\n",
    "df_x_filtered['result'] = df_x_filtered['result'].astype(str)\n",
    "df_x_filtered = df_x_filtered[df_x_filtered['result'].apply(lambda x: len(x) < 10)]\n",
    "\n",
    "df_y_filtered['result'] = df_y_filtered['result'].astype(str)\n",
    "df_y_filtered = df_y_filtered[df_y_filtered['result'].apply(lambda x : len(x)<10)]\n",
    "\n",
    "df_z_filtered['result'] = df_z_filtered['result'].astype(str)\n",
    "df_z_filtered = df_z_filtered[df_z_filtered['result'].apply(lambda x : len(x)<10)]"
   ]
  },
  {
   "cell_type": "code",
   "execution_count": 13,
   "id": "fd54f296",
   "metadata": {},
   "outputs": [],
   "source": [
    "# B\n",
    "def clean_answer(dirtyframe, pattern='Answer: '): ## Modification of all answers with a \"Answer :\" in front\n",
    "    return dirtyframe.replace(pattern, '')\n",
    "def clean_answer2(dirtyframe, pattern = ' '): ## Modification of all answers with unwanted spaces\n",
    "    return dirtyframe.replace(pattern, '')\n",
    "\n",
    "## df_x filtering using the above defined functions                     \n",
    "df_x_filtered['result'] = df_x_filtered['result'].apply(clean_answer)\n",
    "df_x_filtered['result'] = df_x_filtered['result'].apply(clean_answer2)\n",
    "df_x_filtered = df_x_filtered[df_x_filtered['result'] != 'nan'] ## filters out all rows with nan from the final data frame\n",
    "df_x_filtered = df_x_filtered[df_x_filtered['result'] != 'NotSure'] ## filters out all rows with NotSure from the final data frame\n",
    "\n",
    "## df_y filtering using the above defined functions \n",
    "df_y_filtered['result'] = df_y_filtered['result'].apply(clean_answer)\n",
    "df_y_filtered['result'] = df_y_filtered['result'].apply(clean_answer2)\n",
    "df_y_filtered = df_y_filtered[df_y_filtered['result'] != 'nan']\n",
    "df_y_filtered = df_y_filtered[df_y_filtered['result'] != 'NotSure']\n",
    "\n",
    "## df_z filtering using the above defined functions \n",
    "df_z_filtered['result'] = df_z_filtered['result'].apply(clean_answer)\n",
    "df_z_filtered['result'] = df_z_filtered['result'].apply(clean_answer2)\n",
    "df_z_filtered = df_z_filtered[df_z_filtered['result'] != 'nan']\n",
    "df_z_filtered = df_z_filtered[df_z_filtered['result'] != 'NotSure']"
   ]
  },
  {
   "cell_type": "markdown",
   "id": "2415cd9b",
   "metadata": {},
   "source": [
    "C. /Discuss:/"
   ]
  },
  {
   "cell_type": "code",
   "execution_count": 15,
   "id": "52b699a9-f899-4dd0-a602-6020610cb765",
   "metadata": {},
   "outputs": [
    {
     "name": "stdout",
     "output_type": "stream",
     "text": [
      "The initial size of the df_x dataframe was 13882 compared to a filtered size of 13436.This corresponds to a loss of 446 rows of data.\n",
      "The initial size of the df_y dataframe was 13978 compared to a filtered size of 13551.This corresponds to a loss of 427 rows of data.\n",
      "The initial size of the df_z dataframe was 13923 compared to a filtered size of 12753.This corresponds to a loss of 1170 rows of data.\n",
      "A total data loss of 2043 rows of data occured during filtering.\n"
     ]
    }
   ],
   "source": [
    "data_loss_x = df_x.shape[0] - df_x_filtered.shape[0]\n",
    "print(f\"The initial size of the df_x dataframe was {df_x.shape[0]} compared to a filtered size of {df_x_filtered.shape[0]}.This corresponds to a loss of {data_loss_x} rows of data.\")\n",
    "\n",
    "data_loss_y = df_y.shape[0] - df_y_filtered.shape[0]\n",
    "print(f\"The initial size of the df_y dataframe was {df_y.shape[0]} compared to a filtered size of {df_y_filtered.shape[0]}.This corresponds to a loss of {data_loss_y} rows of data.\")\n",
    "\n",
    "data_loss_z = df_z.shape[0] - df_z_filtered.shape[0]\n",
    "print(f\"The initial size of the df_z dataframe was {df_z.shape[0]} compared to a filtered size of {df_z_filtered.shape[0]}.This corresponds to a loss of {data_loss_z} rows of data.\")\n",
    "\n",
    "total_data_loss = data_loss_x + data_loss_y + data_loss_z\n",
    "print(f\"A total data loss of {total_data_loss} rows of data occured during filtering.\")"
   ]
  },
  {
   "cell_type": "markdown",
   "id": "98d89c65-7a9b-42e3-b053-26182bf50133",
   "metadata": {},
   "source": [
    "The total data loss of 2043 rows during filtering is significant and could very well change some of the results of the subsequent analyses that need to be performed. More importantly, this data loss is unequal amongst the three models as they failed different questions. Filtering them out could thus skew the final data regarding their accuracy. "
   ]
  },
  {
   "cell_type": "markdown",
   "id": "da1cf129-09dd-47b1-9737-2c4d57eb8853",
   "metadata": {},
   "source": [
    "### 1.4 (3 pt)\n",
    "\n",
    "Now that our answer columns are nicely formatted, let's take a look at model performance:\n",
    "\n",
    "A. Both the `MMLU` dataframes and the language model score data frames have the columns `question_id`. For each of the language model score data frames, use an inner join operation with the `df_test` dataframe on the `question_id` column.\n",
    "\n",
    "B. Add a new column to each of the resulting dataframes called `correct`, that checks if the model's answer in `result` is the same as the expected answer in the column `answer`. Then, print the average score of each model."
   ]
  },
  {
   "cell_type": "code",
   "execution_count": 18,
   "id": "2af92a7f-cc2a-4445-b949-39b83b38242c",
   "metadata": {},
   "outputs": [],
   "source": [
    "# A\n",
    "complete_df_x = pd.merge(df_x_filtered, df_test, on='question_id')\n",
    "complete_df_y = pd.merge(df_y_filtered, df_test, on='question_id')\n",
    "complete_df_z = pd.merge(df_z_filtered, df_test, on='question_id')"
   ]
  },
  {
   "cell_type": "code",
   "execution_count": 19,
   "id": "50b024d2",
   "metadata": {},
   "outputs": [],
   "source": [
    "# B\n",
    "## The new 'correct' column is created as a boolean defined by the equality between the 'result' and 'answer' columns\n",
    "complete_df_x['correct'] = complete_df_x['result'] == complete_df_x['answer']\n",
    "complete_df_y['correct'] = complete_df_y['result'] == complete_df_y['answer']\n",
    "complete_df_z['correct'] = complete_df_z['result'] == complete_df_z['answer']"
   ]
  },
  {
   "cell_type": "markdown",
   "id": "69decfd8-8083-4c2f-8263-a153d55efede",
   "metadata": {},
   "source": [
    "### 1.5 (5 pt)\n",
    "\n",
    "Hmmm, something doesn't seem quite right. Let's investigate how \"balanced\" this dataset is:\n",
    "\n",
    "A. For each of the 57 subjects in the MMLU, compare the number of questions answered by each model. Print the subjects for which there is a more than 10% difference.\n",
    "\n",
    "B. Propose and implement a reasonable way to rebalance the results. (e.g., while throwing away 100% of the results perfectly rebalances the results, it is not reasonable).\n",
    "\n",
    "C. Finally, print the updated accuracy on the rebalanced data.\n",
    "\n",
    "**hint:**:\n",
    "- (A) For a given subject, let model X and model Y have answered 181 and 200 questions respectively. You can consider this a 10% difference from the perspective of X since: (200 - 181) / 181 > 0.10"
   ]
  },
  {
   "cell_type": "code",
   "execution_count": 21,
   "id": "19463002-732b-405b-8b44-77f702bdb665",
   "metadata": {},
   "outputs": [
    {
     "name": "stdout",
     "output_type": "stream",
     "text": [
      "6            college chemistry\n",
      "7     college computer science\n",
      "11           computer security\n",
      "16                formal logic\n",
      "22       high school geography\n",
      "36           logical fallacies\n",
      "40            medical genetics\n",
      "42              moral disputes\n",
      "43             moral scenarios\n",
      "Name: subject, dtype: object\n"
     ]
    }
   ],
   "source": [
    "# A\n",
    "## copies of the complete filtered dataframes obtained last question are performed for the new maniuplations\n",
    "df_x_grouped = complete_df_x.copy()\n",
    "df_y_grouped = complete_df_y.copy()\n",
    "df_z_grouped = complete_df_z.copy()\n",
    "\n",
    "## A groupby subject is initially applied and the size of each subject's question pool is computed. \n",
    "## It is then directly reconverted into the new dataframe copies defined above using .reset_index() for ease of manipulation\n",
    "## The columns are renamed from the automatic 0 that was assigned to them\n",
    "df_x_grouped = df_x_grouped.groupby('subject').size().reset_index()\n",
    "df_x_grouped.rename(columns={'subject' : 'subject', 0:'count_x'}, inplace=True) \n",
    "df_y_grouped = df_y_grouped.groupby('subject').size().reset_index()\n",
    "df_y_grouped.rename(columns={'subject' : 'subject', 0:'count_y'}, inplace = True)\n",
    "df_z_grouped = df_z_grouped.groupby('subject').size().reset_index()\n",
    "df_z_grouped.rename(columns={'subject' : 'subject', 0:'count_z'}, inplace=True)\n",
    "\n",
    "## A large grouped dataframe is created cobining the three created above\n",
    "df_grouped = pd.merge(df_x_grouped, df_y_grouped, on='subject')\n",
    "df_grouped = pd.merge(df_grouped, df_z_grouped, on='subject')\n",
    "\n",
    "## Differences from the point of view of each dataframe are computed and added to the dataframe. The \"POV\" model is the first one mentionned in the column name\n",
    "## Absolute values are computed from the getgo to simplify subsequent filtering \n",
    "df_grouped['difference_xy'] = np.abs((df_grouped['count_y']-df_grouped['count_x'])/df_grouped['count_x'])\n",
    "df_grouped['difference_xz'] = np.abs((df_grouped['count_z']-df_grouped['count_x'])/df_grouped['count_x'])\n",
    "df_grouped['difference_yx'] = np.abs((df_grouped['count_x']-df_grouped['count_y'])/df_grouped['count_y'])\n",
    "df_grouped['difference_yz'] = np.abs((df_grouped['count_z']-df_grouped['count_y'])/df_grouped['count_y'])\n",
    "df_grouped['difference_zx'] = np.abs((df_grouped['count_x']-df_grouped['count_z'])/df_grouped['count_z'])\n",
    "df_grouped['difference_zy'] = np.abs((df_grouped['count_y']-df_grouped['count_z'])/df_grouped['count_z'])\n",
    "\n",
    "## Any difference <0.1 in a given subject for a topic from the point of view of one of the three datamodels results in the row being dropped\n",
    "df_grouped_filtered = df_grouped.drop(df_grouped[(df_grouped['difference_xy'] < 0.1) & (df_grouped['difference_xz'] < 0.1) & \n",
    "        (df_grouped['difference_yx'] < 0.1) & (df_grouped['difference_yz'] < 0.1) & \n",
    "        (df_grouped['difference_zx'] < 0.1) & (df_grouped['difference_zy'] < 0.1)].index)\n",
    "print(df_grouped_filtered['subject'])"
   ]
  },
  {
   "cell_type": "markdown",
   "id": "7aeccc61-2a7e-4f7c-ab59-ce3584048fdf",
   "metadata": {},
   "source": [
    "# B\n",
    "I think the best thing that could be done for this would be to assign weighted averages to all models if they experience there exists a difference of more than 10% between any two of them in questions for a given subject. This could be done by assigning weighted averages to the percentage of correct answers of a given model. For instance, looking at the high school geography subjet, it is very obvious that model z has a much lower response rate compared to models x and y. The individual answers of model i can thus be scaled to that of models j and k by applying the formula w_i = (count_j+count_k)/total_count where total_count is the sum of all questions answered by the three language models on a given subject.  \n",
    "The code below computes the weights to be applied to each model for the concerned subjects."
   ]
  },
  {
   "cell_type": "code",
   "execution_count": 23,
   "id": "b7d51ab7-1bd8-42e9-a268-2108db758163",
   "metadata": {},
   "outputs": [
    {
     "data": {
      "text/html": [
       "<div>\n",
       "<style scoped>\n",
       "    .dataframe tbody tr th:only-of-type {\n",
       "        vertical-align: middle;\n",
       "    }\n",
       "\n",
       "    .dataframe tbody tr th {\n",
       "        vertical-align: top;\n",
       "    }\n",
       "\n",
       "    .dataframe thead th {\n",
       "        text-align: right;\n",
       "    }\n",
       "</style>\n",
       "<table border=\"1\" class=\"dataframe\">\n",
       "  <thead>\n",
       "    <tr style=\"text-align: right;\">\n",
       "      <th></th>\n",
       "      <th>subject</th>\n",
       "      <th>count_x</th>\n",
       "      <th>count_y</th>\n",
       "      <th>count_z</th>\n",
       "      <th>difference_xy</th>\n",
       "      <th>difference_xz</th>\n",
       "      <th>difference_yx</th>\n",
       "      <th>difference_yz</th>\n",
       "      <th>difference_zx</th>\n",
       "      <th>difference_zy</th>\n",
       "      <th>weight_x</th>\n",
       "      <th>weight_y</th>\n",
       "      <th>weight_z</th>\n",
       "    </tr>\n",
       "  </thead>\n",
       "  <tbody>\n",
       "    <tr>\n",
       "      <th>6</th>\n",
       "      <td>college chemistry</td>\n",
       "      <td>96</td>\n",
       "      <td>98</td>\n",
       "      <td>84</td>\n",
       "      <td>0.020833</td>\n",
       "      <td>0.125000</td>\n",
       "      <td>0.020408</td>\n",
       "      <td>0.142857</td>\n",
       "      <td>0.142857</td>\n",
       "      <td>0.166667</td>\n",
       "      <td>0.654676</td>\n",
       "      <td>0.647482</td>\n",
       "      <td>0.697842</td>\n",
       "    </tr>\n",
       "    <tr>\n",
       "      <th>7</th>\n",
       "      <td>college computer science</td>\n",
       "      <td>97</td>\n",
       "      <td>98</td>\n",
       "      <td>84</td>\n",
       "      <td>0.010309</td>\n",
       "      <td>0.134021</td>\n",
       "      <td>0.010204</td>\n",
       "      <td>0.142857</td>\n",
       "      <td>0.154762</td>\n",
       "      <td>0.166667</td>\n",
       "      <td>0.652330</td>\n",
       "      <td>0.648746</td>\n",
       "      <td>0.698925</td>\n",
       "    </tr>\n",
       "    <tr>\n",
       "      <th>11</th>\n",
       "      <td>computer security</td>\n",
       "      <td>95</td>\n",
       "      <td>98</td>\n",
       "      <td>87</td>\n",
       "      <td>0.031579</td>\n",
       "      <td>0.084211</td>\n",
       "      <td>0.030612</td>\n",
       "      <td>0.112245</td>\n",
       "      <td>0.091954</td>\n",
       "      <td>0.126437</td>\n",
       "      <td>0.660714</td>\n",
       "      <td>0.650000</td>\n",
       "      <td>0.689286</td>\n",
       "    </tr>\n",
       "    <tr>\n",
       "      <th>16</th>\n",
       "      <td>formal logic</td>\n",
       "      <td>109</td>\n",
       "      <td>123</td>\n",
       "      <td>113</td>\n",
       "      <td>0.128440</td>\n",
       "      <td>0.036697</td>\n",
       "      <td>0.113821</td>\n",
       "      <td>0.081301</td>\n",
       "      <td>0.035398</td>\n",
       "      <td>0.088496</td>\n",
       "      <td>0.684058</td>\n",
       "      <td>0.643478</td>\n",
       "      <td>0.672464</td>\n",
       "    </tr>\n",
       "    <tr>\n",
       "      <th>22</th>\n",
       "      <td>high school geography</td>\n",
       "      <td>195</td>\n",
       "      <td>193</td>\n",
       "      <td>176</td>\n",
       "      <td>0.010256</td>\n",
       "      <td>0.097436</td>\n",
       "      <td>0.010363</td>\n",
       "      <td>0.088083</td>\n",
       "      <td>0.107955</td>\n",
       "      <td>0.096591</td>\n",
       "      <td>0.654255</td>\n",
       "      <td>0.657801</td>\n",
       "      <td>0.687943</td>\n",
       "    </tr>\n",
       "    <tr>\n",
       "      <th>36</th>\n",
       "      <td>logical fallacies</td>\n",
       "      <td>154</td>\n",
       "      <td>136</td>\n",
       "      <td>147</td>\n",
       "      <td>0.116883</td>\n",
       "      <td>0.045455</td>\n",
       "      <td>0.132353</td>\n",
       "      <td>0.080882</td>\n",
       "      <td>0.047619</td>\n",
       "      <td>0.074830</td>\n",
       "      <td>0.647597</td>\n",
       "      <td>0.688787</td>\n",
       "      <td>0.663616</td>\n",
       "    </tr>\n",
       "    <tr>\n",
       "      <th>40</th>\n",
       "      <td>medical genetics</td>\n",
       "      <td>97</td>\n",
       "      <td>98</td>\n",
       "      <td>89</td>\n",
       "      <td>0.010309</td>\n",
       "      <td>0.082474</td>\n",
       "      <td>0.010204</td>\n",
       "      <td>0.091837</td>\n",
       "      <td>0.089888</td>\n",
       "      <td>0.101124</td>\n",
       "      <td>0.658451</td>\n",
       "      <td>0.654930</td>\n",
       "      <td>0.686620</td>\n",
       "    </tr>\n",
       "    <tr>\n",
       "      <th>42</th>\n",
       "      <td>moral disputes</td>\n",
       "      <td>329</td>\n",
       "      <td>304</td>\n",
       "      <td>250</td>\n",
       "      <td>0.075988</td>\n",
       "      <td>0.240122</td>\n",
       "      <td>0.082237</td>\n",
       "      <td>0.177632</td>\n",
       "      <td>0.316000</td>\n",
       "      <td>0.216000</td>\n",
       "      <td>0.627407</td>\n",
       "      <td>0.655719</td>\n",
       "      <td>0.716874</td>\n",
       "    </tr>\n",
       "    <tr>\n",
       "      <th>43</th>\n",
       "      <td>moral scenarios</td>\n",
       "      <td>737</td>\n",
       "      <td>865</td>\n",
       "      <td>774</td>\n",
       "      <td>0.173677</td>\n",
       "      <td>0.050204</td>\n",
       "      <td>0.147977</td>\n",
       "      <td>0.105202</td>\n",
       "      <td>0.047804</td>\n",
       "      <td>0.117571</td>\n",
       "      <td>0.689815</td>\n",
       "      <td>0.635943</td>\n",
       "      <td>0.674242</td>\n",
       "    </tr>\n",
       "  </tbody>\n",
       "</table>\n",
       "</div>"
      ],
      "text/plain": [
       "                     subject  count_x  count_y  count_z  difference_xy  \\\n",
       "6          college chemistry       96       98       84       0.020833   \n",
       "7   college computer science       97       98       84       0.010309   \n",
       "11         computer security       95       98       87       0.031579   \n",
       "16              formal logic      109      123      113       0.128440   \n",
       "22     high school geography      195      193      176       0.010256   \n",
       "36         logical fallacies      154      136      147       0.116883   \n",
       "40          medical genetics       97       98       89       0.010309   \n",
       "42            moral disputes      329      304      250       0.075988   \n",
       "43           moral scenarios      737      865      774       0.173677   \n",
       "\n",
       "    difference_xz  difference_yx  difference_yz  difference_zx  difference_zy  \\\n",
       "6        0.125000       0.020408       0.142857       0.142857       0.166667   \n",
       "7        0.134021       0.010204       0.142857       0.154762       0.166667   \n",
       "11       0.084211       0.030612       0.112245       0.091954       0.126437   \n",
       "16       0.036697       0.113821       0.081301       0.035398       0.088496   \n",
       "22       0.097436       0.010363       0.088083       0.107955       0.096591   \n",
       "36       0.045455       0.132353       0.080882       0.047619       0.074830   \n",
       "40       0.082474       0.010204       0.091837       0.089888       0.101124   \n",
       "42       0.240122       0.082237       0.177632       0.316000       0.216000   \n",
       "43       0.050204       0.147977       0.105202       0.047804       0.117571   \n",
       "\n",
       "    weight_x  weight_y  weight_z  \n",
       "6   0.654676  0.647482  0.697842  \n",
       "7   0.652330  0.648746  0.698925  \n",
       "11  0.660714  0.650000  0.689286  \n",
       "16  0.684058  0.643478  0.672464  \n",
       "22  0.654255  0.657801  0.687943  \n",
       "36  0.647597  0.688787  0.663616  \n",
       "40  0.658451  0.654930  0.686620  \n",
       "42  0.627407  0.655719  0.716874  \n",
       "43  0.689815  0.635943  0.674242  "
      ]
     },
     "execution_count": 23,
     "metadata": {},
     "output_type": "execute_result"
    }
   ],
   "source": [
    "df_grouped_filtered['weight_x'] = (df_grouped_filtered['count_y'] + df_grouped_filtered['count_z'])/(df_grouped_filtered['count_x'] + df_grouped_filtered['count_y'] + df_grouped_filtered['count_z'])\n",
    "df_grouped_filtered['weight_y'] = (df_grouped_filtered['count_x'] + df_grouped_filtered['count_z'])/(df_grouped_filtered['count_x'] + df_grouped_filtered['count_y'] + df_grouped_filtered['count_z'])\n",
    "df_grouped_filtered['weight_z'] = (df_grouped_filtered['count_y'] + df_grouped_filtered['count_x'])/(df_grouped_filtered['count_x'] + df_grouped_filtered['count_y'] + df_grouped_filtered['count_z'])\n",
    "df_grouped_filtered\n",
    "\n",
    "###c de la merde, on prend le minimal et on le \"upscale\" à celui de la moyenne des deux autres en faisant tot/totdesdeuxautres"
   ]
  },
  {
   "cell_type": "code",
   "execution_count": 24,
   "id": "affc3746",
   "metadata": {},
   "outputs": [],
   "source": [
    "# C"
   ]
  },
  {
   "cell_type": "markdown",
   "id": "292b2f61-0529-4b6d-a3a7-af786a4d79ae",
   "metadata": {},
   "source": [
    "## Task 2 (26 points): What do you mean A > D > B > C...?\n",
    "\n",
    "Nice work! Having successfully inspected, cleaned, and rebalanced the provided data, you head over to director of the government's NEUTRALITY project. Ms. Sakota is happy with your work so far, but worried that the sloppy intern might have done more undetected damage. To be sure, she orders a new set of evaluations of all models on both MMLU and another dataset.\n",
    "\n",
    "After cleaning up and rebalancing, you are left with the concatenated score files in the second folder `task_2`:\n",
    "```\n",
    "task_2/\n",
    "│\n",
    "└── lm_scores_mmlu.csv\n",
    "│\n",
    "└── lm_scores_other.csv\n",
    "```\n",
    "\n",
    "Each has a new column called `model_name`, which is one of `X, Y` or `Z`.\n",
    "\n",
    "\n",
    "\n",
    "_NOTE: **only** use data from `task_2` and `task_2_5` for this assignment! The values in `lm_scores_mmlu.csv` will NOT be the same as the dataframes you finished in task 1. This is due to \"randomness\" or \"temperature\" in language model inference. This can slightly shift around generative results. (Conveniently: it also ensures any mistakes made in Task 1 don't propogate further ;) )_"
   ]
  },
  {
   "cell_type": "code",
   "execution_count": 26,
   "id": "a889a76b-e034-4d2f-929e-0ef1f250a0a0",
   "metadata": {},
   "outputs": [],
   "source": [
    "# PROVIDED CODE\n",
    "df_mmlu = pd.read_csv('task_2/lm_scores_mmlu.csv')\n",
    "df_other = pd.read_csv('task_2/lm_scores_other.csv')"
   ]
  },
  {
   "cell_type": "markdown",
   "id": "c31edde3-cc91-4d08-81c7-b5e98cf0ff9c",
   "metadata": {},
   "source": [
    "### 2.1 (4 pt)\n",
    "\n",
    "Let's explore the new results:\n",
    "\n",
    "A. Compute the mean accuracy and standard errors of each model on both datasets and print the results.\n",
    "\n",
    "B. Then, show your results in a bar plot using standard errors with a 95% confidence interval around the mean. Make sure the plot is easy to read and well annotated.\n",
    "\n",
    "C. /Discuss:/ the plot you created: (i) can you say that one of the models is the best? (ii) is there anything that seems odd?"
   ]
  },
  {
   "cell_type": "code",
   "execution_count": 28,
   "id": "56fe8cca-acd1-4f5e-a938-e8d3a850f220",
   "metadata": {},
   "outputs": [
    {
     "name": "stdout",
     "output_type": "stream",
     "text": [
      "The mean accuracy and standard error of the X model on MMLU are respectively 0.7435875512995896 and 0.004037713456574967.\n",
      "The mean accuracy and standard error of the X model on 'other' are respectively 0.787975525405693 and 0.006667622050812724.\n",
      "The mean accuracy and standard error of the Y model on MMLU are respectively 0.7615424076607387 and 0.003940510695325721.\n",
      "The mean accuracy and standard error of the Y model on 'other' are respectively 0.7209364192604416 and 0.007316808287338864.\n",
      "The mean accuracy and standard error of the Z model on MMLU are respectively 0.6559507523939808 and 0.004392844300172015.\n",
      "The mean accuracy and standard error of the Z model on 'other' are respectively 0.6717212024474595 and 0.007660154999876901.\n"
     ]
    }
   ],
   "source": [
    "# A\n",
    "\n",
    "## New dataframes are created for each LLM\n",
    "## On the mmlu dataset\n",
    "df_mmlu_X = df_mmlu[df_mmlu['model_name'] == 'X']\n",
    "df_mmlu_Y = df_mmlu[df_mmlu['model_name'] == 'Y']\n",
    "df_mmlu_Z = df_mmlu[df_mmlu['model_name'] == 'Z']\n",
    "## On the 'other' dataset\n",
    "df_other_X = df_other[df_other['model_name'] == 'X']\n",
    "df_other_Y = df_other[df_other['model_name'] == 'Y']\n",
    "df_other_Z = df_other[df_other['model_name'] == 'Z']\n",
    "\n",
    "## The mean accuracy is computed using .mean()\n",
    "## On the mmlu dataset\n",
    "mean_mmlu_accuracy_X = df_mmlu_X['correct'].mean()\n",
    "mean_mmlu_accuracy_Y = df_mmlu_Y['correct'].mean()\n",
    "mean_mmlu_accuracy_Z = df_mmlu_Z['correct'].mean()\n",
    "## On the 'other' dataset\n",
    "mean_other_accuracy_X = df_other_X['correct'].mean()\n",
    "mean_other_accuracy_Y = df_other_Y['correct'].mean()\n",
    "mean_other_accuracy_Z = df_other_Z['correct'].mean()\n",
    "\n",
    "## The standard error is computed using error = s/sqrt(size) formula\n",
    "## On the mmlu dataset\n",
    "error_mmlu_X = df_mmlu_X['correct'].std()/np.sqrt(len(df_mmlu_X))\n",
    "error_mmlu_Y = df_mmlu_Y['correct'].std()/np.sqrt(len(df_mmlu_Y))\n",
    "error_mmlu_Z = df_mmlu_Z['correct'].std()/np.sqrt(len(df_mmlu_Z))\n",
    "## On the 'other dataset\n",
    "error_other_X = df_other_X['correct'].std()/np.sqrt(len(df_other_X))\n",
    "error_other_Y = df_other_Y['correct'].std()/np.sqrt(len(df_other_Y))\n",
    "error_other_Z = df_other_Z['correct'].std()/np.sqrt(len(df_other_Z))\n",
    "\n",
    "print(f\"The mean accuracy and standard error of the X model on MMLU are respectively {mean_mmlu_accuracy_X} and {error_mmlu_X}.\")\n",
    "print(f\"The mean accuracy and standard error of the X model on 'other' are respectively {mean_other_accuracy_X} and {error_other_X}.\")\n",
    "\n",
    "print(f\"The mean accuracy and standard error of the Y model on MMLU are respectively {mean_mmlu_accuracy_Y} and {error_mmlu_Y}.\")\n",
    "print(f\"The mean accuracy and standard error of the Y model on 'other' are respectively {mean_other_accuracy_Y} and {error_other_Y}.\")\n",
    "\n",
    "print(f\"The mean accuracy and standard error of the Z model on MMLU are respectively {mean_mmlu_accuracy_Z} and {error_mmlu_Z}.\")\n",
    "print(f\"The mean accuracy and standard error of the Z model on 'other' are respectively {mean_other_accuracy_Z} and {error_other_Z}.\")"
   ]
  },
  {
   "cell_type": "code",
   "execution_count": 29,
   "id": "d3a176c6",
   "metadata": {},
   "outputs": [
    {
     "data": {
      "image/png": "[encoded data removed]",
      "text/plain": [
       "<Figure size 800x600 with 1 Axes>"
      ]
     },
     "metadata": {},
     "output_type": "display_data"
    }
   ],
   "source": [
    "# B\n",
    "\n",
    "##In each case, a dataframe is created with the data above for each dataset and plt.bar used for the bar graphs\n",
    "\n",
    "## mmlu\n",
    "df_mmlu_plot = pd.DataFrame({'Model':['X','Y','Z'],\n",
    "                          'Accuracy' : [mean_mmlu_accuracy_X, mean_mmlu_accuracy_Y, mean_mmlu_accuracy_Z],\n",
    "                          'error' : [error_mmlu_X, error_mmlu_Y, error_mmlu_Z]})\n",
    "\n",
    "plt.figure(figsize=(8, 6))\n",
    "plt.bar(df_mmlu_plot['Model'], df_mmlu_plot['Accuracy'], yerr=df_mmlu_plot['error'], capsize=5, color=['blue', 'orange', 'lightgreen'])\n",
    "\n",
    "plt.title('Mean Accuracy of Models with 95% Confidence Intervals for dataset MMLU', fontsize=14)\n",
    "plt.xlabel('Model', fontsize=12)\n",
    "plt.ylabel('Mean Accuracy', fontsize=12)\n",
    "plt.ylim(0, 1)\n",
    "\n",
    "for i in range(len(df_mmlu_plot)):\n",
    "    plt.text(i, df_mmlu_plot['Accuracy'][i] + 0.02, f'{df_mmlu_plot['Accuracy'][i]:.3f}', ha='center', fontsize=12)\n",
    "\n",
    "plt.tight_layout()\n",
    "plt.show()"
   ]
  },
  {
   "cell_type": "code",
   "execution_count": 30,
   "id": "c1da31bb-ca9c-4704-b015-e3c2c8823036",
   "metadata": {},
   "outputs": [
    {
     "data": {
      "image/png": "[encoded data removed]",
      "text/plain": [
       "<Figure size 800x600 with 1 Axes>"
      ]
     },
     "metadata": {},
     "output_type": "display_data"
    }
   ],
   "source": [
    "## other\n",
    "\n",
    "df_other_plot = pd.DataFrame({'Model':['X','Y','Z'],\n",
    "                          'Accuracy' : [mean_other_accuracy_X, mean_other_accuracy_Y, mean_other_accuracy_Z],\n",
    "                          'error' : [error_other_X, error_other_Y, error_other_Z]})\n",
    "\n",
    "plt.figure(figsize=(8, 6))\n",
    "plt.bar(df_other_plot['Model'], df_other_plot['Accuracy'], yerr=df_other_plot['error'], capsize=5, color=['blue', 'orange', 'lightgreen']) \n",
    "\n",
    "plt.title('Mean Accuracy of Models with 95% Confidence Intervals for dataset \"other\"', fontsize=14)\n",
    "plt.xlabel('Model', fontsize=12)\n",
    "plt.ylabel('Mean Accuracy', fontsize=12)\n",
    "plt.ylim(0, 1)\n",
    "\n",
    "for i in range(len(df_other_plot)):\n",
    "    plt.text(i, df_other_plot['Accuracy'][i] + 0.02, f'{df_other_plot['Accuracy'][i]:.3f}', ha='center', fontsize=12)\n",
    "\n",
    "plt.tight_layout()\n",
    "plt.show()"
   ]
  },
  {
   "cell_type": "markdown",
   "id": "65c9fbfe",
   "metadata": {},
   "source": [
    "C. /Discuss:/\n",
    "\n",
    "The X model is the best on the 'other' dataset while the Y model is the best on the mmlu dataset. For both, the Z model has the worst performance. It is interesting to note that X and Y see their mean accuracies change by around the same amount (0.04) between both datasets. "
   ]
  },
  {
   "cell_type": "markdown",
   "id": "eee0ec62-f2d1-4bae-a6f6-221320d602cb",
   "metadata": {},
   "source": [
    "### 2.2 (5 pt)\n",
    "\n",
    "Ms. Sakota has assured you that both datasets contain questions of similar difficulty, so, what could be going on here?\n",
    "\n",
    "A. What is the distribution of correct answers (A, B, C, D) for each dataset? Create a bar chart to visualize this.\n",
    "\n",
    "B. Perform a chi-square test at $\\alpha = 0.05$, of independence to determine if there's a significant difference in the distribution of correct answers between the two datasets. What do you conclude?\n",
    "\n",
    "**hints**:\n",
    "- for (A), keep in mind that df_mmlu and df_other contain the results of all models, i.e., the `question_id` column is duplicated.\n",
    "- for (A), take care to clearly annotate the bar chart, e.g., title, y-label, legend.\n",
    "- for (B), clearly state the null hypothesis and alternative hypothesis\n",
    "- use the `chi2_contingency` function from `scipy.stats`\n",
    "- format your results from answer (A) as a 2D array"
   ]
  },
  {
   "cell_type": "code",
   "execution_count": 33,
   "id": "30b16f70-93e0-4a19-8a6d-b3ae5a75ae65",
   "metadata": {},
   "outputs": [
    {
     "data": {
      "text/plain": [
       "<matplotlib.legend.Legend at 0x2532389fce0>"
      ]
     },
     "execution_count": 33,
     "metadata": {},
     "output_type": "execute_result"
    },
    {
     "data": {
      "image/png": "[encoded data removed]",
      "text/plain": [
       "<Figure size 640x480 with 1 Axes>"
      ]
     },
     "metadata": {},
     "output_type": "display_data"
    }
   ],
   "source": [
    "# A\n",
    "\n",
    "## Keeping the first hint in mind, we may simply analyse each dataset using the one of the model centric dataframes created in 2.1.A \n",
    "\n",
    "## We first obtain the counts of each answer type for both datasets in a list for easier subsequent dataframe definition\n",
    "mmlu_distribution = []\n",
    "other_distribution = []\n",
    "for answer in ['A', 'B', 'C', 'D']:\n",
    "    mmlu_distribution.append(df_mmlu_X[df_mmlu_X['answer'] == answer]['answer'].value_counts().get(answer, 0))\n",
    "    other_distribution.append(df_other_X[df_other_X['answer'] == answer]['answer'].value_counts().get(answer, 0))\n",
    "## df_mmlu_X is taken in order to take into account the fact that the csv source files list the answers given by each of the three models. \n",
    "## Conducting the above definition over all the df_mmlu dataframe would thus artificially triple the prevalence of each of the 4 answer types.\n",
    "## This method is valid as the LLM's answer the same questions \n",
    "\n",
    "## New data frames are created\n",
    "df_mmlu_distribution = pd.DataFrame({'Answer' : ['A', 'B', 'C', 'D'],\n",
    "                                     'Number' : mmlu_distribution,\n",
    "                                     'Source' : ['MMLU']*4}) \n",
    "df_other_distribution = pd.DataFrame({'Answer' : ['A', 'B', 'C', 'D'],\n",
    "                                     'Number' : other_distribution,\n",
    "                                     'Source' : ['Other']*4})\n",
    "df_tot_distribution = pd.concat([df_mmlu_distribution, df_other_distribution], ignore_index=True)\n",
    "\n",
    "## The plot can then finally be created\n",
    "dist_plot = sns.barplot(x='Answer', y='Number', hue='Source', data=df_tot_distribution)\n",
    "plt.xlabel('Answer')\n",
    "plt.ylabel('Prevalence')\n",
    "plt.title('Distribution of Correct Answers by Dataset')\n",
    "dist_plot.bar_label(dist_plot.containers[0], fontsize=10)\n",
    "dist_plot.bar_label(dist_plot.containers[1], fontsize=10)\n",
    "plt.legend(title='Source')"
   ]
  },
  {
   "cell_type": "code",
   "execution_count": 34,
   "id": "92392cd7",
   "metadata": {},
   "outputs": [
    {
     "name": "stdout",
     "output_type": "stream",
     "text": [
      "The null hypothesis H0 states that answer distribution is independent from the dataset.\n",
      "The alternative hypothesis H1 states that answer distribution is dataset dependent.\n",
      "Chi2ContingencyResult(statistic=629.3958675644751, pvalue=4.270849602795191e-136, dof=3, expected_freq=array([[2034.97534778, 3071.76085409, 3274.5772889 , 3314.68650922],\n",
      "       [ 654.02465222,  987.23914591, 1052.4227111 , 1065.31349078]]))\n",
      "pvalue = 4.270849602795191e-136 < alpha = 0.05 : the null hypothesis is rejected, answer distribution is not dataset independent\n"
     ]
    }
   ],
   "source": [
    "# B\n",
    "\n",
    "## A contingency table is first created in order to run the chi^2 independence test using the results of #A\n",
    "## chi2_contingency imported in the first cell with all the other imports\n",
    "\n",
    "alpha = 0.05\n",
    "\n",
    "## An array is defined in order to use the chi2_contingency function\n",
    "chi2_test_array = np.array([mmlu_distribution, other_distribution])\n",
    "\n",
    "print(\"The null hypothesis H0 states that answer distribution is independent from the dataset.\")\n",
    "print(\"The alternative hypothesis H1 states that answer distribution is dataset dependent.\")\n",
    "\n",
    "res = chi2_contingency(chi2_test_array)\n",
    "print(res)\n",
    "\n",
    "if res.pvalue<alpha :\n",
    "    print(f\"pvalue = {res.pvalue} < alpha = {alpha} : the null hypothesis is rejected, answer distribution is not dataset independent\")\n",
    "if res.pvalue>alpha :\n",
    "    print(f\"pvalue = {res.pvalue} > alpha = {alpha} : the null hypothesis is valid, answer distribution is dataset independent\")"
   ]
  },
  {
   "cell_type": "markdown",
   "id": "2d3125ad-5a7e-44e7-999a-a0ff99855d39",
   "metadata": {},
   "source": [
    "### 2.3 (7 pt)\n",
    "\n",
    "Let's dive in deeper:\n",
    "\n",
    "A. What is language model X's mean accuracy conditioned on the four answer options for each dataset?\n",
    "\n",
    "B. Compare LM X's performance when the correct answer is \"A\" between the two datasets. Use a T-test with CI = 0.95. What do you conclude?\n",
    "\n",
    "C. Compare LM X's performance when the correct answer is \"A\" vs. \"C or D\" for each dataset. Use a T-test with CI = 0.95. What do you conclude?"
   ]
  },
  {
   "cell_type": "code",
   "execution_count": 36,
   "id": "39097a11-8efe-46d1-8bc3-5587bb58d199",
   "metadata": {},
   "outputs": [
    {
     "name": "stdout",
     "output_type": "stream",
     "text": [
      "The mean accuracy for model X on the mmlu dataset for option A is 0.9726877715704532\n",
      "The mean accuracy for model X on the mmlu dataset for option B is 0.799184505606524\n",
      "The mean accuracy for model X on the mmlu dataset for option C is 0.7079047898912724\n",
      "The mean accuracy for model X on the mmlu dataset for option D is 0.6335918694838192\n",
      "The mean accuracy for model X on the \"other\" dataset for option A is 0.974025974025974\n",
      "The mean accuracy for model X on the \"other\" dataset for option B is 0.8064516129032258\n",
      "The mean accuracy for model X on the \"other\" dataset for option C is 0.6764069264069265\n",
      "The mean accuracy for model X on the \"other\" dataset for option D is 0.6037441497659907\n"
     ]
    }
   ],
   "source": [
    "# A\n",
    "\n",
    "## A mean_accuracy function is defined to simplify the computation using the groupby function to create new dataframes on which the mean is immediately computed\n",
    "def mean_accuracy(df, model, dataset):\n",
    "    mean_accuracy = df.groupby('answer')['correct'].mean()\n",
    "    for answer, mean_accuracy in mean_accuracy.items():\n",
    "        print(f\"The mean accuracy for model {model} on the {dataset} dataset for option {answer} is {mean_accuracy}\")\n",
    "        \n",
    "mean_accuracy(df_mmlu_X, 'X', 'mmlu')\n",
    "mean_accuracy(df_other_X, 'X', '\"other\"')"
   ]
  },
  {
   "cell_type": "code",
   "execution_count": 37,
   "id": "9ae67c09",
   "metadata": {},
   "outputs": [
    {
     "name": "stdout",
     "output_type": "stream",
     "text": [
      "The null hypothesis H0 states that model performance is independent from the dataset when the answer is A.\n",
      "The alternative hypothesis H1 states that model performance is dependent on the dataset when the answer is A.\n",
      "pvalue = 0.8324287723934077 > alpha = 0.050000000000000044 : the null hypothesis is valid, performance is independent of the dataset for answer A\n"
     ]
    }
   ],
   "source": [
    "# B\n",
    "\n",
    "## alpha is computed\n",
    "CI = 0.95\n",
    "alpha = 1 - CI\n",
    " \n",
    "## A dataframe per dataset is defined to describe X's performance when the correct answer is 1\n",
    "## They are then converted to arrays for use in the scipy ttest_ind function \n",
    "df_mmlu_X_A = df_mmlu_X[df_mmlu_X['answer']=='A']\n",
    "df_other_X_A = df_other_X[df_other_X['answer']=='A']\n",
    "array_mmlu_X_A = df_mmlu_X_A['correct'].values\n",
    "array_other_X_A = df_other_X_A['correct'].values\n",
    "\n",
    "## The hypotheses are stated\n",
    "print(\"The null hypothesis H0 states that model performance is independent from the dataset when the answer is A.\")\n",
    "print(\"The alternative hypothesis H1 states that model performance is dependent on the dataset when the answer is A.\")\n",
    "\n",
    "## The test is performed and the p value extracted for conclusion\n",
    "res2 = ttest_ind(array_mmlu_X_A, array_other_X_A, equal_var=False)\n",
    "if res2.pvalue<alpha :\n",
    "    print(f\"pvalue = {res2.pvalue} < alpha = {alpha} : the null hypothesis is rejected, performance is dependent on the dataset for answer A\")\n",
    "if res2.pvalue>alpha :\n",
    "    print(f\"pvalue = {res2.pvalue} > alpha = {alpha} : the null hypothesis is valid, performance is independent of the dataset for answer A\")"
   ]
  },
  {
   "cell_type": "markdown",
   "id": "1bbe3ea1-5ceb-4948-ad89-c902b400296b",
   "metadata": {},
   "source": [
    "The null hypothesis being valid here implies that there is no significant difference between model X's accuracy for questions whose correct answer is A on either model. Its performance would thus be model independent in this case."
   ]
  },
  {
   "cell_type": "code",
   "execution_count": 39,
   "id": "636af6a6",
   "metadata": {},
   "outputs": [
    {
     "name": "stdout",
     "output_type": "stream",
     "text": [
      "The null hypothesis H0 states that model X's performance is independent of the correct answer\n",
      "The alternative hypothesis H1 states that model X's performance is dependent on the correct answer\n",
      "pvalue = 0.0 < alpha = 0.050000000000000044 : the null hypothesis is rejected, the performance is dependent on the correct answer on MMLU\n",
      "pvalue = 1.1880049447651487e-121 < alpha = 0.050000000000000044 : the null hypothesis is rejected, the performance is dependent on the correct answer on other\n"
     ]
    }
   ],
   "source": [
    "# C\n",
    "\n",
    "## The alpha value is the same as defined in 2.3B\n",
    "\n",
    "## In order to model the 'C or D' performance, new dataframes as defined as in 2.3B and concated\n",
    "## They are then converted into arrays as in 2.3B\n",
    "df_mmlu_X_C = df_mmlu_X[df_mmlu_X['answer']=='C']\n",
    "df_other_X_C = df_other_X[df_other_X['answer']=='C']\n",
    "df_mmlu_X_D = df_mmlu_X[df_mmlu_X['answer']=='D']\n",
    "df_other_X_D = df_other_X[df_other_X['answer']=='D']\n",
    "\n",
    "df_mmlu_X_CD = pd.concat([df_mmlu_X_C, df_mmlu_X_D], axis = 0)\n",
    "\n",
    "## The concacted datafram is then turned into an array\n",
    "array_mmlu_X_CD = df_mmlu_X_CD['correct'].values\n",
    "\n",
    "## The hypotheses are stated\n",
    "print(\"The null hypothesis H0 states that model X's performance is independent of the correct answer\")\n",
    "print(\"The alternative hypothesis H1 states that model X's performance is dependent on the correct answer\")\n",
    "\n",
    "## Independence test for mmlu\n",
    "res3 = ttest_ind(array_mmlu_X_A, array_mmlu_X_CD, equal_var=False)\n",
    "if res3.pvalue<alpha :\n",
    "    print(f\"pvalue = {res3.pvalue} < alpha = {alpha} : the null hypothesis is rejected, the performance is dependent on the correct answer on MMLU\")\n",
    "if res3.pvalue>alpha :\n",
    "    print(f\"pvalue = {res3.pvalue} > alpha = {alpha} : the null hypothesis is valid, the performance is not dependent on the correct answer on MMLU\")\n",
    "\n",
    "## Independence test for \"other\"\n",
    "df_other_X_CD = pd.concat([df_other_X_C, df_other_X_D], axis = 0)\n",
    "array_other_X_CD = df_other_X_CD['correct'].values\n",
    "res4 = ttest_ind(array_other_X_A, array_other_X_CD, equal_var=False)\n",
    "if res4.pvalue<alpha :\n",
    "    print(f\"pvalue = {res4.pvalue} < alpha = {alpha} : the null hypothesis is rejected, the performance is dependent on the correct answer on other\")\n",
    "if res4.pvalue>alpha :\n",
    "    print(f\"pvalue = {res4.pvalue} > alpha = {alpha} : the null hypothesis is valid, the performance is not dependent on the correct answer on other\")\n",
    "\n"
   ]
  },
  {
   "cell_type": "markdown",
   "id": "5d25c9bb-47e1-4900-8449-02e7405f417c",
   "metadata": {},
   "source": [
    "The null hypotheses - that model X's performance is independent of the correct answer - has been rejected on both the mmlu and 'other' datasets. "
   ]
  },
  {
   "cell_type": "markdown",
   "id": "33848ff9-2604-4e48-b5df-3207dc81e9a9",
   "metadata": {},
   "source": [
    "### 2.4 (2 pt)\n",
    "\n",
    "What an intriguing finding! \n",
    "\n",
    "A. Print the mean accuracies conditioned on the correct answer for all LMs for each dataset.\n",
    "\n",
    "B. /Discuss:/ What do you observe?"
   ]
  },
  {
   "cell_type": "code",
   "execution_count": 42,
   "id": "ec53ce2c-866e-440a-ac79-7813cb756782",
   "metadata": {},
   "outputs": [
    {
     "name": "stdout",
     "output_type": "stream",
     "text": [
      "The mean accuracy for model X on the mmlu dataset for option A is 0.9726877715704532\n",
      "The mean accuracy for model X on the mmlu dataset for option B is 0.799184505606524\n",
      "The mean accuracy for model X on the mmlu dataset for option C is 0.7079047898912724\n",
      "The mean accuracy for model X on the mmlu dataset for option D is 0.6335918694838192\n",
      "The mean accuracy for model X on the \"other\" dataset for option A is 0.974025974025974\n",
      "The mean accuracy for model X on the \"other\" dataset for option B is 0.8064516129032258\n",
      "The mean accuracy for model X on the \"other\" dataset for option C is 0.6764069264069265\n",
      "The mean accuracy for model X on the \"other\" dataset for option D is 0.6037441497659907\n",
      "The mean accuracy for model Y on the mmlu dataset for option A is 0.6238361266294227\n",
      "The mean accuracy for model Y on the mmlu dataset for option B is 0.6880733944954128\n",
      "The mean accuracy for model Y on the mmlu dataset for option C is 0.7334704672347928\n",
      "The mean accuracy for model Y on the mmlu dataset for option D is 0.9042524739235089\n",
      "The mean accuracy for model Y on the \"other\" dataset for option A is 0.6238361266294227\n",
      "The mean accuracy for model Y on the \"other\" dataset for option B is 0.6880733944954128\n",
      "The mean accuracy for model Y on the \"other\" dataset for option C is 0.7334704672347928\n",
      "The mean accuracy for model Y on the \"other\" dataset for option D is 0.9042524739235089\n",
      "The mean accuracy for model Z on the mmlu dataset for option A is 0.6430788330229671\n",
      "The mean accuracy for model Z on the mmlu dataset for option B is 0.6411824668705403\n",
      "The mean accuracy for model Z on the mmlu dataset for option C is 0.6691154863355863\n",
      "The mean accuracy for model Z on the mmlu dataset for option D is 0.6611393420700722\n",
      "The mean accuracy for model Z on the \"other\" dataset for option A is 0.6430788330229671\n",
      "The mean accuracy for model Z on the \"other\" dataset for option B is 0.6411824668705403\n",
      "The mean accuracy for model Z on the \"other\" dataset for option C is 0.6691154863355863\n",
      "The mean accuracy for model Z on the \"other\" dataset for option D is 0.6611393420700722\n"
     ]
    }
   ],
   "source": [
    "# A\n",
    "\n",
    "## The previously defined mean_accuracy function is reused\n",
    "\n",
    "mean_accuracy(df_mmlu_X, 'X', 'mmlu')\n",
    "mean_accuracy(df_other_X, 'X', '\"other\"')\n",
    "\n",
    "mean_accuracy(df_mmlu_Y, 'Y', 'mmlu')\n",
    "mean_accuracy(df_mmlu_Y, 'Y', '\"other\"')\n",
    "\n",
    "mean_accuracy(df_mmlu_Z, 'Z', 'mmlu')\n",
    "mean_accuracy(df_mmlu_Z, 'Z', '\"other\"')\n"
   ]
  },
  {
   "cell_type": "markdown",
   "id": "4ce58e47",
   "metadata": {},
   "source": [
    "B. /Discuss:/\n",
    "\n",
    "The results show that while LLM X is the best at answering questions whose correct answer is A, LLM Y is best for questions whose answer is D. meanwhile, LLM Z seems to be pretty balanced acrossed all question types. One could hypothesize that this is a result of bias amongst the different questions that the LLM is fed. "
   ]
  },
  {
   "cell_type": "markdown",
   "id": "ccdd9d3c-5a03-4b30-84f7-a7dfbee1373e",
   "metadata": {},
   "source": [
    "### 2.5 (2 pt)\n",
    "\n",
    "Concerned with your findings so far, you quickly consult with Ms. Sakota. After thinking it over, Ms. Sakota concludes that more tests are needed. She orders a second round of MMLU results. However, the clever Ms. Sakota thinks of the following twist: while keeping questions fixed, she randomly permutes the position of the correct answer. The new results can be found in the folder `data/task_2_5/`:\n",
    "```\n",
    "task_2_5/\n",
    "│\n",
    "└── lm_scores_mmlu_shuffle.csv\n",
    "```\n",
    "\n",
    "/Discuss:/ Why would Ms. Sakota do this?"
   ]
  },
  {
   "cell_type": "markdown",
   "id": "64cc586a",
   "metadata": {},
   "source": [
    "/Discuss:/\n",
    "\n",
    "As previously mentionned, one of the possible explanations for LLM's X and Y's differing accuracies per answer could be an acquired bias as they go through the question list. Permutating the correct answers around could eliminate this positional bias - assuming it is the explanation for the behaviour described in the previous questions. "
   ]
  },
  {
   "cell_type": "markdown",
   "id": "b9150ae0-dbaa-4c88-bf80-ec03127c6945",
   "metadata": {},
   "source": [
    "### 2.6 (4 pt)\n",
    "\n",
    "Increasingly sceptical of the language models' performance, you read up on proper testing practices. You stumble upon the concept of [test-rested stability](https://en.wikipedia.org/wiki/Repeatability), which roughtly states that:\n",
    "\n",
    "\"_Measurements taken by a single person or instrument on the same item, under the same conditions, and in a short period of time, should have the same results._\"\n",
    "\n",
    "In our case, we would assume an LM would have the same performance on a given question regardless of the correct answer position. One way of testing this is by using the following metric:\n",
    "\n",
    "$$\\text{test-retest metric} = \\frac{1}{N}\\sum_{i=1}^N \\frac{1}{M}\\sum_{j=1}^M c^i_0 c_j^i,$$\n",
    "\n",
    "where $c^i_0 \\in \\{0, 1\\}$ indicates whether the model answers the $i^{\\text{th}}$ question correctly (1 if correct, 0 if incorrect). $c_j^i$ indicates whether the model answers the $i^{\\text{th}}$ question correctly in the $j^{\\text{th}}$ shuffled version of the answer label content. Finally, $M$ is the total number of shuffles and $N$ is the dataset size.\n",
    "\n",
    "Task: compute the test-retest metric for each language model using the original `lm_scores_mmlu.csv` file and the new `lm_scores_mmlu_shuffle.csv` file. Using a bar plot, visualize your results by comparing the accuracy of the original `lm_scores_mmlu.csv` and the test-retest scores.\n",
    "\n",
    "**hints**\n",
    "- what is $M$ in our case?\n",
    "\n",
    "(bonus: no points, but so much sweet, sweet knowledge - check out [the following article](https://arxiv.org/pdf/2406.19470v1))"
   ]
  },
  {
   "cell_type": "markdown",
   "id": "66109f6f-11c6-4b13-9a6a-bd3bf4850acb",
   "metadata": {},
   "source": [
    "M corresponds to the number of reshuffles. Question 2.5's prompt states that Ms. Sakota \"randomly permutes the position of the correct answer\", implying that she only does so once. As such, we can set M to 1."
   ]
  },
  {
   "cell_type": "code",
   "execution_count": 48,
   "id": "cf8adf0b-2a10-423a-803b-97e58e79bab6",
   "metadata": {},
   "outputs": [
    {
     "name": "stdout",
     "output_type": "stream",
     "text": [
      "The test retest metric for LLM X is 0.5884062927496579.\n",
      "The test retest metric for LLM Y is 0.5716484268125855.\n",
      "The test retest metric for LLM Z is 0.44160396716826267.\n"
     ]
    }
   ],
   "source": [
    "## df_mmlu is taken as defined in task 2's prompt \n",
    "df_mmlu_shuffled = pd.read_csv('task_2_5/lm_scores_mmlu_shuffle.csv') \n",
    "\n",
    "df_mmlu_shuffled_X = df_mmlu_shuffled[df_mmlu_shuffled['model_name'] == 'X']\n",
    "df_mmlu_shuffled_Y = df_mmlu_shuffled[df_mmlu_shuffled['model_name'] == 'Y']\n",
    "df_mmlu_shuffled_Z = df_mmlu_shuffled[df_mmlu_shuffled['model_name'] == 'Z']\n",
    "\n",
    "array_mmlu_shuffled_X = df_mmlu_shuffled_X['correct'].values\n",
    "array_mmlu_shuffled_Y = df_mmlu_shuffled_Y['correct'].values\n",
    "array_mmlu_shuffled_Z = df_mmlu_shuffled_Z['correct'].values\n",
    "\n",
    "array_mmlu_X = df_mmlu_X['correct'].values\n",
    "array_mmlu_Y = df_mmlu_Y['correct'].values\n",
    "array_mmlu_Z = df_mmlu_Z['correct'].values\n",
    "\n",
    "def test_retest_metric(array1, array2, LLM_name):\n",
    "    trm = 1/len(array1)*np.sum(array1*array2)\n",
    "    print(f\"The test retest metric for LLM {LLM_name} is {trm}.\")\n",
    "\n",
    "test_retest_metric(array_mmlu_shuffled_X, array_mmlu_X, 'X')\n",
    "test_retest_metric(array_mmlu_shuffled_Y, array_mmlu_Y, 'Y')\n",
    "test_retest_metric(array_mmlu_shuffled_Z, array_mmlu_Z, 'Z')"
   ]
  },
  {
   "cell_type": "markdown",
   "id": "b70bee6e-0c81-4f5a-b1a8-16a96aa2ae17",
   "metadata": {},
   "source": [
    "### 2.7 (2 pt)\n",
    "\n",
    "A. Using the unshuffled data: For each LM, print the distribution of the answers they give as well as the accuracy conditioned on the answer they give.\n",
    "\n",
    "B. /Discuss:/ Describe what you observe\n",
    "\n",
    "[bonus: not scored, but again _that sweet, sweet knowledge_] Could you think of a plausible explanation?"
   ]
  },
  {
   "cell_type": "code",
   "execution_count": 50,
   "id": "4956581b-d047-46cb-ae71-1508a9a0b466",
   "metadata": {},
   "outputs": [
    {
     "name": "stdout",
     "output_type": "stream",
     "text": [
      "Model X answers A 4259 times on the mmlu dataset.\n",
      "Model X answers B 2659 times on the mmlu dataset.\n",
      "Model X answers C 2409 times on the mmlu dataset.\n",
      "Model X answers D 2369 times on the mmlu dataset.\n",
      "Model X answers A 1766 times on the \"other\" dataset.\n",
      "Model X answers B 981 times on the \"other\" dataset.\n",
      "Model X answers C 625 times on the \"other\" dataset.\n",
      "Model X answers D 387 times on the \"other\" dataset.\n",
      "Model Y answers A 1072 times on the mmlu dataset.\n",
      "Model Y answers B 2256 times on the mmlu dataset.\n",
      "Model Y answers C 3015 times on the mmlu dataset.\n",
      "Model Y answers D 5353 times on the mmlu dataset.\n",
      "Model Y answers A 692 times on the \"other\" dataset.\n",
      "Model Y answers B 802 times on the \"other\" dataset.\n",
      "Model Y answers C 909 times on the \"other\" dataset.\n",
      "Model Y answers D 1356 times on the \"other\" dataset.\n",
      "Model Z answers A 2176 times on the mmlu dataset.\n",
      "Model Z answers B 2885 times on the mmlu dataset.\n",
      "Model Z answers C 3237 times on the mmlu dataset.\n",
      "Model Z answers D 3398 times on the mmlu dataset.\n",
      "Model Z answers A 1034 times on the \"other\" dataset.\n",
      "Model Z answers B 1004 times on the \"other\" dataset.\n",
      "Model Z answers C 931 times on the \"other\" dataset.\n",
      "Model Z answers D 790 times on the \"other\" dataset.\n"
     ]
    }
   ],
   "source": [
    "# A\n",
    "\n",
    "## The distribution of answers given can be computed by cretaing new dataframes from the large ones and getting their lengths\n",
    "\n",
    "def answer_distribution(df, model, dataset):\n",
    "    for possibility in ['A', 'B', 'C', 'D']:\n",
    "        df_new = df[df['result'] == possibility]\n",
    "        distribution = len(df_new)\n",
    "        print(f\"Model {model} answers {possibility} {distribution} times on the {dataset} dataset.\")\n",
    "\n",
    "answer_distribution(df_mmlu_X, 'X', 'mmlu')\n",
    "answer_distribution(df_other_X, 'X', '\"other\"')\n",
    "\n",
    "answer_distribution(df_mmlu_Y, 'Y', 'mmlu')\n",
    "answer_distribution(df_other_Y, 'Y', '\"other\"')\n",
    "\n",
    "answer_distribution(df_mmlu_Z, 'Z', 'mmlu')\n",
    "answer_distribution(df_other_Z, 'Z', '\"other\"')\n",
    "\n",
    "##do we need a graph here?"
   ]
  },
  {
   "cell_type": "code",
   "execution_count": 51,
   "id": "03f67f44-cdcf-4e4b-86b6-8211d396d60e",
   "metadata": {},
   "outputs": [
    {
     "name": "stdout",
     "output_type": "stream",
     "text": [
      "The mean accuracy for model X on the mmlu dataset for answers A is 0.36792674336698755\n",
      "The mean accuracy for model X on the mmlu dataset for answers B is 0.884543061301241\n",
      "The mean accuracy for model X on the mmlu dataset for answers C is 1.0\n",
      "The mean accuracy for model X on the mmlu dataset for answers D is 1.0\n",
      "The mean accuracy for model X on the \"other\" dataset for answers A is 0.594563986409966\n",
      "The mean accuracy for model X on the \"other\" dataset for answers B is 0.9174311926605505\n",
      "The mean accuracy for model X on the \"other\" dataset for answers C is 1.0\n",
      "The mean accuracy for model X on the \"other\" dataset for answers D is 1.0\n",
      "The mean accuracy for model Y on the mmlu dataset for answers A is 0.9375\n",
      "The mean accuracy for model Y on the mmlu dataset for answers B is 0.8976063829787234\n",
      "The mean accuracy for model Y on the mmlu dataset for answers C is 0.8278606965174129\n",
      "The mean accuracy for model Y on the mmlu dataset for answers D is 0.6316084438632542\n",
      "The mean accuracy for model Y on the \"other\" dataset for answers A is 0.9739884393063584\n",
      "The mean accuracy for model Y on the \"other\" dataset for answers B is 0.9239401496259352\n",
      "The mean accuracy for model Y on the \"other\" dataset for answers C is 0.7755775577557755\n",
      "The mean accuracy for model Y on the \"other\" dataset for answers D is 0.4351032448377581\n",
      "The mean accuracy for model Z on the mmlu dataset for answers A is 0.47610294117647056\n",
      "The mean accuracy for model Z on the mmlu dataset for answers B is 0.6540727902946274\n",
      "The mean accuracy for model Z on the mmlu dataset for answers C is 0.7034291010194624\n",
      "The mean accuracy for model Z on the mmlu dataset for answers D is 0.7274867569158329\n",
      "The mean accuracy for model Z on the \"other\" dataset for answers A is 0.7098646034816247\n",
      "The mean accuracy for model Z on the \"other\" dataset for answers B is 0.7420318725099602\n",
      "The mean accuracy for model Z on the \"other\" dataset for answers C is 0.6573576799140709\n",
      "The mean accuracy for model Z on the \"other\" dataset for answers D is 0.549367088607595\n"
     ]
    }
   ],
   "source": [
    "## Mean accuracy conditioned on the answer\n",
    "## This question is the \"other way around\" of question 2.3. The mean_accuracy function can thus be reused with a simple tweak.\n",
    "def mean_accuracy(df, model, dataset):\n",
    "    mean_accuracy = df.groupby('result')['correct'].mean()\n",
    "    for result, mean_accuracy in mean_accuracy.items():\n",
    "        print(f\"The mean accuracy for model {model} on the {dataset} dataset for answers {result} is {mean_accuracy}\")\n",
    "\n",
    "mean_accuracy(df_mmlu_X, 'X', 'mmlu')\n",
    "mean_accuracy(df_other_X, 'X', '\"other\"')\n",
    "\n",
    "mean_accuracy(df_mmlu_Y, 'Y', 'mmlu')\n",
    "mean_accuracy(df_other_Y, 'Y', '\"other\"')\n",
    "\n",
    "mean_accuracy(df_mmlu_Z, 'Z', 'mmlu')\n",
    "mean_accuracy(df_other_Z, 'Z', '\"other\"')\n"
   ]
  },
  {
   "cell_type": "markdown",
   "id": "65639228",
   "metadata": {},
   "source": [
    "B. /Discuss:/\n",
    "\n",
    "The X and Y models see their accuracy decrease the more they answer a given question. Model X for instance has an accuracy of 1.0 when answering C and D (done 2409 and 2369 times respectively) which decreases to 0.368 for answer A which it answers 4259 times. This behaviour proves that models X and Y are biased towards answering questions with an A and D respectively. \n",
    "\n",
    "Model Z also demonstrates similar yet markedly less severe behaviour that is \"inverted\" from a dataset to another: going from A to D, its accuracy increases from 0.476 to 0.727 on the mmlu dataset yet decreases from 0.71 to 0.55 in the \"other\" dataset (it is important to note that its accuracy on \"other\" reaches its peak for B.\n",
    "\n",
    "We may now ask ourselves why. "
   ]
  },
  {
   "cell_type": "markdown",
   "id": "ce3186fe-ef8e-4af3-9a07-a6081d454e5a",
   "metadata": {},
   "source": [
    "## Task 3 (16 points): What do Questions and Answers look like for a Language Model?\n",
    "\n",
    "While you feel pretty good about the tests you conducted so far, something still bothers you: what if the language models don't see the data like you do? Suddenly, you receive a phone call from a wise AI sage in the West, _Westoda_:\n",
    "\n",
    "```\n",
    "\"Hmm, correct you are, young padawan, to question how the world is seen by large language models! Simple 'text' it is not, hmm? No, no, no! Characters and words, the way of puny humans, this is not, heh heh heh.\n",
    "\n",
    "'Tokens', they use, yes! Mysterious and powerful, these tokens are. Expand our vocabulary, they do, beyond the simple 'a to Z'. Chunky blocks of text, they become, yes! 'Hello world', a simple phrase it may seem. But to a language model, '[24912, 2375]' it might appear, yes! Confusing, it is, hmm?\n",
    "\n",
    "Wise, it would be, to explore these MMLU data points through the eyes of a language model, you think? Yes, yes! Much to learn, there is. The ways of the tokens, understand you must, if truly comprehend the great LMs, you wish to.\n",
    "Meditate on this, you should. The force of natural language processing, strong it is. But patience, you must have, my young padawan. For only through great study and contemplation, will the mysteries of the tokens reveal themselves to you, they will. Yes, hmmm!\"\n",
    "```\n",
    "\n",
    "Admittingly, Westoda at times speaks in riddles… However, he was explaining a crucial aspect of modern LMs called [Tokenization](https://learn.microsoft.com/en-us/dotnet/ai/conceptual/understanding-tokens):\n",
    "\n",
    "\n",
    "“Tokens are words, character sets, or combinations of words and punctuation that are used by [language models (LMs)] to decompose text into. Tokenization is the first step in training”\n",
    "\n",
    "Instead of characters, LMs process natural language using “tokens”. While this is useful for a number of reasons, it does at times introduce some “unintuitive” behavior…"
   ]
  },
  {
   "cell_type": "code",
   "execution_count": 54,
   "id": "e2c66517-938b-4331-9eea-1b23fe4ad9e7",
   "metadata": {},
   "outputs": [
    {
     "name": "stdout",
     "output_type": "stream",
     "text": [
      "humans see: \"hello world\" --> language models see: [24912, 2375]\n"
     ]
    }
   ],
   "source": [
    "# PROVIDED CODE\n",
    "\n",
    "try:\n",
    "    import tiktoken\n",
    "except Exception as e:\n",
    "    print('installing tiktoken package')\n",
    "    \n",
    "    !pip install tiktoken\n",
    "    \n",
    "    import tiktoken\n",
    "\n",
    "def tokenize_text(s):\n",
    "    enc = tiktoken.encoding_for_model('gpt-4o')\n",
    "    tokens = enc.encode(str(s))\n",
    "    return tokens\n",
    "\n",
    "example_string = 'hello world'\n",
    "print(f'humans see: \"{example_string}\" --> language models see: {tokenize_text(example_string)}')"
   ]
  },
  {
   "cell_type": "markdown",
   "id": "3c8019ee-7d52-496f-afff-c96f2f9db08c",
   "metadata": {},
   "source": [
    "### 3.1 (5 pt)\n",
    "\n",
    "Use the provided code in the cell above to \"see the world through the eyes of a language model\":\n",
    "\n",
    "A. Tokenize the questions of the original MMLU data provided in task 1: `task_1/mmlu_data/test.csv` and plot the token distribution (the frequency of each token).\n",
    "\n",
    "B. Same as (A), but now for the answers in columns (columns \"A\", \"B\", \"C\", and \"D\").\n",
    "\n",
    "C. Isolate the tokens for the strings \"A\", \"B\", \"C\", and \"D\", then, for their occurances in both questions and answers, print their relative distribution to each other.\n",
    "\n",
    "**hint**\n",
    "- There are a _lot_ of tokens, consider using a cutoff point and log scale\n",
    "- For (c), they should sum to 1"
   ]
  },
  {
   "cell_type": "code",
   "execution_count": 56,
   "id": "a9a1e97b-3a31-41b1-a9c3-fb84cb1740d9",
   "metadata": {},
   "outputs": [],
   "source": [
    "# A"
   ]
  },
  {
   "cell_type": "code",
   "execution_count": 57,
   "id": "fe1f8be8",
   "metadata": {},
   "outputs": [],
   "source": [
    "# B"
   ]
  },
  {
   "cell_type": "code",
   "execution_count": 58,
   "id": "cd392df7",
   "metadata": {},
   "outputs": [],
   "source": [
    "# C"
   ]
  },
  {
   "cell_type": "markdown",
   "id": "a674929c-68e1-4cd8-97b3-efa0cdae4874",
   "metadata": {},
   "source": [
    "### 3.2 (3 pt)\n",
    "\n",
    "What if the number of \"A\", \"B\", \"C\", and \"D\" tokens in the question and answer pairs could influence a language model's decisions?\n",
    "\n",
    "A. For each combined question-answers pair, compute: \n",
    "1. the number of \"A\", \"B\", \"C\", and \"D\" tokens; and\n",
    "2. the total number of tokens.\n",
    "3. then, group by the \"correct\" answer and compute the mean frequency of A, B, C, and D tokens and the total number of tokens. \n",
    "4. finally, print your results\n",
    "\n",
    "B. /Discuss:/ What do you think of the hypothesis that the frequency of A, B, C, and D tokens could influence answers?\n"
   ]
  },
  {
   "cell_type": "code",
   "execution_count": 60,
   "id": "25419cc1-f058-4c51-a0aa-577272b8b578",
   "metadata": {},
   "outputs": [],
   "source": [
    "# A"
   ]
  },
  {
   "cell_type": "markdown",
   "id": "3ea8a279",
   "metadata": {},
   "source": [
    "B. /Discuss:/"
   ]
  },
  {
   "cell_type": "markdown",
   "id": "af25ef95-d2ce-4112-87f7-8b0a52755e2a",
   "metadata": {},
   "source": [
    "### 3.3 (4 pt)\n",
    "\n",
    "Three of the most important considerations when deciding between language models are:\n",
    "\n",
    "Quality\n",
    "Costs\n",
    "Speed\n",
    "\n",
    "So far, much of your analysis has focused on quality. However, the government has indicated that they are quite concerned about both the total costs and speed as well. Specifically, it has been brought to their attention that a new `turbo` model has been launched! \n",
    "\n",
    "This model is both cheaper and faster than the models you evaluated so far. However, there is a catch: the context length* is much smaller than that of the other LMS. Namely, it can only process **300** tokens during inference. Meanwhile, the other models can process up to 100K tokens! \n",
    "\n",
    "*_The “context length” refers to the number of tokens that can be given to an LM as input._\n",
    "\n",
    "A. Are there subjects where using the cheaper model might be problematic? I.e., where part of the question and answer(s) might not fit completely in the context?\n",
    "\n",
    "B. /Discuss:/ Can you think of a strategy that would balance the needs of the government?\n",
    "\n",
    "**hint**:\n",
    "- An LM needs to have both the question and the different answer options in its context"
   ]
  },
  {
   "cell_type": "code",
   "execution_count": 63,
   "id": "a88a6fa3-2735-44d7-9944-076cc9f679ed",
   "metadata": {},
   "outputs": [],
   "source": [
    "# A"
   ]
  },
  {
   "cell_type": "markdown",
   "id": "47f8a44a",
   "metadata": {},
   "source": [
    "B. /Dicsuss:/"
   ]
  },
  {
   "cell_type": "markdown",
   "id": "110f07bf-558f-467c-8f66-d88db561d455",
   "metadata": {},
   "source": [
    "### 3.4 (4 pt)\n",
    "\n",
    "/Discuss:/ The time has come to give your final recommendation on the use of LMs in education to the government! Taking into account everything you analyzed in all the preceding tasks (1, 2, and 3), please write a short recommendation consisting of 4 bullet points discussing your concerns.\n",
    "\n",
    "**hint**\n",
    "- Try to use the MECE framework: _Mutually Exclusive Collectively Exhaustive_"
   ]
  },
  {
   "cell_type": "markdown",
   "id": "434a5fa5",
   "metadata": {},
   "source": [
    "/Discuss:/\n",
    "1. \n",
    "\n",
    "2. \n",
    "\n",
    "3. \n",
    "\n",
    "4. "
   ]
  }
 ],
 "metadata": {
  "kernelspec": {
   "display_name": "Python 3 (ipykernel)",
   "language": "python",
   "name": "python3"
  },
  "language_info": {
   "codemirror_mode": {
    "name": "ipython",
    "version": 3
   },
   "file_extension": ".py",
   "mimetype": "text/x-python",
   "name": "python",
   "nbconvert_exporter": "python",
   "pygments_lexer": "ipython3",
   "version": "3.12.4"
  }
 },
 "nbformat": 4,
 "nbformat_minor": 5
}
