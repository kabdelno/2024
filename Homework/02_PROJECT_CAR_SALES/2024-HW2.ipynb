{
 "cells": [
  {
   "cell_type": "markdown",
   "id": "7952d5ab",
   "metadata": {},
   "source": [
    "# Homework 2 (HW2)\n",
    "\n",
    "By the end of this homework, we expect you to be able to:\n",
    "\n",
    "- Preprocess data and make it amenable to statistical analysis and machine learning models;\n",
    "- Train and test out-of-the-box machine learning models in `sklearn`;\n",
    "- Carry out simple multivariate regression analyses using `statsmodels`;\n",
    "- Use propensity score matching to estimate treatment effects;\n",
    "\n",
    "---\n",
    "\n",
    "## Important Dates\n",
    "\n",
    "- Homework release: Fri 15 Nov 2024\n",
    "- **Homework due**: Fri 29 Nov 2024, 23:59\n",
    "- Grade release: Mon 09 Dec 2024\n",
    "\n",
    "---\n",
    "\n",
    "##  Some rules\n",
    "\n",
    "1. You are allowed to use any built-in Python library that is included in the `requirements.txt` for this homework. If you use any additional library, this may complicate the grading process, and we reserve the right to penalize your grade for unnecessary complexity of the solution. All the questions can be solved with the libraries in `requirements.txt`.\n",
    "2. Please write all your comments in English, and use meaningful variable names in your code. Your repo should have a single notebook (plus the required data files) in the *master/main* branch. If there are multiple notebooks present, we will **not grade** anything.\n",
    "3. We will **not run your notebook for you**! Rather, we will grade it as is, which means that only the results contained in your evaluated code cells will be considered, and we will not see the results in unevaluated code cells. Thus, be sure to hand in a **fully-run and evaluated notebook**. In order to check whether everything looks as intended, you can check the rendered notebook on the GitHub website once you have pushed your solution there.\n",
    "4. In continuation to the previous point on additional library, interactive plots, such as those generated using `plotly`, should be **strictly avoided**!\n",
    "\n",
    "**A Note on using Language Models (LMs)**\n",
    "\n",
    "If you try hard enough, you will likely get away with cheating. Fortunately, our job is not to police, but rather to educate! So, please consider the following:\n",
    "\n",
    "Presumably, you are taking this course to learn something! LMs are not always right ([they often fail in silly ways](https://community.openai.com/t/why-9-11-is-larger-than-9-9-incredible/869824/4)). This course should prepare you to detect when they are wrong!\n",
    "Some of the TAs on this course literally published many works on detecting machine-generated text.\n",
    "\n",
    "Here LLM includes but not limited to chatbots like ChatGPT, coding assistants like Copilot. Do not even use them to prettify your code or correct English. If you are caught using LLMs, you will be reported to the instructor and subject to the consequences. \n",
    "\n",
    "\n",
    "---\n",
    "\n",
    "\n",
    "## Grading \n",
    "- The homework has a total of 100 points, distributed as follows:\n",
    "    - Part 1: Data Preprocessing ( 20 points)\n",
    "    - Part 2: Linear Regression (30 points)\n",
    "    - Part 3: Supervised Learning (40 points)\n",
    "    - Part 4: Propensity Score Matching (10 points)"
   ]
  },
  {
   "cell_type": "markdown",
   "id": "2b99beda",
   "metadata": {},
   "source": [
    "## Context\n",
    "\n",
    "Within EPFL's master program, you are excited to start an internship as a data scientist.\n",
    "After rounds of interviews, you have been selected to work with the biggest car dealership in Switzerland !\n",
    "\n",
    "Your mentor at the company Tim, has explained to you that the company is interested in a pricing model for used cars. \n",
    "\n",
    "- Tim: \"We have a lot of used cars in our inventory, and we need to determine the price at which we should sell these cars. We have some ideas about the factors that influence the price of a used car, but so far we have just been using our experience and intuition to determine the price of a used car. Sometimes it works, but probably we can do better and a more data-driven approach would also help our new employees in the sales team as they have less experience.\"\n",
    "\n",
    "- You: \"That sounds like a great project! What kind of data do we have?\"\n",
    "\n",
    "- Tim: \"We sell all kinds of cars here, but maybe we can start with a specific brand and model. For example, the Toyota Corolla is the best-selling car worldwide in 2023, and we have a lot of data on it. We can start by analyzing the data on used Toyota Corolla cars. If it works well, we can extend the analysis to other brands.\"\n",
    "\n",
    "The dataset contains the following columns:\n",
    "\n",
    "- `Age`: Age of the car in months.\n",
    "- `Mileage`: Number of distance the car has been driven. (km or miles)\n",
    "- `FuelType`: Fuel type of the car (Petrol, Diesel, or CNG)\n",
    "- `HP`: Horsepower\n",
    "- `MetColor`: Is the color of the car metallic? (Yes=1, No=0)\n",
    "- `Automatic`: Is the car automatic? (Yes=1, No=0)\n",
    "- `CC`: Cylinder volume in cubic centimeters\n",
    "- `Doors`: Number of doors\n",
    "- `Weight`: Weight of the car in kilograms\n",
    "- `Price`: Price of the car in euros\n",
    "\n",
    "\n",
    "## Data\n",
    "\n",
    "The data is provided in the `data` folder and it contains the following 3 csv files:\n",
    "- `Task1-2.ToyotaCorolla-clean.csv` and `Task1-2.ToyotaCorolla-raw.csv` for Part 1 and Part 2\n",
    "- `Task3.ToyotaCorolla_sales_3months.csv` for Part 3\n",
    "- `Task4.ToyotaCorolla_discount_sales` for Part 4\n",
    "\n",
    "You should not use any other data source for this homework.\n",
    "\n",
    "## References:\n",
    "\n",
    "The data is based on the ToyotaCorolla dataset from the UCI Machine Learning Repository [here](https://archive.ics.uci.edu/ml/datasets/Toyota+Corolla).\n",
    "We have made some modifications to the original dataset, so please use the data provided in the `data` folder in the course repo."
   ]
  },
  {
   "cell_type": "markdown",
   "id": "13a42aa7",
   "metadata": {},
   "source": [
    "## Task 1 (20 pts) - Get to know the data"
   ]
  },
  {
   "cell_type": "code",
   "execution_count": 1,
   "id": "faafd098",
   "metadata": {},
   "outputs": [],
   "source": [
    "import pandas as pd\n",
    "import numpy as np\n",
    "import matplotlib.pyplot as plt\n",
    "import statsmodels.api as sm\n",
    "import random\n",
    "import sklearn\n",
    "\n",
    "# fix random seed for reproducibility\n",
    "np.random.seed(42)\n",
    "random.seed(42)\n",
    "\n",
    "\n"
   ]
  },
  {
   "cell_type": "markdown",
   "id": "09a1d5a5",
   "metadata": {},
   "source": [
    "\n",
    "**1.1 (2 pts)**: Load the data from the file `Task1-2.ToyotaCorolla-raw.csv` into a pandas DataFrame. Display the first 5 rows of the DataFrame. Hint: A naive loading of the data will raise an error. You will need to figure out how to load the data correctly. (Hint: localise which row is causing the error)"
   ]
  },
  {
   "cell_type": "code",
   "execution_count": 2,
   "id": "ce30454b",
   "metadata": {},
   "outputs": [
    {
     "data": {
      "text/html": [
       "<div>\n",
       "<style scoped>\n",
       "    .dataframe tbody tr th:only-of-type {\n",
       "        vertical-align: middle;\n",
       "    }\n",
       "\n",
       "    .dataframe tbody tr th {\n",
       "        vertical-align: top;\n",
       "    }\n",
       "\n",
       "    .dataframe thead th {\n",
       "        text-align: right;\n",
       "    }\n",
       "</style>\n",
       "<table border=\"1\" class=\"dataframe\">\n",
       "  <thead>\n",
       "    <tr style=\"text-align: right;\">\n",
       "      <th></th>\n",
       "      <th>Price</th>\n",
       "      <th>Age</th>\n",
       "      <th>Mileage</th>\n",
       "      <th>FuelType</th>\n",
       "      <th>HP</th>\n",
       "      <th>MetColor</th>\n",
       "      <th>Automatic</th>\n",
       "      <th>CC</th>\n",
       "      <th>Doors</th>\n",
       "      <th>Weight</th>\n",
       "      <th>Currency</th>\n",
       "    </tr>\n",
       "  </thead>\n",
       "  <tbody>\n",
       "    <tr>\n",
       "      <th>0</th>\n",
       "      <td>13500.0</td>\n",
       "      <td>23.0</td>\n",
       "      <td>46986.0</td>\n",
       "      <td>Diesel</td>\n",
       "      <td>90.0</td>\n",
       "      <td>1.0</td>\n",
       "      <td>0.0</td>\n",
       "      <td>2000.0</td>\n",
       "      <td>3.0</td>\n",
       "      <td>1165.0</td>\n",
       "      <td>EURO</td>\n",
       "    </tr>\n",
       "    <tr>\n",
       "      <th>1</th>\n",
       "      <td>11878.0</td>\n",
       "      <td>23.0</td>\n",
       "      <td>72937.0</td>\n",
       "      <td>Diesel</td>\n",
       "      <td>90.0</td>\n",
       "      <td>1.0</td>\n",
       "      <td>0.0</td>\n",
       "      <td>2000.0</td>\n",
       "      <td>3.0</td>\n",
       "      <td>1165.0</td>\n",
       "      <td>CHF</td>\n",
       "    </tr>\n",
       "    <tr>\n",
       "      <th>2</th>\n",
       "      <td>12050.0</td>\n",
       "      <td>24.0</td>\n",
       "      <td>41711.0</td>\n",
       "      <td>Diesel</td>\n",
       "      <td>90.0</td>\n",
       "      <td>1.0</td>\n",
       "      <td>0.0</td>\n",
       "      <td>2000.0</td>\n",
       "      <td>3.0</td>\n",
       "      <td>1165.0</td>\n",
       "      <td>CHF</td>\n",
       "    </tr>\n",
       "    <tr>\n",
       "      <th>3</th>\n",
       "      <td>12914.0</td>\n",
       "      <td>26.0</td>\n",
       "      <td>48000.0</td>\n",
       "      <td>Diesel</td>\n",
       "      <td>90.0</td>\n",
       "      <td>0.0</td>\n",
       "      <td>0.0</td>\n",
       "      <td>2000.0</td>\n",
       "      <td>3.0</td>\n",
       "      <td>1165.0</td>\n",
       "      <td>CHF</td>\n",
       "    </tr>\n",
       "    <tr>\n",
       "      <th>4</th>\n",
       "      <td>11878.0</td>\n",
       "      <td>30.0</td>\n",
       "      <td>38500.0</td>\n",
       "      <td>Diesel</td>\n",
       "      <td>90.0</td>\n",
       "      <td>0.0</td>\n",
       "      <td>0.0</td>\n",
       "      <td>2000.0</td>\n",
       "      <td>3.0</td>\n",
       "      <td>1170.0</td>\n",
       "      <td>CHF</td>\n",
       "    </tr>\n",
       "  </tbody>\n",
       "</table>\n",
       "</div>"
      ],
      "text/plain": [
       "     Price   Age  Mileage FuelType    HP  MetColor  Automatic      CC  Doors  \\\n",
       "0  13500.0  23.0  46986.0   Diesel  90.0       1.0        0.0  2000.0    3.0   \n",
       "1  11878.0  23.0  72937.0   Diesel  90.0       1.0        0.0  2000.0    3.0   \n",
       "2  12050.0  24.0  41711.0   Diesel  90.0       1.0        0.0  2000.0    3.0   \n",
       "3  12914.0  26.0  48000.0   Diesel  90.0       0.0        0.0  2000.0    3.0   \n",
       "4  11878.0  30.0  38500.0   Diesel  90.0       0.0        0.0  2000.0    3.0   \n",
       "\n",
       "   Weight Currency  \n",
       "0  1165.0     EURO  \n",
       "1  1165.0      CHF  \n",
       "2  1165.0      CHF  \n",
       "3  1165.0      CHF  \n",
       "4  1170.0      CHF  "
      ]
     },
     "execution_count": 2,
     "metadata": {},
     "output_type": "execute_result"
    }
   ],
   "source": [
    "#corolla_raw = pd.read_csv(\"data/Task1-2.ToyotaCorolla-raw.csv\", sep = ',')\n",
    "#corolla_raw.head(36)\n",
    "\n",
    "## Initially running the two lines of code above yielded the following error message :\n",
    "## \"ParserError: Error tokenizing data. C error: Expected 11 fields in line 33, saw 12\"\n",
    "## The error originates in the price of the car being given as 15,646.9 instead of 15646.9, adding an unwanted delimiter\n",
    "## The 'on bad lines' function is thus sued to skip that line initially yet still give a warning\n",
    "\n",
    "corolla_raw = pd.read_csv(\"data/Task1-2.ToyotaCorolla-raw.csv\", sep = ',', skiprows=[32])\n",
    "corolla_raw.head(5)"
   ]
  },
  {
   "cell_type": "markdown",
   "id": "c42b1ea6",
   "metadata": {},
   "source": [
    "Line 33 is temporarily skipped"
   ]
  },
  {
   "cell_type": "markdown",
   "id": "413fa896",
   "metadata": {},
   "source": [
    "**1.2 (2 pts)**: Check if there are nan values in the Dataframe. If there are, try to find out which row is problematic and fix it. If you can't fix it, drop the row."
   ]
  },
  {
   "cell_type": "code",
   "execution_count": 3,
   "id": "73dda0dd",
   "metadata": {},
   "outputs": [
    {
     "name": "stdout",
     "output_type": "stream",
     "text": [
      "                                                Price  Age Mileage FuelType  \\\n",
      "905  8423.0;68;58860.0;Petrol;110;1;0;1600;3;1055;CHF  NaN     NaN      NaN   \n",
      "\n",
      "     HP  MetColor  Automatic  CC  Doors  Weight Currency  \n",
      "905 NaN       NaN        NaN NaN    NaN     NaN      NaN  \n"
     ]
    }
   ],
   "source": [
    "print(corolla_raw[corolla_raw.isna().any(axis=1)])"
   ]
  },
  {
   "cell_type": "markdown",
   "id": "72bb46c6",
   "metadata": {},
   "source": [
    "The problematic row has been identified. It has semi-colons as delimiters instead of commas, hence the error. "
   ]
  },
  {
   "cell_type": "code",
   "execution_count": 4,
   "id": "cf15bd08",
   "metadata": {},
   "outputs": [
    {
     "data": {
      "text/html": [
       "<div>\n",
       "<style scoped>\n",
       "    .dataframe tbody tr th:only-of-type {\n",
       "        vertical-align: middle;\n",
       "    }\n",
       "\n",
       "    .dataframe tbody tr th {\n",
       "        vertical-align: top;\n",
       "    }\n",
       "\n",
       "    .dataframe thead th {\n",
       "        text-align: right;\n",
       "    }\n",
       "</style>\n",
       "<table border=\"1\" class=\"dataframe\">\n",
       "  <thead>\n",
       "    <tr style=\"text-align: right;\">\n",
       "      <th></th>\n",
       "      <th>Price</th>\n",
       "      <th>Age</th>\n",
       "      <th>Mileage</th>\n",
       "      <th>FuelType</th>\n",
       "      <th>HP</th>\n",
       "      <th>MetColor</th>\n",
       "      <th>Automatic</th>\n",
       "      <th>CC</th>\n",
       "      <th>Doors</th>\n",
       "      <th>Weight</th>\n",
       "      <th>Currency</th>\n",
       "    </tr>\n",
       "  </thead>\n",
       "  <tbody>\n",
       "    <tr>\n",
       "      <th>0</th>\n",
       "      <td>13500.0</td>\n",
       "      <td>23.0</td>\n",
       "      <td>46986.0</td>\n",
       "      <td>Diesel</td>\n",
       "      <td>90.0</td>\n",
       "      <td>1.0</td>\n",
       "      <td>0.0</td>\n",
       "      <td>2000.0</td>\n",
       "      <td>3.0</td>\n",
       "      <td>1165.0</td>\n",
       "      <td>EURO</td>\n",
       "    </tr>\n",
       "    <tr>\n",
       "      <th>1</th>\n",
       "      <td>11878.0</td>\n",
       "      <td>23.0</td>\n",
       "      <td>72937.0</td>\n",
       "      <td>Diesel</td>\n",
       "      <td>90.0</td>\n",
       "      <td>1.0</td>\n",
       "      <td>0.0</td>\n",
       "      <td>2000.0</td>\n",
       "      <td>3.0</td>\n",
       "      <td>1165.0</td>\n",
       "      <td>CHF</td>\n",
       "    </tr>\n",
       "    <tr>\n",
       "      <th>2</th>\n",
       "      <td>12050.0</td>\n",
       "      <td>24.0</td>\n",
       "      <td>41711.0</td>\n",
       "      <td>Diesel</td>\n",
       "      <td>90.0</td>\n",
       "      <td>1.0</td>\n",
       "      <td>0.0</td>\n",
       "      <td>2000.0</td>\n",
       "      <td>3.0</td>\n",
       "      <td>1165.0</td>\n",
       "      <td>CHF</td>\n",
       "    </tr>\n",
       "    <tr>\n",
       "      <th>3</th>\n",
       "      <td>12914.0</td>\n",
       "      <td>26.0</td>\n",
       "      <td>48000.0</td>\n",
       "      <td>Diesel</td>\n",
       "      <td>90.0</td>\n",
       "      <td>0.0</td>\n",
       "      <td>0.0</td>\n",
       "      <td>2000.0</td>\n",
       "      <td>3.0</td>\n",
       "      <td>1165.0</td>\n",
       "      <td>CHF</td>\n",
       "    </tr>\n",
       "    <tr>\n",
       "      <th>4</th>\n",
       "      <td>11878.0</td>\n",
       "      <td>30.0</td>\n",
       "      <td>38500.0</td>\n",
       "      <td>Diesel</td>\n",
       "      <td>90.0</td>\n",
       "      <td>0.0</td>\n",
       "      <td>0.0</td>\n",
       "      <td>2000.0</td>\n",
       "      <td>3.0</td>\n",
       "      <td>1170.0</td>\n",
       "      <td>CHF</td>\n",
       "    </tr>\n",
       "  </tbody>\n",
       "</table>\n",
       "</div>"
      ],
      "text/plain": [
       "     Price   Age  Mileage FuelType    HP  MetColor  Automatic      CC  Doors  \\\n",
       "0  13500.0  23.0  46986.0   Diesel  90.0       1.0        0.0  2000.0    3.0   \n",
       "1  11878.0  23.0  72937.0   Diesel  90.0       1.0        0.0  2000.0    3.0   \n",
       "2  12050.0  24.0  41711.0   Diesel  90.0       1.0        0.0  2000.0    3.0   \n",
       "3  12914.0  26.0  48000.0   Diesel  90.0       0.0        0.0  2000.0    3.0   \n",
       "4  11878.0  30.0  38500.0   Diesel  90.0       0.0        0.0  2000.0    3.0   \n",
       "\n",
       "   Weight Currency  \n",
       "0  1165.0     EURO  \n",
       "1  1165.0      CHF  \n",
       "2  1165.0      CHF  \n",
       "3  1165.0      CHF  \n",
       "4  1170.0      CHF  "
      ]
     },
     "execution_count": 4,
     "metadata": {},
     "output_type": "execute_result"
    }
   ],
   "source": [
    "corolla_raw.drop(index=905, inplace = True)\n",
    "corolla_raw.head(5)"
   ]
  },
  {
   "cell_type": "markdown",
   "id": "d90a678b",
   "metadata": {},
   "source": [
    "**1.3 (4 pts): Compute the mean, median of the `Price` column.**\n",
    "\n",
    "1. Compute the mean and median of the `Price` column. If you encounter error, try to understand why this error is happening and propose a solution.\n",
    "2. After computing the mean and median, do you think they are reasonable? If not, what could be the reason for this? \n",
    "  \n",
    "Hint: Is all values in the `Price` column numerical?\n"
   ]
  },
  {
   "cell_type": "code",
   "execution_count": 5,
   "id": "2c845f56",
   "metadata": {},
   "outputs": [
    {
     "name": "stdout",
     "output_type": "stream",
     "text": [
      "10730662030331.08\n",
      "8595.0\n"
     ]
    }
   ],
   "source": [
    "#mean_price = corolla_raw['Price'].mean()\n",
    "## The basic code does not work as a number of rows have prices in quotation marks. \n",
    "## These are strings that must be either removed or ideally converted into floats\n",
    "\n",
    "corolla_raw['Price'] = corolla_raw['Price'].str.replace(',', '')\n",
    "corolla_raw['Price'] = corolla_raw['Price'].str.replace('£', '')\n",
    "corolla_raw['Price'] = pd.to_numeric(corolla_raw['Price'], errors='coerce')\n",
    "\n",
    "mean_price = corolla_raw['Price'].mean()\n",
    "print(mean_price)\n",
    "median_price = corolla_raw['Price'].median()\n",
    "print(median_price)"
   ]
  },
  {
   "cell_type": "markdown",
   "id": "105756b4",
   "metadata": {},
   "source": [
    "The price does not make sense. Seems that there is a problematic value(s) somewhere - probably very few as the median is reasonable. "
   ]
  },
  {
   "cell_type": "code",
   "execution_count": 6,
   "id": "3f0abbf2",
   "metadata": {},
   "outputs": [
    {
     "name": "stdout",
     "output_type": "stream",
     "text": [
      "0\n",
      "6\n",
      "7\n",
      "8\n",
      "14\n",
      "16\n",
      "33\n",
      "1.5398499999999998e+16\n"
     ]
    }
   ],
   "source": [
    "maximum_price = 0\n",
    "for index, row in corolla_raw.iterrows():\n",
    "    if row['Price'] > maximum_price:\n",
    "        maximum_price=row['Price']\n",
    "        print(index)\n",
    "print(maximum_price)\n",
    "\n",
    "corolla_raw.loc[33]\n",
    "\n",
    "corolla_raw.loc[33, 'Price'] = 1539.85\n"
   ]
  },
  {
   "cell_type": "code",
   "execution_count": 7,
   "id": "44e8c27e",
   "metadata": {},
   "outputs": [
    {
     "name": "stdout",
     "output_type": "stream",
     "text": [
      "9426.230870313588\n"
     ]
    }
   ],
   "source": [
    "mean_price = corolla_raw['Price'].mean()\n",
    "print(mean_price)"
   ]
  },
  {
   "cell_type": "markdown",
   "id": "10d771da",
   "metadata": {},
   "source": [
    "1.3 à nettoyer c'est très moche"
   ]
  },
  {
   "cell_type": "markdown",
   "id": "17be3a32",
   "metadata": {},
   "source": [
    "**1.4 (4 pts): Convert Units**\n",
    "\n",
    "From now on, we will work with the cleaned data `Task1-2.ToyotaCorolla-clean.csv`. Read it into a DataFrame.\n",
    "\n",
    "You notice that some prices are in CHF (Swiss Francs), while others are in EUR (Euros) or GBP (British Pounds). Additionally, for cars priced in GBP, the mileage is in miles rather than kilometers.\n",
    "\n",
    "For consistency, convert all prices to CHF and all distances to kilometers.\n",
    "\n",
    "- Exchange rates:\n",
    "  - 1 CHF = 1.05 EUR\n",
    "  - 1 GBP = 1.15 CHF\n",
    "  - 1 mile = 1.61 km\n",
    "\n",
    "Make the following conversions:\n",
    "1. Convert prices in EUR or GBP to CHF, rounding to the nearest integer.\n",
    "2. Convert distances in miles (for GBP cars) to kilometers, rounding to the nearest integer.\n",
    "3. Drop the 'Currency' column.\n",
    "4. Calculate the min, mean, median and max of the 'Price' and 'Distance' columns after the conversion."
   ]
  },
  {
   "cell_type": "code",
   "execution_count": 8,
   "id": "b49ba1f2",
   "metadata": {},
   "outputs": [
    {
     "data": {
      "text/html": [
       "<div>\n",
       "<style scoped>\n",
       "    .dataframe tbody tr th:only-of-type {\n",
       "        vertical-align: middle;\n",
       "    }\n",
       "\n",
       "    .dataframe tbody tr th {\n",
       "        vertical-align: top;\n",
       "    }\n",
       "\n",
       "    .dataframe thead th {\n",
       "        text-align: right;\n",
       "    }\n",
       "</style>\n",
       "<table border=\"1\" class=\"dataframe\">\n",
       "  <thead>\n",
       "    <tr style=\"text-align: right;\">\n",
       "      <th></th>\n",
       "      <th>Price</th>\n",
       "      <th>Age</th>\n",
       "      <th>Mileage</th>\n",
       "      <th>FuelType</th>\n",
       "      <th>HP</th>\n",
       "      <th>MetColor</th>\n",
       "      <th>Automatic</th>\n",
       "      <th>CC</th>\n",
       "      <th>Doors</th>\n",
       "      <th>Weight</th>\n",
       "      <th>Currency</th>\n",
       "    </tr>\n",
       "  </thead>\n",
       "  <tbody>\n",
       "    <tr>\n",
       "      <th>0</th>\n",
       "      <td>13500.0</td>\n",
       "      <td>23</td>\n",
       "      <td>46986.0</td>\n",
       "      <td>Diesel</td>\n",
       "      <td>90</td>\n",
       "      <td>1</td>\n",
       "      <td>0</td>\n",
       "      <td>2000</td>\n",
       "      <td>3</td>\n",
       "      <td>1165</td>\n",
       "      <td>EURO</td>\n",
       "    </tr>\n",
       "    <tr>\n",
       "      <th>1</th>\n",
       "      <td>11878.0</td>\n",
       "      <td>23</td>\n",
       "      <td>72937.0</td>\n",
       "      <td>Diesel</td>\n",
       "      <td>90</td>\n",
       "      <td>1</td>\n",
       "      <td>0</td>\n",
       "      <td>2000</td>\n",
       "      <td>3</td>\n",
       "      <td>1165</td>\n",
       "      <td>CHF</td>\n",
       "    </tr>\n",
       "    <tr>\n",
       "      <th>2</th>\n",
       "      <td>12050.0</td>\n",
       "      <td>24</td>\n",
       "      <td>41711.0</td>\n",
       "      <td>Diesel</td>\n",
       "      <td>90</td>\n",
       "      <td>1</td>\n",
       "      <td>0</td>\n",
       "      <td>2000</td>\n",
       "      <td>3</td>\n",
       "      <td>1165</td>\n",
       "      <td>CHF</td>\n",
       "    </tr>\n",
       "    <tr>\n",
       "      <th>3</th>\n",
       "      <td>12914.0</td>\n",
       "      <td>26</td>\n",
       "      <td>48000.0</td>\n",
       "      <td>Diesel</td>\n",
       "      <td>90</td>\n",
       "      <td>0</td>\n",
       "      <td>0</td>\n",
       "      <td>2000</td>\n",
       "      <td>3</td>\n",
       "      <td>1165</td>\n",
       "      <td>CHF</td>\n",
       "    </tr>\n",
       "    <tr>\n",
       "      <th>4</th>\n",
       "      <td>11878.0</td>\n",
       "      <td>30</td>\n",
       "      <td>38500.0</td>\n",
       "      <td>Diesel</td>\n",
       "      <td>90</td>\n",
       "      <td>0</td>\n",
       "      <td>0</td>\n",
       "      <td>2000</td>\n",
       "      <td>3</td>\n",
       "      <td>1170</td>\n",
       "      <td>CHF</td>\n",
       "    </tr>\n",
       "    <tr>\n",
       "      <th>5</th>\n",
       "      <td>11187.0</td>\n",
       "      <td>32</td>\n",
       "      <td>61000.0</td>\n",
       "      <td>Diesel</td>\n",
       "      <td>90</td>\n",
       "      <td>0</td>\n",
       "      <td>0</td>\n",
       "      <td>2000</td>\n",
       "      <td>3</td>\n",
       "      <td>1170</td>\n",
       "      <td>CHF</td>\n",
       "    </tr>\n",
       "    <tr>\n",
       "      <th>6</th>\n",
       "      <td>14599.0</td>\n",
       "      <td>27</td>\n",
       "      <td>94612.0</td>\n",
       "      <td>Diesel</td>\n",
       "      <td>90</td>\n",
       "      <td>1</td>\n",
       "      <td>0</td>\n",
       "      <td>2000</td>\n",
       "      <td>3</td>\n",
       "      <td>1245</td>\n",
       "      <td>CHF</td>\n",
       "    </tr>\n",
       "    <tr>\n",
       "      <th>7</th>\n",
       "      <td>16068.0</td>\n",
       "      <td>30</td>\n",
       "      <td>75889.0</td>\n",
       "      <td>Diesel</td>\n",
       "      <td>90</td>\n",
       "      <td>1</td>\n",
       "      <td>0</td>\n",
       "      <td>2000</td>\n",
       "      <td>3</td>\n",
       "      <td>1245</td>\n",
       "      <td>CHF</td>\n",
       "    </tr>\n",
       "    <tr>\n",
       "      <th>8</th>\n",
       "      <td>18572.0</td>\n",
       "      <td>27</td>\n",
       "      <td>19700.0</td>\n",
       "      <td>Petrol</td>\n",
       "      <td>192</td>\n",
       "      <td>0</td>\n",
       "      <td>0</td>\n",
       "      <td>1800</td>\n",
       "      <td>3</td>\n",
       "      <td>1185</td>\n",
       "      <td>CHF</td>\n",
       "    </tr>\n",
       "    <tr>\n",
       "      <th>9</th>\n",
       "      <td>11187.0</td>\n",
       "      <td>23</td>\n",
       "      <td>71138.0</td>\n",
       "      <td>Diesel</td>\n",
       "      <td>69</td>\n",
       "      <td>0</td>\n",
       "      <td>0</td>\n",
       "      <td>1900</td>\n",
       "      <td>3</td>\n",
       "      <td>1105</td>\n",
       "      <td>CHF</td>\n",
       "    </tr>\n",
       "  </tbody>\n",
       "</table>\n",
       "</div>"
      ],
      "text/plain": [
       "     Price  Age  Mileage FuelType   HP  MetColor  Automatic    CC  Doors  \\\n",
       "0  13500.0   23  46986.0   Diesel   90         1          0  2000      3   \n",
       "1  11878.0   23  72937.0   Diesel   90         1          0  2000      3   \n",
       "2  12050.0   24  41711.0   Diesel   90         1          0  2000      3   \n",
       "3  12914.0   26  48000.0   Diesel   90         0          0  2000      3   \n",
       "4  11878.0   30  38500.0   Diesel   90         0          0  2000      3   \n",
       "5  11187.0   32  61000.0   Diesel   90         0          0  2000      3   \n",
       "6  14599.0   27  94612.0   Diesel   90         1          0  2000      3   \n",
       "7  16068.0   30  75889.0   Diesel   90         1          0  2000      3   \n",
       "8  18572.0   27  19700.0   Petrol  192         0          0  1800      3   \n",
       "9  11187.0   23  71138.0   Diesel   69         0          0  1900      3   \n",
       "\n",
       "   Weight Currency  \n",
       "0    1165     EURO  \n",
       "1    1165      CHF  \n",
       "2    1165      CHF  \n",
       "3    1165      CHF  \n",
       "4    1170      CHF  \n",
       "5    1170      CHF  \n",
       "6    1245      CHF  \n",
       "7    1245      CHF  \n",
       "8    1185      CHF  \n",
       "9    1105      CHF  "
      ]
     },
     "execution_count": 8,
     "metadata": {},
     "output_type": "execute_result"
    }
   ],
   "source": [
    "corolla_clean = pd.read_csv(\"data/Task1-2.ToyotaCorolla-clean.csv\", sep=',')\n",
    "corolla_clean.head(10)"
   ]
  },
  {
   "cell_type": "markdown",
   "id": "8c1e7401",
   "metadata": {},
   "source": [
    "Conversion 1: Currency conversion"
   ]
  },
  {
   "cell_type": "code",
   "execution_count": 9,
   "id": "eeb25447",
   "metadata": {},
   "outputs": [
    {
     "data": {
      "text/html": [
       "<div>\n",
       "<style scoped>\n",
       "    .dataframe tbody tr th:only-of-type {\n",
       "        vertical-align: middle;\n",
       "    }\n",
       "\n",
       "    .dataframe tbody tr th {\n",
       "        vertical-align: top;\n",
       "    }\n",
       "\n",
       "    .dataframe thead th {\n",
       "        text-align: right;\n",
       "    }\n",
       "</style>\n",
       "<table border=\"1\" class=\"dataframe\">\n",
       "  <thead>\n",
       "    <tr style=\"text-align: right;\">\n",
       "      <th></th>\n",
       "      <th>Price</th>\n",
       "      <th>Age</th>\n",
       "      <th>Mileage</th>\n",
       "      <th>FuelType</th>\n",
       "      <th>HP</th>\n",
       "      <th>MetColor</th>\n",
       "      <th>Automatic</th>\n",
       "      <th>CC</th>\n",
       "      <th>Doors</th>\n",
       "      <th>Weight</th>\n",
       "      <th>Currency</th>\n",
       "    </tr>\n",
       "  </thead>\n",
       "  <tbody>\n",
       "    <tr>\n",
       "      <th>0</th>\n",
       "      <td>12825.0</td>\n",
       "      <td>23</td>\n",
       "      <td>46986.0</td>\n",
       "      <td>Diesel</td>\n",
       "      <td>90</td>\n",
       "      <td>1</td>\n",
       "      <td>0</td>\n",
       "      <td>2000</td>\n",
       "      <td>3</td>\n",
       "      <td>1165</td>\n",
       "      <td>EURO</td>\n",
       "    </tr>\n",
       "    <tr>\n",
       "      <th>1</th>\n",
       "      <td>11878.0</td>\n",
       "      <td>23</td>\n",
       "      <td>72937.0</td>\n",
       "      <td>Diesel</td>\n",
       "      <td>90</td>\n",
       "      <td>1</td>\n",
       "      <td>0</td>\n",
       "      <td>2000</td>\n",
       "      <td>3</td>\n",
       "      <td>1165</td>\n",
       "      <td>CHF</td>\n",
       "    </tr>\n",
       "    <tr>\n",
       "      <th>2</th>\n",
       "      <td>12050.0</td>\n",
       "      <td>24</td>\n",
       "      <td>41711.0</td>\n",
       "      <td>Diesel</td>\n",
       "      <td>90</td>\n",
       "      <td>1</td>\n",
       "      <td>0</td>\n",
       "      <td>2000</td>\n",
       "      <td>3</td>\n",
       "      <td>1165</td>\n",
       "      <td>CHF</td>\n",
       "    </tr>\n",
       "    <tr>\n",
       "      <th>3</th>\n",
       "      <td>12914.0</td>\n",
       "      <td>26</td>\n",
       "      <td>48000.0</td>\n",
       "      <td>Diesel</td>\n",
       "      <td>90</td>\n",
       "      <td>0</td>\n",
       "      <td>0</td>\n",
       "      <td>2000</td>\n",
       "      <td>3</td>\n",
       "      <td>1165</td>\n",
       "      <td>CHF</td>\n",
       "    </tr>\n",
       "    <tr>\n",
       "      <th>4</th>\n",
       "      <td>11878.0</td>\n",
       "      <td>30</td>\n",
       "      <td>38500.0</td>\n",
       "      <td>Diesel</td>\n",
       "      <td>90</td>\n",
       "      <td>0</td>\n",
       "      <td>0</td>\n",
       "      <td>2000</td>\n",
       "      <td>3</td>\n",
       "      <td>1170</td>\n",
       "      <td>CHF</td>\n",
       "    </tr>\n",
       "    <tr>\n",
       "      <th>...</th>\n",
       "      <td>...</td>\n",
       "      <td>...</td>\n",
       "      <td>...</td>\n",
       "      <td>...</td>\n",
       "      <td>...</td>\n",
       "      <td>...</td>\n",
       "      <td>...</td>\n",
       "      <td>...</td>\n",
       "      <td>...</td>\n",
       "      <td>...</td>\n",
       "      <td>...</td>\n",
       "    </tr>\n",
       "    <tr>\n",
       "      <th>1431</th>\n",
       "      <td>6479.0</td>\n",
       "      <td>69</td>\n",
       "      <td>20544.0</td>\n",
       "      <td>Petrol</td>\n",
       "      <td>86</td>\n",
       "      <td>1</td>\n",
       "      <td>0</td>\n",
       "      <td>1300</td>\n",
       "      <td>3</td>\n",
       "      <td>1025</td>\n",
       "      <td>CHF</td>\n",
       "    </tr>\n",
       "    <tr>\n",
       "      <th>1432</th>\n",
       "      <td>9369.0</td>\n",
       "      <td>72</td>\n",
       "      <td>19000.0</td>\n",
       "      <td>Petrol</td>\n",
       "      <td>86</td>\n",
       "      <td>0</td>\n",
       "      <td>0</td>\n",
       "      <td>1300</td>\n",
       "      <td>3</td>\n",
       "      <td>1015</td>\n",
       "      <td>CHF</td>\n",
       "    </tr>\n",
       "    <tr>\n",
       "      <th>1433</th>\n",
       "      <td>7343.0</td>\n",
       "      <td>71</td>\n",
       "      <td>17016.0</td>\n",
       "      <td>Petrol</td>\n",
       "      <td>86</td>\n",
       "      <td>0</td>\n",
       "      <td>0</td>\n",
       "      <td>1300</td>\n",
       "      <td>3</td>\n",
       "      <td>1015</td>\n",
       "      <td>CHF</td>\n",
       "    </tr>\n",
       "    <tr>\n",
       "      <th>1434</th>\n",
       "      <td>6263.0</td>\n",
       "      <td>70</td>\n",
       "      <td>16916.0</td>\n",
       "      <td>Petrol</td>\n",
       "      <td>86</td>\n",
       "      <td>1</td>\n",
       "      <td>0</td>\n",
       "      <td>1300</td>\n",
       "      <td>3</td>\n",
       "      <td>1015</td>\n",
       "      <td>CHF</td>\n",
       "    </tr>\n",
       "    <tr>\n",
       "      <th>1435</th>\n",
       "      <td>6004.0</td>\n",
       "      <td>76</td>\n",
       "      <td>1.0</td>\n",
       "      <td>Petrol</td>\n",
       "      <td>110</td>\n",
       "      <td>0</td>\n",
       "      <td>0</td>\n",
       "      <td>1600</td>\n",
       "      <td>5</td>\n",
       "      <td>1114</td>\n",
       "      <td>CHF</td>\n",
       "    </tr>\n",
       "  </tbody>\n",
       "</table>\n",
       "<p>1436 rows × 11 columns</p>\n",
       "</div>"
      ],
      "text/plain": [
       "        Price  Age  Mileage FuelType   HP  MetColor  Automatic    CC  Doors  \\\n",
       "0     12825.0   23  46986.0   Diesel   90         1          0  2000      3   \n",
       "1     11878.0   23  72937.0   Diesel   90         1          0  2000      3   \n",
       "2     12050.0   24  41711.0   Diesel   90         1          0  2000      3   \n",
       "3     12914.0   26  48000.0   Diesel   90         0          0  2000      3   \n",
       "4     11878.0   30  38500.0   Diesel   90         0          0  2000      3   \n",
       "...       ...  ...      ...      ...  ...       ...        ...   ...    ...   \n",
       "1431   6479.0   69  20544.0   Petrol   86         1          0  1300      3   \n",
       "1432   9369.0   72  19000.0   Petrol   86         0          0  1300      3   \n",
       "1433   7343.0   71  17016.0   Petrol   86         0          0  1300      3   \n",
       "1434   6263.0   70  16916.0   Petrol   86         1          0  1300      3   \n",
       "1435   6004.0   76      1.0   Petrol  110         0          0  1600      5   \n",
       "\n",
       "      Weight Currency  \n",
       "0       1165     EURO  \n",
       "1       1165      CHF  \n",
       "2       1165      CHF  \n",
       "3       1165      CHF  \n",
       "4       1170      CHF  \n",
       "...      ...      ...  \n",
       "1431    1025      CHF  \n",
       "1432    1015      CHF  \n",
       "1433    1015      CHF  \n",
       "1434    1015      CHF  \n",
       "1435    1114      CHF  \n",
       "\n",
       "[1436 rows x 11 columns]"
      ]
     },
     "execution_count": 9,
     "metadata": {},
     "output_type": "execute_result"
    }
   ],
   "source": [
    "def currency_conversion(dataframe, currency, rate):\n",
    "    dataframe.loc[dataframe['Currency'] == currency, 'Price']*=rate\n",
    "    dataframe['Price'] = dataframe['Price'].round(0)\n",
    "    return dataframe\n",
    "\n",
    "currency_conversion(corolla_clean, 'GBP', 1.15)\n",
    "currency_conversion(corolla_clean, 'EURO', 0.95) ##maybe add something to make the rate computation in the function?\n",
    "    "
   ]
  },
  {
   "cell_type": "markdown",
   "id": "8ca0aa6d",
   "metadata": {},
   "source": [
    "Conversion 2:  Mileage"
   ]
  },
  {
   "cell_type": "code",
   "execution_count": 10,
   "id": "e0eb03d8",
   "metadata": {},
   "outputs": [],
   "source": [
    "miles_to_km = 1.61\n",
    "corolla_clean.loc[corolla_clean['Currency']=='GBP', 'Mileage'] *= miles_to_km\n"
   ]
  },
  {
   "cell_type": "code",
   "execution_count": 11,
   "id": "75ac2402",
   "metadata": {},
   "outputs": [
    {
     "data": {
      "text/html": [
       "<div>\n",
       "<style scoped>\n",
       "    .dataframe tbody tr th:only-of-type {\n",
       "        vertical-align: middle;\n",
       "    }\n",
       "\n",
       "    .dataframe tbody tr th {\n",
       "        vertical-align: top;\n",
       "    }\n",
       "\n",
       "    .dataframe thead th {\n",
       "        text-align: right;\n",
       "    }\n",
       "</style>\n",
       "<table border=\"1\" class=\"dataframe\">\n",
       "  <thead>\n",
       "    <tr style=\"text-align: right;\">\n",
       "      <th></th>\n",
       "      <th>Price</th>\n",
       "      <th>Age</th>\n",
       "      <th>Mileage</th>\n",
       "      <th>FuelType</th>\n",
       "      <th>HP</th>\n",
       "      <th>MetColor</th>\n",
       "      <th>Automatic</th>\n",
       "      <th>CC</th>\n",
       "      <th>Doors</th>\n",
       "      <th>Weight</th>\n",
       "    </tr>\n",
       "  </thead>\n",
       "  <tbody>\n",
       "    <tr>\n",
       "      <th>0</th>\n",
       "      <td>12825.0</td>\n",
       "      <td>23</td>\n",
       "      <td>46986.0</td>\n",
       "      <td>Diesel</td>\n",
       "      <td>90</td>\n",
       "      <td>1</td>\n",
       "      <td>0</td>\n",
       "      <td>2000</td>\n",
       "      <td>3</td>\n",
       "      <td>1165</td>\n",
       "    </tr>\n",
       "    <tr>\n",
       "      <th>1</th>\n",
       "      <td>11878.0</td>\n",
       "      <td>23</td>\n",
       "      <td>72937.0</td>\n",
       "      <td>Diesel</td>\n",
       "      <td>90</td>\n",
       "      <td>1</td>\n",
       "      <td>0</td>\n",
       "      <td>2000</td>\n",
       "      <td>3</td>\n",
       "      <td>1165</td>\n",
       "    </tr>\n",
       "    <tr>\n",
       "      <th>2</th>\n",
       "      <td>12050.0</td>\n",
       "      <td>24</td>\n",
       "      <td>41711.0</td>\n",
       "      <td>Diesel</td>\n",
       "      <td>90</td>\n",
       "      <td>1</td>\n",
       "      <td>0</td>\n",
       "      <td>2000</td>\n",
       "      <td>3</td>\n",
       "      <td>1165</td>\n",
       "    </tr>\n",
       "    <tr>\n",
       "      <th>3</th>\n",
       "      <td>12914.0</td>\n",
       "      <td>26</td>\n",
       "      <td>48000.0</td>\n",
       "      <td>Diesel</td>\n",
       "      <td>90</td>\n",
       "      <td>0</td>\n",
       "      <td>0</td>\n",
       "      <td>2000</td>\n",
       "      <td>3</td>\n",
       "      <td>1165</td>\n",
       "    </tr>\n",
       "    <tr>\n",
       "      <th>4</th>\n",
       "      <td>11878.0</td>\n",
       "      <td>30</td>\n",
       "      <td>38500.0</td>\n",
       "      <td>Diesel</td>\n",
       "      <td>90</td>\n",
       "      <td>0</td>\n",
       "      <td>0</td>\n",
       "      <td>2000</td>\n",
       "      <td>3</td>\n",
       "      <td>1170</td>\n",
       "    </tr>\n",
       "    <tr>\n",
       "      <th>5</th>\n",
       "      <td>11187.0</td>\n",
       "      <td>32</td>\n",
       "      <td>61000.0</td>\n",
       "      <td>Diesel</td>\n",
       "      <td>90</td>\n",
       "      <td>0</td>\n",
       "      <td>0</td>\n",
       "      <td>2000</td>\n",
       "      <td>3</td>\n",
       "      <td>1170</td>\n",
       "    </tr>\n",
       "    <tr>\n",
       "      <th>6</th>\n",
       "      <td>14599.0</td>\n",
       "      <td>27</td>\n",
       "      <td>94612.0</td>\n",
       "      <td>Diesel</td>\n",
       "      <td>90</td>\n",
       "      <td>1</td>\n",
       "      <td>0</td>\n",
       "      <td>2000</td>\n",
       "      <td>3</td>\n",
       "      <td>1245</td>\n",
       "    </tr>\n",
       "    <tr>\n",
       "      <th>7</th>\n",
       "      <td>16068.0</td>\n",
       "      <td>30</td>\n",
       "      <td>75889.0</td>\n",
       "      <td>Diesel</td>\n",
       "      <td>90</td>\n",
       "      <td>1</td>\n",
       "      <td>0</td>\n",
       "      <td>2000</td>\n",
       "      <td>3</td>\n",
       "      <td>1245</td>\n",
       "    </tr>\n",
       "    <tr>\n",
       "      <th>8</th>\n",
       "      <td>18572.0</td>\n",
       "      <td>27</td>\n",
       "      <td>19700.0</td>\n",
       "      <td>Petrol</td>\n",
       "      <td>192</td>\n",
       "      <td>0</td>\n",
       "      <td>0</td>\n",
       "      <td>1800</td>\n",
       "      <td>3</td>\n",
       "      <td>1185</td>\n",
       "    </tr>\n",
       "    <tr>\n",
       "      <th>9</th>\n",
       "      <td>11187.0</td>\n",
       "      <td>23</td>\n",
       "      <td>71138.0</td>\n",
       "      <td>Diesel</td>\n",
       "      <td>69</td>\n",
       "      <td>0</td>\n",
       "      <td>0</td>\n",
       "      <td>1900</td>\n",
       "      <td>3</td>\n",
       "      <td>1105</td>\n",
       "    </tr>\n",
       "  </tbody>\n",
       "</table>\n",
       "</div>"
      ],
      "text/plain": [
       "     Price  Age  Mileage FuelType   HP  MetColor  Automatic    CC  Doors  \\\n",
       "0  12825.0   23  46986.0   Diesel   90         1          0  2000      3   \n",
       "1  11878.0   23  72937.0   Diesel   90         1          0  2000      3   \n",
       "2  12050.0   24  41711.0   Diesel   90         1          0  2000      3   \n",
       "3  12914.0   26  48000.0   Diesel   90         0          0  2000      3   \n",
       "4  11878.0   30  38500.0   Diesel   90         0          0  2000      3   \n",
       "5  11187.0   32  61000.0   Diesel   90         0          0  2000      3   \n",
       "6  14599.0   27  94612.0   Diesel   90         1          0  2000      3   \n",
       "7  16068.0   30  75889.0   Diesel   90         1          0  2000      3   \n",
       "8  18572.0   27  19700.0   Petrol  192         0          0  1800      3   \n",
       "9  11187.0   23  71138.0   Diesel   69         0          0  1900      3   \n",
       "\n",
       "   Weight  \n",
       "0    1165  \n",
       "1    1165  \n",
       "2    1165  \n",
       "3    1165  \n",
       "4    1170  \n",
       "5    1170  \n",
       "6    1245  \n",
       "7    1245  \n",
       "8    1185  \n",
       "9    1105  "
      ]
     },
     "execution_count": 11,
     "metadata": {},
     "output_type": "execute_result"
    }
   ],
   "source": [
    "corolla_clean.drop(columns='Currency', axis = 1, inplace=True)\n",
    "corolla_clean.head(10)"
   ]
  },
  {
   "cell_type": "code",
   "execution_count": 12,
   "id": "6d786e87",
   "metadata": {},
   "outputs": [
    {
     "name": "stdout",
     "output_type": "stream",
     "text": [
      "Data for price:\n",
      "count     1436.000000\n",
      "mean      9420.997214\n",
      "std       3218.121468\n",
      "min       3758.000000\n",
      "25%       7343.000000\n",
      "50%       8595.000000\n",
      "75%      10323.000000\n",
      "max      28074.000000\n",
      "Name: Price, dtype: float64\n",
      "----------------------------------------------\n",
      "Data for mileage:\n",
      "count      1436.000000\n",
      "mean      68533.259749\n",
      "std       37506.448872\n",
      "min           1.000000\n",
      "25%       43000.000000\n",
      "50%       63389.500000\n",
      "75%       87020.750000\n",
      "max      243000.000000\n",
      "Name: Mileage, dtype: float64\n"
     ]
    }
   ],
   "source": [
    "print(\"Data for price:\")\n",
    "print(corolla_clean['Price'].describe())\n",
    "print('----------------------------------------------')\n",
    "print(\"Data for mileage:\")\n",
    "print(corolla_clean['Mileage'].describe())\n",
    "\n",
    "## I imagine distance is mileage\n",
    "## Do we need to manually compute this?"
   ]
  },
  {
   "cell_type": "markdown",
   "id": "cf48a107",
   "metadata": {},
   "source": [
    "**1.5 (2 pts): Analyze Average Price**\n",
    "\n",
    "A.  Print the average price for each fuel type. Determine which fuel type has the highest average price.\n",
    "\n",
    "B.  Print the average price for different numbers of doors. Determine which number of doors has the highest average price."
   ]
  },
  {
   "cell_type": "code",
   "execution_count": 13,
   "id": "6cc5aba4",
   "metadata": {},
   "outputs": [],
   "source": [
    "def price_by(df, feature):\n",
    "    output_list=[]\n",
    "    df1=df[feature]\n",
    "    df_cat=pd.get_dummies(df1)\n",
    "    input_list = df_cat.columns.tolist()\n",
    "\n",
    "    for item in input_list:\n",
    "        df2=df[df[feature]==item]\n",
    "        avg_price_by=df2['Price'].mean()\n",
    "        avg_price_by = round(avg_price_by, 2)\n",
    "        output_list.append([item, avg_price_by])\n",
    "        print(f\"The average price of a corolla with {item} {feature} is {avg_price_by}\")\n",
    "    \n",
    "    max_item, max_avg_price = max(output_list, key=lambda x: x[1])\n",
    "    print(f\"The most expensive {feature} is {max_item} with an average price of {max_avg_price}\")\n"
   ]
  },
  {
   "cell_type": "markdown",
   "id": "daf29606",
   "metadata": {},
   "source": [
    "Question A"
   ]
  },
  {
   "cell_type": "code",
   "execution_count": 14,
   "id": "7ff42ed6",
   "metadata": {},
   "outputs": [
    {
     "name": "stdout",
     "output_type": "stream",
     "text": [
      "The average price of a corolla with CNG FuelType is 8383.24\n",
      "The average price of a corolla with Diesel FuelType is 9876.28\n",
      "The average price of a corolla with Petrol FuelType is 9379.12\n",
      "The most expensive FuelType is Diesel with an average price of 9876.28\n"
     ]
    }
   ],
   "source": [
    "price_by(corolla_clean, 'FuelType')"
   ]
  },
  {
   "cell_type": "markdown",
   "id": "8ff915f4",
   "metadata": {},
   "source": [
    "Question B"
   ]
  },
  {
   "cell_type": "code",
   "execution_count": 15,
   "id": "b46abd24",
   "metadata": {},
   "outputs": [
    {
     "name": "stdout",
     "output_type": "stream",
     "text": [
      "The average price of a corolla with 2 Doors is 6997.5\n",
      "The average price of a corolla with 3 Doors is 8896.39\n",
      "The average price of a corolla with 4 Doors is 8602.15\n",
      "The average price of a corolla with 5 Doors is 10079.98\n",
      "The most expensive Doors is 5 with an average price of 10079.98\n"
     ]
    }
   ],
   "source": [
    "price_by(corolla_clean, 'Doors')"
   ]
  },
  {
   "cell_type": "markdown",
   "id": "0085fbeb",
   "metadata": {},
   "source": [
    "**1.6 (2 pts): Relationship Between Car Age and Price**\n",
    "\n",
    "It is intuitive that an older car tends to be cheaper, and a car with more mileage might also be less expensive. \n",
    "\n",
    "To explore this intuition, create two scatter plots:\n",
    "1. Car Age vs Price\n",
    "2. Mileage vs Price"
   ]
  },
  {
   "cell_type": "code",
   "execution_count": 16,
   "id": "01d72d83",
   "metadata": {},
   "outputs": [
    {
     "data": {
      "text/plain": [
       "Text(0.5, 1.0, 'Car price plotted as a function of car age')"
      ]
     },
     "execution_count": 16,
     "metadata": {},
     "output_type": "execute_result"
    },
    {
     "data": {
      "image/png": "[encoded data removed]",
      "text/plain": [
       "<Figure size 900x700 with 1 Axes>"
      ]
     },
     "metadata": {},
     "output_type": "display_data"
    }
   ],
   "source": [
    "fig, ax = plt.subplots(figsize=(9, 7))\n",
    "\n",
    "ax.scatter(corolla_clean['Age'], corolla_clean['Price'])\n",
    "ax.set_xlabel(\"Car Age\")\n",
    "ax.set_ylabel(\"Car Price\")\n",
    "ax.set_title(\"Car price plotted as a function of car age\")"
   ]
  },
  {
   "cell_type": "code",
   "execution_count": 17,
   "id": "7394e0e7",
   "metadata": {},
   "outputs": [
    {
     "name": "stderr",
     "output_type": "stream",
     "text": [
      "C:\\Users\\Karl Abdelnour\\AppData\\Local\\Temp\\ipykernel_14588\\3994730726.py:7: UserWarning: Matplotlib is currently using module://matplotlib_inline.backend_inline, which is a non-GUI backend, so cannot show the figure.\n",
      "  fig.show()\n"
     ]
    },
    {
     "data": {
      "image/png": "[encoded data removed]",
      "text/plain": [
       "<Figure size 900x700 with 1 Axes>"
      ]
     },
     "metadata": {},
     "output_type": "display_data"
    }
   ],
   "source": [
    "fig, ax = plt.subplots(figsize=(9, 7))\n",
    "\n",
    "ax.scatter(corolla_clean['Mileage'], corolla_clean['Price'])\n",
    "ax.set_xlabel(\"Car Mileage\")\n",
    "ax.set_ylabel(\"Car Price\")\n",
    "ax.set_title(\"Car price plotted as a function of mileage\")\n",
    "fig.show()"
   ]
  },
  {
   "cell_type": "markdown",
   "id": "6d35a238",
   "metadata": {},
   "source": [
    "**1.7 (4 pts): Correlation Between Price and Mileage**\n",
    "\n",
    "The relationship between car price and mileage appears non-linear, with a steeper price drop initially followed by a flatter curve.\n",
    "\n",
    "A.(2 pts)  Calculate both the Pearson and Spearman correlations between the price of the car and the distance driven.\n"
   ]
  },
  {
   "cell_type": "code",
   "execution_count": 18,
   "id": "2b5927e9",
   "metadata": {},
   "outputs": [],
   "source": [
    "pearson_corr = corolla_clean['Price'].corr(corolla_clean['Mileage'], method='pearson')\n",
    "spearman_corr = corolla_clean['Price'].corr(corolla_clean['Mileage'], method='spearman')"
   ]
  },
  {
   "cell_type": "markdown",
   "id": "f28a201c",
   "metadata": {},
   "source": [
    "\n",
    "B.(2 pts)  Which correlation value is higher? Does this result align with your expectations?"
   ]
  },
  {
   "cell_type": "code",
   "execution_count": 19,
   "id": "d4272cf8",
   "metadata": {},
   "outputs": [
    {
     "name": "stdout",
     "output_type": "stream",
     "text": [
      "The Pearson correlation coefficient between mileage and car price is -0.5634608418641661.\n",
      "The Spearman correlation coefficient between mileage and car price is -0.6054038979933513.\n",
      "The Spearman correlation coefficient is greater than the Pearson correlation coefficient\n"
     ]
    }
   ],
   "source": [
    "print(f\"The Pearson correlation coefficient between mileage and car price is {pearson_corr}.\")\n",
    "print(f\"The Spearman correlation coefficient between mileage and car price is {spearman_corr}.\")\n",
    "\n",
    "if np.abs(pearson_corr)>np.abs(spearman_corr):\n",
    "    print(f\"The Pearson correlation coefficient is greater than the Spearman correlation coefficient\")\n",
    "elif np.abs(pearson_corr)<np.abs(spearman_corr):\n",
    "    print(f\"The Spearman correlation coefficient is greater than the Pearson correlation coefficient\")\n",
    "else:\n",
    "    print(\"Both are equal.\")"
   ]
  },
  {
   "cell_type": "markdown",
   "id": "a7444153",
   "metadata": {},
   "source": [
    "In absolute terms, the Spearman correlation is greater than the Pearson correlation.\n",
    "This is likely due to how they are computed:\n",
    " - Spearman correlation tries to define how well the relationship between two values can be descirbed by a monotonic function. As a result, it is not linear and is less sensitive to outliers.\n",
    " - Pearson correlation defines a linear relationshipp between both values and is as a result more sensitive to outliers.\n",
    "It is thus expected that the Spearman correlation is greater than the Pearson correlation as it is less sensitive to outliers that may skew the final result. In either case, the difference between the two correlations is not too significant here. A negative relationship is clearly identified between mileage and price yet may not be classified as linear."
   ]
  },
  {
   "cell_type": "markdown",
   "id": "40229147",
   "metadata": {},
   "source": [
    "## Part 2 Linear Regression (30 pts)\n",
    "\n",
    "You want to build a linear regression model to predict the price of a car based on the features you have.\n",
    "\n"
   ]
  },
  {
   "cell_type": "markdown",
   "id": "50fc07fb",
   "metadata": {},
   "source": [
    "**2.0 (8 pts) Helper functions**\n",
    "\n",
    "Before building machine learning models, how to asses performance is crucial. Hence we first implement some helper functions to asses the performance of our model. We can use these later throughout the exercise.\n",
    "\n",
    "Implement the `accuracy` , `precision`, `recall` and `f1_score` functions with the following requirements:\n",
    "\n",
    "1. These functions should take in the true labels(`np.array`) and the predicted labels(`np.array`) and return the corresponding metric. \n",
    "2. They should follow the convention that the positive class is 1 and the negative class is 0.\n",
    "3. Apply the functions to the following data:\n",
    "\n",
    "```python\n",
    "true_labels = np.array([1, 0, 1, 1, 0, 1, 0, 0, 1, 0])\n",
    "predicted_labels = np.array([1, 1, 1, 1, 0, 0, 1, 0, 1, 0])\n",
    "```\n",
    "\n",
    "Compare the results with the implementation in `sklearn` and see if they match."
   ]
  },
  {
   "cell_type": "code",
   "execution_count": 20,
   "id": "7fb1f8ed",
   "metadata": {},
   "outputs": [],
   "source": [
    "true_labels = np.array([1, 0, 1, 1, 0, 1, 0, 0, 1, 0])\n",
    "predicted_labels = np.array([1, 1, 1, 1, 0, 0, 1, 0, 1, 0])\n",
    "## Just to load the np arrays that you gave"
   ]
  },
  {
   "cell_type": "markdown",
   "id": "4a5710e6",
   "metadata": {},
   "source": [
    "We first build a confusion matrix."
   ]
  },
  {
   "cell_type": "code",
   "execution_count": 21,
   "id": "73e77205",
   "metadata": {},
   "outputs": [],
   "source": [
    "def confusion_matrix_constructor(prediction_array, true_array):\n",
    "    TP = np.sum(np.logical_and(prediction_array == 1, true_array == 1))\n",
    "    TN = np.sum(np.logical_and(prediction_array == 0, true_array == 0))\n",
    "    FP = np.sum(np.logical_and(prediction_array == 1, true_array == 0))\n",
    "    FN = np.sum(np.logical_and(prediction_array == 0, true_array == 1))\n",
    "    confusion_matrix = np.asarray([[TP, FP], [FN, TN]])\n",
    "    return confusion_matrix\n",
    "\n",
    "test_conf_mat = confusion_matrix_constructor(predicted_labels, true_labels)"
   ]
  },
  {
   "cell_type": "markdown",
   "id": "a23d0b5b",
   "metadata": {},
   "source": [
    "Eyeballing the answer indicates that it is correct. The accuracy, precision, recall and f1 score may now be computed."
   ]
  },
  {
   "cell_type": "code",
   "execution_count": 22,
   "id": "7e213163",
   "metadata": {},
   "outputs": [],
   "source": [
    "def accuracy(confusion_matrix):\n",
    "    [[TP, FP], [FN, TN]] = confusion_matrix.astype(float)\n",
    "\n",
    "    accuracy = (TP+TN)/np.sum(confusion_matrix)\n",
    "    accuracy = round(accuracy, 2)\n",
    "\n",
    "    print(f\"The accuracy of the model is {accuracy}\")\n",
    "    return accuracy\n",
    "\n",
    "def precision(confusion_matrix):\n",
    "    [[TP, FP], [FN, TN]] = confusion_matrix.astype(float)\n",
    "\n",
    "    pos_precision = TP/(TP+FP)\n",
    "    pos_precision = round(pos_precision, 2)\n",
    "    neg_precision = TN/(TN+FN)\n",
    "    neg_precision = round(neg_precision, 2)\n",
    "\n",
    "    print(f\"The positive and negative precisions are respectively {pos_precision} and {neg_precision}.\")\n",
    "    return pos_precision, neg_precision\n",
    "\n",
    "def recall(confusion_matrix):\n",
    "    [[TP, FP], [FN, TN]] = confusion_matrix.astype(float)\n",
    "\n",
    "    pos_recall = TP/(TP+FN)\n",
    "    pos_recall = round(pos_recall, 2)\n",
    "    neg_recall = TN/(TN+FP)\n",
    "    neg_recall = round(neg_recall, 2)\n",
    "\n",
    "    print(f\"The positive and negative recalls are respectively {pos_recall} and {neg_recall}.\")\n",
    "    return pos_recall, neg_recall\n",
    "\n",
    "def f1_score(confusion_matrix):\n",
    "    pos_precision, neg_precision = precision(confusion_matrix)\n",
    "    pos_recall, neg_recall = recall(confusion_matrix)\n",
    "\n",
    "    pos_f1 = 2 * (pos_precision * pos_recall) / (pos_precision + pos_recall)\n",
    "    pos_f1 = round(pos_f1, 2)\n",
    "    neg_f1 = 2 * (neg_precision * neg_recall) / (neg_precision + neg_recall)\n",
    "    neg_f1 = round(neg_f1, 2)\n",
    "    \n",
    "    print(f\"The positvie and negative f1 scores of the model are respectively {pos_f1} and {neg_f1}.\")\n",
    "    return pos_f1, neg_f1"
   ]
  },
  {
   "cell_type": "code",
   "execution_count": 23,
   "id": "bd16f5e6",
   "metadata": {},
   "outputs": [
    {
     "name": "stdout",
     "output_type": "stream",
     "text": [
      "The accuracy of the model is 0.7\n",
      "The positive and negative precisions are respectively 0.67 and 0.75.\n",
      "The positive and negative recalls are respectively 0.8 and 0.6.\n",
      "The positive and negative precisions are respectively 0.67 and 0.75.\n",
      "The positive and negative recalls are respectively 0.8 and 0.6.\n",
      "The positvie and negative f1 scores of the model are respectively 0.73 and 0.67.\n"
     ]
    },
    {
     "data": {
      "text/plain": [
       "(0.73, 0.67)"
      ]
     },
     "execution_count": 23,
     "metadata": {},
     "output_type": "execute_result"
    }
   ],
   "source": [
    "## We first test the above functions for the test confusion matrix\n",
    "\n",
    "accuracy(test_conf_mat)\n",
    "precision(test_conf_mat)\n",
    "recall(test_conf_mat)\n",
    "f1_score(test_conf_mat)"
   ]
  },
  {
   "cell_type": "markdown",
   "id": "ec055411",
   "metadata": {},
   "source": [
    "Now that we have values for these parameters with the manual functions, we will compare them to those computed with sklearn."
   ]
  },
  {
   "cell_type": "code",
   "execution_count": 24,
   "id": "8c465a20",
   "metadata": {},
   "outputs": [
    {
     "name": "stdout",
     "output_type": "stream",
     "text": [
      "0.7\n",
      "(array([0.75      , 0.66666667]), array([0.6, 0.8]), array([0.66666667, 0.72727273]), array([5, 5], dtype=int64))\n"
     ]
    }
   ],
   "source": [
    "import sklearn.metrics as skm ## automatically appeared when I inserted the funcions as described in sklearn documentation\n",
    "\n",
    "sk_accuracy = skm.accuracy_score(true_labels, predicted_labels)\n",
    "sk_precision_recall_f1 = skm.precision_recall_fscore_support(true_labels, predicted_labels)\n",
    "\n",
    "print(sk_accuracy)\n",
    "print(sk_precision_recall_f1)"
   ]
  },
  {
   "cell_type": "markdown",
   "id": "005f70bc",
   "metadata": {},
   "source": [
    "The results of the sklearn functions seem to be equal to those given by the manual functions. (à voir pour bien présenter, on dirait qu'il y a un truc chelou)."
   ]
  },
  {
   "cell_type": "markdown",
   "id": "98fc74b9",
   "metadata": {},
   "source": [
    "\n",
    "**2.1 (6 pts) Preprocess the Data**\n",
    "\n",
    "To prepare your data for building a linear regression model, complete the following steps:\n",
    "\n",
    "A.(1 pts) Convert the categorical variables to one-hot encoding using the `pd.get_dummies()` function, how many columns do you have after the one-hot encoding? (P.S. You may want to avoid introducing multicollinearity with one-hot encoding, what should you do to avoid this?)\n"
   ]
  },
  {
   "cell_type": "code",
   "execution_count": 25,
   "id": "c439e762",
   "metadata": {},
   "outputs": [
    {
     "data": {
      "text/html": [
       "<div>\n",
       "<style scoped>\n",
       "    .dataframe tbody tr th:only-of-type {\n",
       "        vertical-align: middle;\n",
       "    }\n",
       "\n",
       "    .dataframe tbody tr th {\n",
       "        vertical-align: top;\n",
       "    }\n",
       "\n",
       "    .dataframe thead th {\n",
       "        text-align: right;\n",
       "    }\n",
       "</style>\n",
       "<table border=\"1\" class=\"dataframe\">\n",
       "  <thead>\n",
       "    <tr style=\"text-align: right;\">\n",
       "      <th></th>\n",
       "      <th>Price</th>\n",
       "      <th>Age</th>\n",
       "      <th>Mileage</th>\n",
       "      <th>HP</th>\n",
       "      <th>MetColor</th>\n",
       "      <th>Automatic</th>\n",
       "      <th>CC</th>\n",
       "      <th>Doors</th>\n",
       "      <th>Weight</th>\n",
       "      <th>FuelType_Diesel</th>\n",
       "      <th>FuelType_Petrol</th>\n",
       "    </tr>\n",
       "  </thead>\n",
       "  <tbody>\n",
       "    <tr>\n",
       "      <th>0</th>\n",
       "      <td>12825.0</td>\n",
       "      <td>23</td>\n",
       "      <td>46986.0</td>\n",
       "      <td>90</td>\n",
       "      <td>1</td>\n",
       "      <td>0</td>\n",
       "      <td>2000</td>\n",
       "      <td>3</td>\n",
       "      <td>1165</td>\n",
       "      <td>True</td>\n",
       "      <td>False</td>\n",
       "    </tr>\n",
       "    <tr>\n",
       "      <th>1</th>\n",
       "      <td>11878.0</td>\n",
       "      <td>23</td>\n",
       "      <td>72937.0</td>\n",
       "      <td>90</td>\n",
       "      <td>1</td>\n",
       "      <td>0</td>\n",
       "      <td>2000</td>\n",
       "      <td>3</td>\n",
       "      <td>1165</td>\n",
       "      <td>True</td>\n",
       "      <td>False</td>\n",
       "    </tr>\n",
       "    <tr>\n",
       "      <th>2</th>\n",
       "      <td>12050.0</td>\n",
       "      <td>24</td>\n",
       "      <td>41711.0</td>\n",
       "      <td>90</td>\n",
       "      <td>1</td>\n",
       "      <td>0</td>\n",
       "      <td>2000</td>\n",
       "      <td>3</td>\n",
       "      <td>1165</td>\n",
       "      <td>True</td>\n",
       "      <td>False</td>\n",
       "    </tr>\n",
       "    <tr>\n",
       "      <th>3</th>\n",
       "      <td>12914.0</td>\n",
       "      <td>26</td>\n",
       "      <td>48000.0</td>\n",
       "      <td>90</td>\n",
       "      <td>0</td>\n",
       "      <td>0</td>\n",
       "      <td>2000</td>\n",
       "      <td>3</td>\n",
       "      <td>1165</td>\n",
       "      <td>True</td>\n",
       "      <td>False</td>\n",
       "    </tr>\n",
       "    <tr>\n",
       "      <th>4</th>\n",
       "      <td>11878.0</td>\n",
       "      <td>30</td>\n",
       "      <td>38500.0</td>\n",
       "      <td>90</td>\n",
       "      <td>0</td>\n",
       "      <td>0</td>\n",
       "      <td>2000</td>\n",
       "      <td>3</td>\n",
       "      <td>1170</td>\n",
       "      <td>True</td>\n",
       "      <td>False</td>\n",
       "    </tr>\n",
       "    <tr>\n",
       "      <th>5</th>\n",
       "      <td>11187.0</td>\n",
       "      <td>32</td>\n",
       "      <td>61000.0</td>\n",
       "      <td>90</td>\n",
       "      <td>0</td>\n",
       "      <td>0</td>\n",
       "      <td>2000</td>\n",
       "      <td>3</td>\n",
       "      <td>1170</td>\n",
       "      <td>True</td>\n",
       "      <td>False</td>\n",
       "    </tr>\n",
       "    <tr>\n",
       "      <th>6</th>\n",
       "      <td>14599.0</td>\n",
       "      <td>27</td>\n",
       "      <td>94612.0</td>\n",
       "      <td>90</td>\n",
       "      <td>1</td>\n",
       "      <td>0</td>\n",
       "      <td>2000</td>\n",
       "      <td>3</td>\n",
       "      <td>1245</td>\n",
       "      <td>True</td>\n",
       "      <td>False</td>\n",
       "    </tr>\n",
       "    <tr>\n",
       "      <th>7</th>\n",
       "      <td>16068.0</td>\n",
       "      <td>30</td>\n",
       "      <td>75889.0</td>\n",
       "      <td>90</td>\n",
       "      <td>1</td>\n",
       "      <td>0</td>\n",
       "      <td>2000</td>\n",
       "      <td>3</td>\n",
       "      <td>1245</td>\n",
       "      <td>True</td>\n",
       "      <td>False</td>\n",
       "    </tr>\n",
       "    <tr>\n",
       "      <th>8</th>\n",
       "      <td>18572.0</td>\n",
       "      <td>27</td>\n",
       "      <td>19700.0</td>\n",
       "      <td>192</td>\n",
       "      <td>0</td>\n",
       "      <td>0</td>\n",
       "      <td>1800</td>\n",
       "      <td>3</td>\n",
       "      <td>1185</td>\n",
       "      <td>False</td>\n",
       "      <td>True</td>\n",
       "    </tr>\n",
       "    <tr>\n",
       "      <th>9</th>\n",
       "      <td>11187.0</td>\n",
       "      <td>23</td>\n",
       "      <td>71138.0</td>\n",
       "      <td>69</td>\n",
       "      <td>0</td>\n",
       "      <td>0</td>\n",
       "      <td>1900</td>\n",
       "      <td>3</td>\n",
       "      <td>1105</td>\n",
       "      <td>True</td>\n",
       "      <td>False</td>\n",
       "    </tr>\n",
       "  </tbody>\n",
       "</table>\n",
       "</div>"
      ],
      "text/plain": [
       "     Price  Age  Mileage   HP  MetColor  Automatic    CC  Doors  Weight  \\\n",
       "0  12825.0   23  46986.0   90         1          0  2000      3    1165   \n",
       "1  11878.0   23  72937.0   90         1          0  2000      3    1165   \n",
       "2  12050.0   24  41711.0   90         1          0  2000      3    1165   \n",
       "3  12914.0   26  48000.0   90         0          0  2000      3    1165   \n",
       "4  11878.0   30  38500.0   90         0          0  2000      3    1170   \n",
       "5  11187.0   32  61000.0   90         0          0  2000      3    1170   \n",
       "6  14599.0   27  94612.0   90         1          0  2000      3    1245   \n",
       "7  16068.0   30  75889.0   90         1          0  2000      3    1245   \n",
       "8  18572.0   27  19700.0  192         0          0  1800      3    1185   \n",
       "9  11187.0   23  71138.0   69         0          0  1900      3    1105   \n",
       "\n",
       "   FuelType_Diesel  FuelType_Petrol  \n",
       "0             True            False  \n",
       "1             True            False  \n",
       "2             True            False  \n",
       "3             True            False  \n",
       "4             True            False  \n",
       "5             True            False  \n",
       "6             True            False  \n",
       "7             True            False  \n",
       "8            False             True  \n",
       "9             True            False  "
      ]
     },
     "execution_count": 25,
     "metadata": {},
     "output_type": "execute_result"
    }
   ],
   "source": [
    "#categorical_columns = ['FuelType']\n",
    "corolla_clean_categorical = corolla_clean.copy()\n",
    "corolla_clean_categorical = pd.get_dummies(corolla_clean_categorical, drop_first=True) ## drop_first set to true in order to avoid colinearity\n",
    "corolla_clean_categorical.head(10)"
   ]
  },
  {
   "cell_type": "markdown",
   "id": "79415043",
   "metadata": {},
   "source": [
    "We have eleven columns after encoding."
   ]
  },
  {
   "cell_type": "markdown",
   "id": "977dc719",
   "metadata": {},
   "source": [
    "B.(1 pts) Split the data into features (X) and target (y) variables. The target variable is the 'Price' column. Then split the data into train test sets using a 80-20 split. Use `random_state=42` for reproducibility. How many samples are in the training set and how many samples are in the test set?\n"
   ]
  },
  {
   "cell_type": "markdown",
   "id": "9087abc7",
   "metadata": {},
   "source": [
    "All columns except for price are taken as features. The latter is, as a result, considered the target variable."
   ]
  },
  {
   "cell_type": "code",
   "execution_count": 26,
   "id": "54446121",
   "metadata": {},
   "outputs": [
    {
     "data": {
      "text/html": [
       "<div>\n",
       "<style scoped>\n",
       "    .dataframe tbody tr th:only-of-type {\n",
       "        vertical-align: middle;\n",
       "    }\n",
       "\n",
       "    .dataframe tbody tr th {\n",
       "        vertical-align: top;\n",
       "    }\n",
       "\n",
       "    .dataframe thead th {\n",
       "        text-align: right;\n",
       "    }\n",
       "</style>\n",
       "<table border=\"1\" class=\"dataframe\">\n",
       "  <thead>\n",
       "    <tr style=\"text-align: right;\">\n",
       "      <th></th>\n",
       "      <th>Age</th>\n",
       "      <th>Mileage</th>\n",
       "      <th>HP</th>\n",
       "      <th>MetColor</th>\n",
       "      <th>Automatic</th>\n",
       "      <th>CC</th>\n",
       "      <th>Doors</th>\n",
       "      <th>Weight</th>\n",
       "      <th>FuelType_Diesel</th>\n",
       "      <th>FuelType_Petrol</th>\n",
       "    </tr>\n",
       "  </thead>\n",
       "  <tbody>\n",
       "    <tr>\n",
       "      <th>0</th>\n",
       "      <td>23</td>\n",
       "      <td>46986.0</td>\n",
       "      <td>90</td>\n",
       "      <td>1</td>\n",
       "      <td>0</td>\n",
       "      <td>2000</td>\n",
       "      <td>3</td>\n",
       "      <td>1165</td>\n",
       "      <td>True</td>\n",
       "      <td>False</td>\n",
       "    </tr>\n",
       "    <tr>\n",
       "      <th>1</th>\n",
       "      <td>23</td>\n",
       "      <td>72937.0</td>\n",
       "      <td>90</td>\n",
       "      <td>1</td>\n",
       "      <td>0</td>\n",
       "      <td>2000</td>\n",
       "      <td>3</td>\n",
       "      <td>1165</td>\n",
       "      <td>True</td>\n",
       "      <td>False</td>\n",
       "    </tr>\n",
       "    <tr>\n",
       "      <th>2</th>\n",
       "      <td>24</td>\n",
       "      <td>41711.0</td>\n",
       "      <td>90</td>\n",
       "      <td>1</td>\n",
       "      <td>0</td>\n",
       "      <td>2000</td>\n",
       "      <td>3</td>\n",
       "      <td>1165</td>\n",
       "      <td>True</td>\n",
       "      <td>False</td>\n",
       "    </tr>\n",
       "    <tr>\n",
       "      <th>3</th>\n",
       "      <td>26</td>\n",
       "      <td>48000.0</td>\n",
       "      <td>90</td>\n",
       "      <td>0</td>\n",
       "      <td>0</td>\n",
       "      <td>2000</td>\n",
       "      <td>3</td>\n",
       "      <td>1165</td>\n",
       "      <td>True</td>\n",
       "      <td>False</td>\n",
       "    </tr>\n",
       "    <tr>\n",
       "      <th>4</th>\n",
       "      <td>30</td>\n",
       "      <td>38500.0</td>\n",
       "      <td>90</td>\n",
       "      <td>0</td>\n",
       "      <td>0</td>\n",
       "      <td>2000</td>\n",
       "      <td>3</td>\n",
       "      <td>1170</td>\n",
       "      <td>True</td>\n",
       "      <td>False</td>\n",
       "    </tr>\n",
       "    <tr>\n",
       "      <th>5</th>\n",
       "      <td>32</td>\n",
       "      <td>61000.0</td>\n",
       "      <td>90</td>\n",
       "      <td>0</td>\n",
       "      <td>0</td>\n",
       "      <td>2000</td>\n",
       "      <td>3</td>\n",
       "      <td>1170</td>\n",
       "      <td>True</td>\n",
       "      <td>False</td>\n",
       "    </tr>\n",
       "    <tr>\n",
       "      <th>6</th>\n",
       "      <td>27</td>\n",
       "      <td>94612.0</td>\n",
       "      <td>90</td>\n",
       "      <td>1</td>\n",
       "      <td>0</td>\n",
       "      <td>2000</td>\n",
       "      <td>3</td>\n",
       "      <td>1245</td>\n",
       "      <td>True</td>\n",
       "      <td>False</td>\n",
       "    </tr>\n",
       "    <tr>\n",
       "      <th>7</th>\n",
       "      <td>30</td>\n",
       "      <td>75889.0</td>\n",
       "      <td>90</td>\n",
       "      <td>1</td>\n",
       "      <td>0</td>\n",
       "      <td>2000</td>\n",
       "      <td>3</td>\n",
       "      <td>1245</td>\n",
       "      <td>True</td>\n",
       "      <td>False</td>\n",
       "    </tr>\n",
       "    <tr>\n",
       "      <th>8</th>\n",
       "      <td>27</td>\n",
       "      <td>19700.0</td>\n",
       "      <td>192</td>\n",
       "      <td>0</td>\n",
       "      <td>0</td>\n",
       "      <td>1800</td>\n",
       "      <td>3</td>\n",
       "      <td>1185</td>\n",
       "      <td>False</td>\n",
       "      <td>True</td>\n",
       "    </tr>\n",
       "    <tr>\n",
       "      <th>9</th>\n",
       "      <td>23</td>\n",
       "      <td>71138.0</td>\n",
       "      <td>69</td>\n",
       "      <td>0</td>\n",
       "      <td>0</td>\n",
       "      <td>1900</td>\n",
       "      <td>3</td>\n",
       "      <td>1105</td>\n",
       "      <td>True</td>\n",
       "      <td>False</td>\n",
       "    </tr>\n",
       "  </tbody>\n",
       "</table>\n",
       "</div>"
      ],
      "text/plain": [
       "   Age  Mileage   HP  MetColor  Automatic    CC  Doors  Weight  \\\n",
       "0   23  46986.0   90         1          0  2000      3    1165   \n",
       "1   23  72937.0   90         1          0  2000      3    1165   \n",
       "2   24  41711.0   90         1          0  2000      3    1165   \n",
       "3   26  48000.0   90         0          0  2000      3    1165   \n",
       "4   30  38500.0   90         0          0  2000      3    1170   \n",
       "5   32  61000.0   90         0          0  2000      3    1170   \n",
       "6   27  94612.0   90         1          0  2000      3    1245   \n",
       "7   30  75889.0   90         1          0  2000      3    1245   \n",
       "8   27  19700.0  192         0          0  1800      3    1185   \n",
       "9   23  71138.0   69         0          0  1900      3    1105   \n",
       "\n",
       "   FuelType_Diesel  FuelType_Petrol  \n",
       "0             True            False  \n",
       "1             True            False  \n",
       "2             True            False  \n",
       "3             True            False  \n",
       "4             True            False  \n",
       "5             True            False  \n",
       "6             True            False  \n",
       "7             True            False  \n",
       "8            False             True  \n",
       "9             True            False  "
      ]
     },
     "execution_count": 26,
     "metadata": {},
     "output_type": "execute_result"
    }
   ],
   "source": [
    "features_df = corolla_clean_categorical.drop('Price', axis=1)\n",
    "features_df.head(10)"
   ]
  },
  {
   "cell_type": "code",
   "execution_count": 27,
   "id": "6ba05eac",
   "metadata": {},
   "outputs": [
    {
     "data": {
      "text/plain": [
       "0    12825.0\n",
       "1    11878.0\n",
       "2    12050.0\n",
       "3    12914.0\n",
       "4    11878.0\n",
       "5    11187.0\n",
       "6    14599.0\n",
       "7    16068.0\n",
       "8    18572.0\n",
       "9    11187.0\n",
       "Name: Price, dtype: float64"
      ]
     },
     "execution_count": 27,
     "metadata": {},
     "output_type": "execute_result"
    }
   ],
   "source": [
    "target_df = corolla_clean_categorical['Price']\n",
    "target_df.head(10) ##continue et tu verras d'où vient ce bug"
   ]
  },
  {
   "cell_type": "code",
   "execution_count": 28,
   "id": "247139a5",
   "metadata": {},
   "outputs": [
    {
     "name": "stdout",
     "output_type": "stream",
     "text": [
      "The training dataframe has a size of 1148.\n",
      "The testing dataframe has a size of 288.\n",
      "The ratio of train and test dataframe sizes is 3.986111111111111, hence validating the split as described in the prompt.\n"
     ]
    }
   ],
   "source": [
    "from sklearn.model_selection import train_test_split\n",
    "\n",
    "train_features_df, test_features_df, train_targets_df, test_targets_df = train_test_split(features_df, target_df, test_size=0.2, random_state=42)\n",
    "\n",
    "train_features_df = train_features_df.reset_index(drop=True)\n",
    "train_targets_df = train_targets_df.reset_index(drop=True)\n",
    "test_features_df = test_features_df.reset_index(drop=True)\n",
    "test_targets_df = test_targets_df.reset_index(drop=True)\n",
    "\n",
    "print(f\"The training dataframe has a size of {train_features_df.shape[0]}.\")\n",
    "print(f\"The testing dataframe has a size of {test_features_df.shape[0]}.\")\n",
    "\n",
    "rapport = train_features_df.shape[0]/test_features_df.shape[0]\n",
    "print(f\"The ratio of train and test dataframe sizes is {rapport}, hence validating the split as described in the prompt.\")"
   ]
  },
  {
   "cell_type": "markdown",
   "id": "ac6b674f",
   "metadata": {},
   "source": [
    "C.(1 pts) Why do we split the data into only train-test sets but not train-validation-test sets? "
   ]
  },
  {
   "cell_type": "code",
   "execution_count": 29,
   "id": "1ce6fd17",
   "metadata": {},
   "outputs": [
    {
     "name": "stdout",
     "output_type": "stream",
     "text": [
      "The total number of available data points is 1436.\n"
     ]
    }
   ],
   "source": [
    "print(f\"The total number of available data points is {corolla_clean.shape[0]}.\")"
   ]
  },
  {
   "cell_type": "markdown",
   "id": "300e43da",
   "metadata": {},
   "source": [
    "1436 data points are available in the cleaned data set that was subsequently split into different train and test dataframes for the rest of the analysis.\n",
    "With such a number of data points, the dataset may be considered to be small. As a result, there are simply not enough data points available to be split into train-validation-test sets such that accurate results would be obtained from the machine learning analysis. The use of a train-test split may also be justified by the use of simple machine learning models in the scope of this course."
   ]
  },
  {
   "cell_type": "markdown",
   "id": "b840ea36",
   "metadata": {},
   "source": [
    "D.(1 pts) **Standardize the Features**: Use `StandardScaler` from `sklearn.preprocessing` and then add a constant column using `sm.add_constant()`. Print the average and standard deviation of the training set after standardization."
   ]
  },
  {
   "cell_type": "code",
   "execution_count": 30,
   "id": "733dca6d",
   "metadata": {},
   "outputs": [
    {
     "name": "stdout",
     "output_type": "stream",
     "text": [
      "The means of the training dataframe are as follows :       Constant           1.000000e+00\n",
      "Age                1.485455e-16\n",
      "Mileage           -1.485455e-16\n",
      "HP                 3.868373e-17\n",
      "CC                -2.963174e-16\n",
      "Doors              1.175985e-16\n",
      "Weight            -6.854757e-16\n",
      "MetColor           6.628920e-01\n",
      "Automatic          5.662021e-02\n",
      "FuelType_Diesel    1.132404e-01\n",
      "FuelType_Petrol    8.719512e-01\n",
      "dtype: float64\n",
      "-------------------------------------------------------------------\n",
      "The standard deviations of the training dataframe are as follows :       Constant           0.000000\n",
      "Age                1.000436\n",
      "Mileage            1.000436\n",
      "HP                 1.000436\n",
      "CC                 1.000436\n",
      "Doors              1.000436\n",
      "Weight             1.000436\n",
      "MetColor           0.472928\n",
      "Automatic          0.231216\n",
      "FuelType_Diesel    0.317025\n",
      "FuelType_Petrol    0.334290\n",
      "dtype: float64\n"
     ]
    }
   ],
   "source": [
    "from sklearn.preprocessing import StandardScaler ##needed to use the function\n",
    "\n",
    "## The standardisation function should only be applied to continous columns as applying it to binary ones does not make much sense.\n",
    "def standardisation(test_df, train_df, continuous_columns):\n",
    "    test_df_continuous = test_df[continuous_columns]\n",
    "    test_df_binary = test_df.drop(columns=continuous_columns) \n",
    "    train_df_continuous = train_df[continuous_columns]\n",
    "    train_df_binary = train_df.drop(columns=continuous_columns) \n",
    "    ## The dataframe is split into continuous and binary columns.\n",
    "    \n",
    "    scalar = StandardScaler()  ## The scalar is defined\n",
    "\n",
    "    train_df_continuous_scaled = scalar.fit_transform(train_df_continuous)\n",
    "    train_df_continuous_scaled = sm.add_constant(train_df_continuous_scaled)\n",
    "    train_df_continuous_scaled = pd.DataFrame(train_df_continuous_scaled, columns=['Constant'] + continuous_columns)\n",
    "\n",
    "    test_df_continuous_scaled = scalar.transform(test_df_continuous)\n",
    "    test_df_continuous_scaled = sm.add_constant(test_df_continuous_scaled)\n",
    "    test_df_continuous_scaled = pd.DataFrame(test_df_continuous_scaled, columns=['Constant'] + continuous_columns)\n",
    "\n",
    "    train_df = pd.concat([train_df_continuous_scaled, train_df_binary], axis=1)\n",
    "    test_df = pd.concat([test_df_continuous_scaled, test_df_binary], axis=1)\n",
    "\n",
    "    return (test_df, train_df)\n",
    "\n",
    "continuous_features = ['Age', 'Mileage', 'HP', 'CC', 'Doors', 'Weight']\n",
    "[test_features_df, train_features_df] = standardisation(test_features_df, train_features_df, continuous_features)\n",
    "\n",
    "print(f\"The means of the training dataframe are as follows : \\\n",
    "      {train_features_df.mean()}\")\n",
    "print('-------------------------------------------------------------------')\n",
    "print(f\"The standard deviations of the training dataframe are as follows : \\\n",
    "      {train_features_df.std()}\")"
   ]
  },
  {
   "cell_type": "markdown",
   "id": "35cdffba",
   "metadata": {},
   "source": [
    "E.(2 pts) Should we first standardize the data and then split it into train and test sets or vice versa?   why?"
   ]
  },
  {
   "cell_type": "markdown",
   "id": "aa186b08",
   "metadata": {},
   "source": [
    "Standardising on the entire data before splitting would lead to characteristics of the entire dataset being quantified for the rest of the machine learning analysis. \n",
    "After splitting the data, the training would thus involve training the dataset on ome of the test data's characteristics and standardisation. This leads to inaccurate final results and a analysis that could be qualified as useless."
   ]
  },
  {
   "cell_type": "markdown",
   "id": "c1efda85",
   "metadata": {},
   "source": [
    "**2.2 (10 pts) Train and Evaluate the Linear Regression Model**\n",
    "\n",
    "To train and evaluate a linear regression model using the `statsmodels` library, complete the following steps:\n",
    "\n",
    "1. (2 pts) Train a linear regression model on the training dataset using `sm.OLS` from `statsmodels`, print the summary of the model using `model.summary()`.\n"
   ]
  },
  {
   "cell_type": "code",
   "execution_count": 31,
   "id": "5e65ff9a",
   "metadata": {},
   "outputs": [
    {
     "name": "stdout",
     "output_type": "stream",
     "text": [
      "                            OLS Regression Results                            \n",
      "==============================================================================\n",
      "Dep. Variable:                  Price   R-squared:                       0.850\n",
      "Model:                            OLS   Adj. R-squared:                  0.848\n",
      "Method:                 Least Squares   F-statistic:                     642.6\n",
      "Date:                Tue, 19 Nov 2024   Prob (F-statistic):               0.00\n",
      "Time:                        22:47:54   Log-Likelihood:                -9804.3\n",
      "No. Observations:                1148   AIC:                         1.963e+04\n",
      "Df Residuals:                    1137   BIC:                         1.969e+04\n",
      "Df Model:                          10                                         \n",
      "Covariance Type:            nonrobust                                         \n",
      "===================================================================================\n",
      "                      coef    std err          t      P>|t|      [0.025      0.975]\n",
      "-----------------------------------------------------------------------------------\n",
      "Constant         8318.7215    318.897     26.086      0.000    7693.029    8944.414\n",
      "Age             -1978.7718     51.682    -38.288      0.000   -2080.174   -1877.370\n",
      "Mileage          -504.8852     52.681     -9.584      0.000    -608.248    -401.523\n",
      "HP                494.7680     93.967      5.265      0.000     310.399     679.137\n",
      "CC               -465.5568    111.076     -4.191      0.000    -683.495    -247.619\n",
      "Doors             -54.6861     40.526     -1.349      0.177    -134.200      24.827\n",
      "Weight           1105.4078     72.721     15.201      0.000     962.725    1248.091\n",
      "MetColor           34.0561     78.455      0.434      0.664    -119.876     187.988\n",
      "Automatic          21.3850    166.624      0.128      0.898    -305.539     348.309\n",
      "FuelType_Diesel  1450.1789    538.686      2.692      0.007     393.249    2507.109\n",
      "FuelType_Petrol  1069.0097    318.394      3.358      0.001     444.304    1693.715\n",
      "==============================================================================\n",
      "Omnibus:                      162.801   Durbin-Watson:                   2.078\n",
      "Prob(Omnibus):                  0.000   Jarque-Bera (JB):             2044.870\n",
      "Skew:                           0.038   Prob(JB):                         0.00\n",
      "Kurtosis:                       9.538   Cond. No.                         26.2\n",
      "==============================================================================\n",
      "\n",
      "Notes:\n",
      "[1] Standard Errors assume that the covariance matrix of the errors is correctly specified.\n"
     ]
    }
   ],
   "source": [
    "train_features_df['FuelType_Diesel'] = train_features_df['FuelType_Diesel'].astype(int)\n",
    "train_features_df['FuelType_Petrol'] = train_features_df['FuelType_Petrol'].astype(int)\n",
    "#I don't know why I needed to do this but okay, à voir\n",
    "\n",
    "model = sm.OLS(train_targets_df, train_features_df)\n",
    "results = model.fit()\n",
    "print(results.summary())"
   ]
  },
  {
   "cell_type": "markdown",
   "id": "29f7a394",
   "metadata": {},
   "source": [
    "2. (2 pts) Evaluate the model on the test dataset using the square root of the mean squared error (RMSE) metric. \n",
    "   1. Report the RMSE value.\n",
    "   2. Your boss wants to know how far off the model's predictions are from the actual price of the car. What would you tell him? Given a number and explain how you got it.\n"
   ]
  },
  {
   "cell_type": "code",
   "execution_count": 32,
   "id": "763573c8",
   "metadata": {},
   "outputs": [
    {
     "name": "stdout",
     "output_type": "stream",
     "text": [
      "The RMSE of the model is 1238.2054826371855.\n"
     ]
    }
   ],
   "source": [
    "from sklearn.metrics import mean_squared_error ## required to use the mean_squared_error function\n",
    "\n",
    "train_target_predicted = results.predict(train_features_df)\n",
    "\n",
    "rmse = np.sqrt(mean_squared_error(train_targets_df, train_target_predicted))\n",
    "\n",
    "print(f\"The RMSE of the model is {rmse}.\")"
   ]
  },
  {
   "cell_type": "markdown",
   "id": "d0f05c7b",
   "metadata": {},
   "source": [
    "The root mean squared error obtained in the previous cell indicates that every price prediction will be off by, on average, CHF1238.21."
   ]
  },
  {
   "cell_type": "markdown",
   "id": "2984353d",
   "metadata": {},
   "source": [
    "3. (2 pts) Report the R² score on the test dataset and interpret it.\n"
   ]
  },
  {
   "cell_type": "code",
   "execution_count": 33,
   "id": "c2f39c1e",
   "metadata": {},
   "outputs": [
    {
     "name": "stdout",
     "output_type": "stream",
     "text": [
      "The R^2 of the model is 0.849659796266792.\n"
     ]
    }
   ],
   "source": [
    "from sklearn.metrics import r2_score ## required to use the r2_score function\n",
    "\n",
    "r2 = r2_score(train_targets_df, train_target_predicted)\n",
    "\n",
    "print(f\"The R^2 of the model is {r2}.\")"
   ]
  },
  {
   "cell_type": "markdown",
   "id": "cee22e83",
   "metadata": {},
   "source": [
    "An R2 of 0.85 indicates that the machine learning model was able to obtain around 85% of the variance regarding price. It has thus learned anough from the data it was trained on capture the behaviour of corolla price as a function of the defined feature variables."
   ]
  },
  {
   "cell_type": "markdown",
   "id": "6edc6757",
   "metadata": {},
   "source": [
    "4.  (2 pts) Which features are statistically significant at a 5% significance level? "
   ]
  },
  {
   "cell_type": "code",
   "execution_count": 34,
   "id": "e9c47c52",
   "metadata": {},
   "outputs": [
    {
     "name": "stdout",
     "output_type": "stream",
     "text": [
      "The following features are statistically significant features at 5% level:\n",
      "Constant           6.007027e-118\n",
      "Age                1.014056e-206\n",
      "Mileage             5.653091e-21\n",
      "HP                  1.672421e-07\n",
      "CC                  2.988428e-05\n",
      "Weight              1.209704e-47\n",
      "FuelType_Diesel     7.205345e-03\n",
      "FuelType_Petrol     8.125200e-04\n",
      "dtype: float64\n"
     ]
    }
   ],
   "source": [
    "p_values = results.pvalues\n",
    "significant_features = p_values[p_values < 0.05]\n",
    "\n",
    "print(\"The following features are statistically significant features at 5% level:\")\n",
    "print(significant_features)"
   ]
  },
  {
   "cell_type": "markdown",
   "id": "11db567f",
   "metadata": {},
   "source": [
    "5.  (2 pts) Determine which two feature have the highest coefficient? What does it imply?"
   ]
  },
  {
   "cell_type": "code",
   "execution_count": 35,
   "id": "fcbef61f",
   "metadata": {},
   "outputs": [
    {
     "name": "stdout",
     "output_type": "stream",
     "text": [
      "Two features with the highest coefficients are:\n",
      "Age                1978.771778\n",
      "FuelType_Diesel    1450.178862\n",
      "dtype: float64\n"
     ]
    }
   ],
   "source": [
    "coefficients = results.params\n",
    "coefficients = coefficients.drop(\"Constant\", errors=\"ignore\")\n",
    "top_features = coefficients.abs().sort_values(ascending=False).head(2) ## The absolute value of the coefficient is taken to see which characteristic has the greatest overall impact on car price\n",
    "\n",
    "print(\"Two features with the highest coefficients are:\")\n",
    "print(top_features)"
   ]
  },
  {
   "cell_type": "code",
   "execution_count": 36,
   "id": "225969b5",
   "metadata": {},
   "outputs": [
    {
     "name": "stdout",
     "output_type": "stream",
     "text": [
      "-1978.771777774188\n",
      "1450.1788624535272\n"
     ]
    }
   ],
   "source": [
    "print(coefficients['Age'])\n",
    "print(coefficients['FuelType_Diesel'])"
   ]
  },
  {
   "cell_type": "markdown",
   "id": "dd2da9b7",
   "metadata": {},
   "source": [
    "The results given above show that, disregarding the constant column, age and the car running on diesel have the largest impact on the car's final price. The coefficient for the age being negative implies that the price of the car will greatly decrease as it ages (which makes sense) while a positive value for the diesel fuel type indicates that the price of the car will increase when it is a diesel."
   ]
  },
  {
   "cell_type": "markdown",
   "id": "52e2d643",
   "metadata": {},
   "source": [
    "**2.3 (2 pts): Improvement Discussion**\n",
    "\n",
    "- Suggest a few additional features that could potentially explain this remaining variance in the data ( at least 2 features)."
   ]
  },
  {
   "cell_type": "markdown",
   "id": "9d6a46c1",
   "metadata": {},
   "source": [
    "A number of features could potentially explain this remaining variance :\n",
    " - the maintenance of the car: we would assume that a car that has passed its maintenance and is in a good general state would yield higher prices than a car in a bad state.\n",
    " - the model of the car: some corolla models coudl potentially fetch higher prices than others due to asthetic reasons\n",
    " - the fuel efficiency of the car could also be a very important parameter as that's probably important if you're buying a used corolla in the first place (I have nothing against toyotas on the contrary)\n",
    " - the presence of stereo systems or bluetooth in the car can further be hypothesized to increase the car's price"
   ]
  },
  {
   "cell_type": "markdown",
   "id": "dd829197",
   "metadata": {},
   "source": [
    "**2.4 (2 pts): Identifying Confounding Variables**\n",
    "\n",
    "The feature \"Weight\" shows a very low p-value and a high coefficient, but it doesn't seem to be a major factor for customers buying a second-hand car. You go to your mentor Tim to discuss this issue. Indeed, Tim suggests that never in his career has he seen a customer who asked for the weight of a car before buying it.\n",
    "You suspect that there might be a confounding variable that is correlated with the car's weight and significantly influences its price.\n",
    "\n",
    "- Suggest a possible confounding variable that may be correlated with the car's weight and significantly influence its price (it doesn't need to be a variable in the dataset). Explain why this variable could be a confounding variable."
   ]
  },
  {
   "cell_type": "code",
   "execution_count": 62,
   "id": "e2c258dc",
   "metadata": {},
   "outputs": [
    {
     "name": "stdout",
     "output_type": "stream",
     "text": [
      "The coefficient for the weight of the car is 1105.4078222251537.\n",
      "The p-value for the weight of the car is 1.2097035746552145e-47.\n"
     ]
    }
   ],
   "source": [
    "print(f\"The coefficient for the weight of the car is {coefficients['Weight']}.\")\n",
    "print(f\"The p-value for the weight of the car is {p_values['Weight']}.\")"
   ]
  },
  {
   "cell_type": "markdown",
   "id": "3d36bd8e",
   "metadata": {},
   "source": [
    "Contrasting weight's coefficient and p-value does demonstrate that weight is possibly confounded. A few explanations for this could be found.  A possible confounding variable here would be age. It could be reasonably assumed that older cars will be heavier than new ones due to advances in technology and engineering and that, as a result, age and weight could be strongly correlated to one another. Considering that age is a very important factor in car's price (see question 2.2.5), that could explain why the coefficient for weight is so high."
   ]
  },
  {
   "cell_type": "markdown",
   "id": "104cb90e",
   "metadata": {},
   "source": [
    "**2.5 (2 pts): Adding an Inverse Mileage Term**\n",
    "\n",
    "From the previous scatter plot, the relationship between car price and mileage appears non-linear, with a steep price drop initially and then a flattening. A suitable approach to model this behavior is by incorporating an inverse term of mileage.\n",
    "\n",
    "- Add the inverse mileage term to the model and retrain it using the code provided. Print the model summary and interpret the effect of the inverse mileage term.\n",
    "  "
   ]
  },
  {
   "cell_type": "code",
   "execution_count": 67,
   "id": "bca4a9f6",
   "metadata": {},
   "outputs": [
    {
     "name": "stdout",
     "output_type": "stream",
     "text": [
      "                            OLS Regression Results                            \n",
      "==============================================================================\n",
      "Dep. Variable:                  Price   R-squared:                       0.850\n",
      "Model:                            OLS   Adj. R-squared:                  0.848\n",
      "Method:                 Least Squares   F-statistic:                     583.7\n",
      "Date:                Tue, 19 Nov 2024   Prob (F-statistic):               0.00\n",
      "Time:                        23:03:17   Log-Likelihood:                -9804.3\n",
      "No. Observations:                1148   AIC:                         1.963e+04\n",
      "Df Residuals:                    1136   BIC:                         1.969e+04\n",
      "Df Model:                          11                                         \n",
      "Covariance Type:            nonrobust                                         \n",
      "===================================================================================\n",
      "                      coef    std err          t      P>|t|      [0.025      0.975]\n",
      "-----------------------------------------------------------------------------------\n",
      "Constant         8318.9956    319.031     26.076      0.000    7693.039    8944.952\n",
      "Age             -1978.7224     51.703    -38.271      0.000   -2080.167   -1877.277\n",
      "Mileage          -504.8656     52.703     -9.579      0.000    -608.271    -401.460\n",
      "HP                495.0634     94.014      5.266      0.000     310.602     679.525\n",
      "CC               -466.1717    111.152     -4.194      0.000    -684.258    -248.086\n",
      "Doors             -54.1454     40.605     -1.333      0.183    -133.814      25.523\n",
      "Weight           1105.1562     72.759     15.189      0.000     962.399    1247.913\n",
      "MetColor           33.8625     78.491      0.431      0.666    -120.141     187.867\n",
      "Automatic          21.6782    166.697      0.130      0.897    -305.391     348.747\n",
      "FuelType_Diesel  1452.4342    538.991      2.695      0.007     394.905    2509.963\n",
      "FuelType_Petrol  1068.4594    318.534      3.354      0.001     443.478    1693.440\n",
      "Mileage-1          -0.1153      0.479     -0.241      0.810      -1.054       0.824\n",
      "==============================================================================\n",
      "Omnibus:                      162.783   Durbin-Watson:                   2.078\n",
      "Prob(Omnibus):                  0.000   Jarque-Bera (JB):             2043.575\n",
      "Skew:                           0.040   Prob(JB):                         0.00\n",
      "Kurtosis:                       9.536   Cond. No.                     1.31e+03\n",
      "==============================================================================\n",
      "\n",
      "Notes:\n",
      "[1] Standard Errors assume that the covariance matrix of the errors is correctly specified.\n",
      "[2] The condition number is large, 1.31e+03. This might indicate that there are\n",
      "strong multicollinearity or other numerical problems.\n",
      "                            OLS Regression Results                            \n",
      "==============================================================================\n",
      "Dep. Variable:                  Price   R-squared:                       0.850\n",
      "Model:                            OLS   Adj. R-squared:                  0.848\n",
      "Method:                 Least Squares   F-statistic:                     642.6\n",
      "Date:                Tue, 19 Nov 2024   Prob (F-statistic):               0.00\n",
      "Time:                        23:03:17   Log-Likelihood:                -9804.3\n",
      "No. Observations:                1148   AIC:                         1.963e+04\n",
      "Df Residuals:                    1137   BIC:                         1.969e+04\n",
      "Df Model:                          10                                         \n",
      "Covariance Type:            nonrobust                                         \n",
      "===================================================================================\n",
      "                      coef    std err          t      P>|t|      [0.025      0.975]\n",
      "-----------------------------------------------------------------------------------\n",
      "Constant         8318.7215    318.897     26.086      0.000    7693.029    8944.414\n",
      "Age             -1978.7718     51.682    -38.288      0.000   -2080.174   -1877.370\n",
      "Mileage          -504.8852     52.681     -9.584      0.000    -608.248    -401.523\n",
      "HP                494.7680     93.967      5.265      0.000     310.399     679.137\n",
      "CC               -465.5568    111.076     -4.191      0.000    -683.495    -247.619\n",
      "Doors             -54.6861     40.526     -1.349      0.177    -134.200      24.827\n",
      "Weight           1105.4078     72.721     15.201      0.000     962.725    1248.091\n",
      "MetColor           34.0561     78.455      0.434      0.664    -119.876     187.988\n",
      "Automatic          21.3850    166.624      0.128      0.898    -305.539     348.309\n",
      "FuelType_Diesel  1450.1789    538.686      2.692      0.007     393.249    2507.109\n",
      "FuelType_Petrol  1069.0097    318.394      3.358      0.001     444.304    1693.715\n",
      "==============================================================================\n",
      "Omnibus:                      162.801   Durbin-Watson:                   2.078\n",
      "Prob(Omnibus):                  0.000   Jarque-Bera (JB):             2044.870\n",
      "Skew:                           0.038   Prob(JB):                         0.00\n",
      "Kurtosis:                       9.538   Cond. No.                         26.2\n",
      "==============================================================================\n",
      "\n",
      "Notes:\n",
      "[1] Standard Errors assume that the covariance matrix of the errors is correctly specified.\n"
     ]
    }
   ],
   "source": [
    "train_features_inv_df = train_features_df.copy()\n",
    "train_features_inv_df['Mileage-1'] = 1/train_features_inv_df['Mileage']\n",
    "\n",
    "model_invmil = sm.OLS(train_targets_df, train_features_inv_df)\n",
    "results_invmil = model_invmil.fit()\n",
    "print(results_invmil.summary())\n",
    "print(results.summary())"
   ]
  },
  {
   "cell_type": "markdown",
   "id": "e3d0d9eb",
   "metadata": {},
   "source": [
    "The results of both linear regressions seem to be very similar to one another. As a result, one may conclude that the additin of the inverse mileage feature has not had a big effect on the predictions made by the linear regression."
   ]
  },
  {
   "cell_type": "markdown",
   "id": "6626f19f",
   "metadata": {},
   "source": [
    "REMPLACE TOUTES LES MENTIONS DE ML PAR REGRESSION LINEAIRE ICI§§§§§§§§§§§§§§§§§§§§§§"
   ]
  },
  {
   "cell_type": "markdown",
   "id": "2d3ffbc4",
   "metadata": {},
   "source": [
    "## Part 3 Supervised Learning (40 pts)\n",
    "\n",
    "\n",
    "After completing your analysis, you're satisfied with the results. You handed the Jupyter notebook over to your mentor.\n",
    "\n",
    "(Fun fact: The name \"Jupyter\" is derived from Julia, Python, and R—three programming languages that the platform was originally designed for.)\n",
    "\n",
    "Your mentor Tim is very impressed with your work and asks you the following question:\n",
    "\n",
    "“\n",
    "This looks great! It will be very useful for our sales team. While looking at the results, I realized that there might be one thing that we can improve. \n",
    "For companies like us, it is important to sell the cars quickly. If we are patient, we might be able to sell the car for a higher price, but that’s not always the best strategy. We need to consider the maintenance costs for the car, the cash flow and the fact that the price of the car decreases over time.\"\n",
    "\n",
    "He then continues:\n",
    "\"Three months is a sweet spot for us. If we can sell the car within the first three months, it is great. If not, it is worth considering lowering the price to sell it faster and increase our cash flow. I can ask Ivan from Sales to collect data in the last few months on whether the car was sold within the first three months or not. This would be great if you could have a model that tells us if the car will be sold in the first three months or not. \"\n",
    "\n",
    "This sparks your interest, and soon Ivan has provided you with the new data containing an additional column `sold_within_3_months` which is a binary variable indicating whether the car was sold within the first three months or not.\n",
    "\n",
    "Note: The data for this part is in the file `Task3.ToyotaCorolla_sales_3months.csv` and it has already unified the currency and distance units."
   ]
  },
  {
   "cell_type": "code",
   "execution_count": 38,
   "id": "b4ec9ab9",
   "metadata": {},
   "outputs": [
    {
     "name": "stdout",
     "output_type": "stream",
     "text": [
      "   Price  Age     KM FuelType  HP  MetColor  Automatic    CC  Doors  Weight  \\\n",
      "0  13500   23  46986   Diesel  90         1          0  2000      3    1165   \n",
      "1  13750   23  72937   Diesel  90         1          0  2000      3    1165   \n",
      "2  13950   24  41711   Diesel  90         1          0  2000      3    1165   \n",
      "3  14950   26  48000   Diesel  90         0          0  2000      3    1165   \n",
      "4  13750   30  38500   Diesel  90         0          0  2000      3    1170   \n",
      "\n",
      "   sold_within_3_months  \n",
      "0                     0  \n",
      "1                     0  \n",
      "2                     0  \n",
      "3                     0  \n",
      "4                     0  \n"
     ]
    }
   ],
   "source": [
    "data_df = pd.read_csv('data/Task3.ToyotaCorolla_sales_3months.csv', index_col=0)\n",
    "print(data_df.head())"
   ]
  },
  {
   "cell_type": "markdown",
   "id": "86ca7119",
   "metadata": {},
   "source": [
    "\n",
    "**3.1 (2 pts): Preprocess the Data**\n",
    "1. （1 pts）How many cars in the dataset were sold in the first three months, and how many were not? "
   ]
  },
  {
   "cell_type": "code",
   "execution_count": 39,
   "id": "214abae4",
   "metadata": {},
   "outputs": [],
   "source": [
    "# TODO"
   ]
  },
  {
   "cell_type": "markdown",
   "id": "54d3b6f8",
   "metadata": {},
   "source": [
    "2. (1 pts) Preprocess the categorical variables to one-hot encoding using the `pd.get_dummies()` function."
   ]
  },
  {
   "cell_type": "code",
   "execution_count": 40,
   "id": "3e2b1f1d",
   "metadata": {},
   "outputs": [],
   "source": [
    "# TODO"
   ]
  },
  {
   "cell_type": "markdown",
   "id": "2289da79",
   "metadata": {},
   "source": [
    "**3.2 (20 pts): Logistic Regression Model**\n",
    "\n",
    "1. (2 pts) Split the data into features (X) and target (y) variables. The target variable is the 'sold_within_3_months' column. The `Price` column should be included as a feature."
   ]
  },
  {
   "cell_type": "code",
   "execution_count": 41,
   "id": "119c754e",
   "metadata": {},
   "outputs": [],
   "source": [
    "# TODO"
   ]
  },
  {
   "cell_type": "markdown",
   "id": "d51f8664",
   "metadata": {},
   "source": [
    "2. (2 pts) Then split the data into train test sets using a 80-20 split. Use `random_state=42` for reproducibility. "
   ]
  },
  {
   "cell_type": "code",
   "execution_count": 42,
   "id": "2bcdb893",
   "metadata": {},
   "outputs": [],
   "source": [
    "# TODO"
   ]
  },
  {
   "cell_type": "markdown",
   "id": "32caf5d5",
   "metadata": {},
   "source": [
    "3. (2 pts) Standardize the features using `StandardScaler` from `sklearn.preprocessing` and then add a constant column using `sm.add_constant()`."
   ]
  },
  {
   "cell_type": "code",
   "execution_count": 43,
   "id": "587a4fa3",
   "metadata": {},
   "outputs": [],
   "source": [
    "# TODO"
   ]
  },
  {
   "cell_type": "markdown",
   "id": "041fe3b8",
   "metadata": {},
   "source": [
    "4. (2 pts) Fit a logistic regression model on the training dataset."
   ]
  },
  {
   "cell_type": "code",
   "execution_count": 44,
   "id": "e1489059",
   "metadata": {},
   "outputs": [],
   "source": [
    "# TODO"
   ]
  },
  {
   "cell_type": "markdown",
   "id": "642b9728",
   "metadata": {},
   "source": [
    "5. (2 pts) Evaluate the model on the test dataset using the accuracy score metric. Report the accuracy score."
   ]
  },
  {
   "cell_type": "code",
   "execution_count": 45,
   "id": "681d70b1",
   "metadata": {},
   "outputs": [],
   "source": [
    "# TODO"
   ]
  },
  {
   "cell_type": "markdown",
   "id": "6757fff3",
   "metadata": {},
   "source": [
    "6. (2 pts) Calculate the precision, recall, and F1-score."
   ]
  },
  {
   "cell_type": "code",
   "execution_count": 46,
   "id": "ce8f5574",
   "metadata": {},
   "outputs": [],
   "source": [
    "# TODO"
   ]
  },
  {
   "cell_type": "markdown",
   "id": "a97f156a",
   "metadata": {},
   "source": [
    "\n",
    "7. (2 pts) Suppose that your company is running short on cash flow and needs to sell the cars quickly. How should you adjust the threshold for the logistic regression model to ensure that the company can sell the cars as quickly as possible?\n",
    "    - A. Increase the threshold\n",
    "    - B. Decrease the threshold\n",
    "\n",
    "In a more general sense, how does the choice of threshold affect the precision and recall of the model?"
   ]
  },
  {
   "cell_type": "code",
   "execution_count": 47,
   "id": "3619ab5a",
   "metadata": {},
   "outputs": [],
   "source": [
    "# TODO"
   ]
  },
  {
   "cell_type": "markdown",
   "id": "0e6276c5",
   "metadata": {},
   "source": [
    "8. (6 pts) Use binary search to find the optimal threshold that maximizes the F1-score. Implement a binary search algorithm to find the threshold that maximizes the f1-score of the logistic regression model on the training set. The search interval should be between 0 and 1, and the stopping criterion is 10 iterations.  What is the optimal threshold and what difference does the optimal threshold make in the F1-score?"
   ]
  },
  {
   "cell_type": "code",
   "execution_count": 48,
   "id": "5545ba3b",
   "metadata": {},
   "outputs": [],
   "source": [
    "# TODO"
   ]
  },
  {
   "cell_type": "markdown",
   "id": "ef84e604",
   "metadata": {},
   "source": [
    "**3.3(18 pts) Decision Tree Model**\n",
    "\n",
    "Use a Decision Tree model from `sklearn` to predict whether a car will be sold within the first three months.\n",
    "\n",
    "Follow these steps to complete the task:\n",
    "\n",
    "1. (2 pts) Train a Decision Tree Classifier to predict the target variable (`sold_within_3_months`).You can reuse the train and test sets from the previous section. Set `random_state=42` for reproducibility in `DecisionTreeClassifier`."
   ]
  },
  {
   "cell_type": "code",
   "execution_count": 49,
   "id": "b25eec4b",
   "metadata": {},
   "outputs": [],
   "source": [
    "# TODO"
   ]
  },
  {
   "cell_type": "markdown",
   "id": "b63335f2",
   "metadata": {},
   "source": [
    "2. (2 pts) Evaluate the model on the test set and report the depth of the tree."
   ]
  },
  {
   "cell_type": "code",
   "execution_count": 50,
   "id": "10cc6550",
   "metadata": {},
   "outputs": [],
   "source": [
    "# TODO  "
   ]
  },
  {
   "cell_type": "markdown",
   "id": "7ed4f6ff",
   "metadata": {},
   "source": [
    "3. (2 pts) Visualize the Decision Tree"
   ]
  },
  {
   "cell_type": "code",
   "execution_count": 51,
   "id": "80a4220f",
   "metadata": {},
   "outputs": [],
   "source": [
    "# TODO"
   ]
  },
  {
   "cell_type": "markdown",
   "id": "814fe768",
   "metadata": {},
   "source": [
    "4. (2 pts) Retrain the Decision Tree Classifier with a maximum depth of 8 and evaluate it on the test set. Compare and explain the results."
   ]
  },
  {
   "cell_type": "code",
   "execution_count": 52,
   "id": "f68a02c8",
   "metadata": {},
   "outputs": [],
   "source": [
    "# TODO"
   ]
  },
  {
   "cell_type": "markdown",
   "id": "84f5cf86",
   "metadata": {},
   "source": [
    "5. (6 pts) Train a Decision Tree Classifier for each depth from 1 to D where D is the maximum depth of the Decision Tree Classifier seen in the previous step. Evaluate each model on the test set and plot the accuracy of the models as a function of the depth and find the optimal depth.\n"
   ]
  },
  {
   "cell_type": "code",
   "execution_count": 53,
   "id": "a468a503",
   "metadata": {},
   "outputs": [],
   "source": [
    "# TODO"
   ]
  },
  {
   "cell_type": "markdown",
   "id": "6f4ddb52",
   "metadata": {},
   "source": [
    "6. (4 pts) Train a decision tree of depth = 1 , visualize the tree and explain what is the decision rule at the root node."
   ]
  },
  {
   "cell_type": "code",
   "execution_count": 54,
   "id": "622339ab",
   "metadata": {},
   "outputs": [],
   "source": [
    "# TODO"
   ]
  },
  {
   "cell_type": "markdown",
   "id": "c15234a8",
   "metadata": {},
   "source": [
    "## Part 4 Propensity Score Matching (10 pts)\n",
    "\n",
    "Your mentor is thrilled with the progress, and he has asked Ivan to put the model into production. Based on the model's prediction, the sales manager Ivan will decide whether to lower the car's price by 5%.\n",
    "\n",
    "A new quarter has passed, and Ivan has collected updated sales data, which includes the following columns:\n",
    "\n",
    "- `Price`: The initial price of the car.\n",
    "- `Pred_Prob`: The predicted probability of the car being sold within the first three months.\n",
    "- `Applied_Discount`: Whether the discount was applied (Yes=1, No=0).\n",
    "- `Discounted_Price`: The car's final price, calculated as `Price * 95%` if the discount was applied; otherwise, it's equal to `Price`.\n",
    "- `Sold_within_3_months`: Whether the car was sold within the first three months (Yes=1, No=0).\n",
    "\n",
    "Your task is to estimate the causal effect of the discount on sales within the first three months using propensity score matching."
   ]
  },
  {
   "cell_type": "code",
   "execution_count": 55,
   "id": "436d7945",
   "metadata": {},
   "outputs": [
    {
     "name": "stdout",
     "output_type": "stream",
     "text": [
      "   Price  Pred_Prob  Applied_Discount  Discounted_Price  Sold_within_3_months\n",
      "0  12750       0.01                 1           11475.0                     1\n",
      "1  21950       0.00                 1           19755.0                     1\n",
      "2   9950       0.79                 0            9950.0                     1\n",
      "3   9930       0.91                 1            8937.0                     0\n",
      "4   9450       0.97                 0            9450.0                     0\n"
     ]
    }
   ],
   "source": [
    "data_df = pd.read_csv('data/Task4.ToyotaCorolla_discount_sales.csv', index_col=0)\n",
    "print(data_df.head())"
   ]
  },
  {
   "cell_type": "markdown",
   "id": "dd889819",
   "metadata": {},
   "source": [
    "**4.1 (1 pts): How many samples are in the treated group, and how many are in the control group?**"
   ]
  },
  {
   "cell_type": "code",
   "execution_count": 56,
   "id": "fe5f7e33",
   "metadata": {},
   "outputs": [],
   "source": [
    "# TODO"
   ]
  },
  {
   "cell_type": "markdown",
   "id": "f8c42cde",
   "metadata": {},
   "source": [
    "\n",
    "**4.2 (5 pts): Propensity Score Matching**\n",
    "- The propensity score is the predicted probability of the car being sold within the first three months from the logistic regression model, i.e. `Pred_Prob` column in the `Task4.ToyotaCorolla_discount_sales.csv` file. Create pairs of matched samples as follows:\n",
    "  - For each treated sample (discount applied), find a control sample (discount not applied) with a difference in propensity score of less than 0.05.\n",
    "  - If there is more than one control sample for a treated sample, choose the control sample with the smallest difference in propensity score.\n",
    "  - If there is no control sample satisfying the condition, discard the treated sample.\n",
    "  - How many successful matches did you get?\n",
    "\n",
    "Notice that your output should be 1-to-1 matching, meaning that each treated sample should be matched with at most one control sample.\n",
    "So each sample can only appear once in the pairs."
   ]
  },
  {
   "cell_type": "code",
   "execution_count": 57,
   "id": "7dbadaf3",
   "metadata": {},
   "outputs": [],
   "source": [
    "# TODO"
   ]
  },
  {
   "cell_type": "markdown",
   "id": "36b061ed",
   "metadata": {},
   "source": [
    "**4.3 (4 pts): Average Treatment Effect (ATE)**\n",
    "\n",
    "Now let's estimate the effect of the discount on sales. \n",
    "\n",
    "For each matched pair, there is one treated sample and one control sample. They may have different outcomes and we can calculate the average treatment effect (ATE) as \n",
    "\n",
    "$$ ATE = \\frac{1}{N} \\sum_i^N  y_{treat}^{(i)} - y_{\\\\control}^{(i)} $$ \n",
    "\n",
    "where $y_{treat}^{(i)}$ and $y_{\\\\control}^{(i)}$ are the outcomes for the treated and control samples, respectively.\n",
    "\n",
    "Notice that here the outcome is a simple binary variable, which is whether the car was sold within the first three months or not.\n",
    "\n",
    "1. (3 pts) Calculate the ATE based on the matched pairs and report the result\n",
    "\n"
   ]
  },
  {
   "cell_type": "code",
   "execution_count": 58,
   "id": "e3a6d939",
   "metadata": {},
   "outputs": [],
   "source": [
    "# TODO"
   ]
  },
  {
   "cell_type": "markdown",
   "id": "547643f0",
   "metadata": {},
   "source": [
    "2. (1 pts) What is your conclusion about the effect of the discount on sales within the first three months?"
   ]
  },
  {
   "cell_type": "code",
   "execution_count": 59,
   "id": "560573b2",
   "metadata": {},
   "outputs": [],
   "source": [
    "# TODO"
   ]
  }
 ],
 "metadata": {
  "kernelspec": {
   "display_name": "ada",
   "language": "python",
   "name": "python3"
  },
  "language_info": {
   "codemirror_mode": {
    "name": "ipython",
    "version": 3
   },
   "file_extension": ".py",
   "mimetype": "text/x-python",
   "name": "python",
   "nbconvert_exporter": "python",
   "pygments_lexer": "ipython3",
   "version": "3.11.9"
  }
 },
 "nbformat": 4,
 "nbformat_minor": 5
}
