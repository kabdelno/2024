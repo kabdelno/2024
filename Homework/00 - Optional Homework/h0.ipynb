{
 "cells": [
  {
   "cell_type": "code",
   "execution_count": 3,
   "id": "a36f460b-f6c8-4b22-96ef-4fb5b0b3607f",
   "metadata": {},
   "outputs": [],
   "source": [
    "import pandas as pd\n",
    "import os"
   ]
  },
  {
   "cell_type": "code",
   "execution_count": 4,
   "id": "aaa04dcd-2a65-4d42-ad20-7a45ff306b00",
   "metadata": {},
   "outputs": [
    {
     "data": {
      "text/html": [
       "<div>\n",
       "<style scoped>\n",
       "    .dataframe tbody tr th:only-of-type {\n",
       "        vertical-align: middle;\n",
       "    }\n",
       "\n",
       "    .dataframe tbody tr th {\n",
       "        vertical-align: top;\n",
       "    }\n",
       "\n",
       "    .dataframe thead th {\n",
       "        text-align: right;\n",
       "    }\n",
       "</style>\n",
       "<table border=\"1\" class=\"dataframe\">\n",
       "  <thead>\n",
       "    <tr style=\"text-align: right;\">\n",
       "      <th></th>\n",
       "      <th>Intent</th>\n",
       "      <th>Gender</th>\n",
       "      <th>Age</th>\n",
       "      <th>Race</th>\n",
       "      <th>Deaths</th>\n",
       "      <th>Population</th>\n",
       "      <th>Rate</th>\n",
       "    </tr>\n",
       "  </thead>\n",
       "  <tbody>\n",
       "    <tr>\n",
       "      <th>1</th>\n",
       "      <td>None selected</td>\n",
       "      <td>None selected</td>\n",
       "      <td>None selected</td>\n",
       "      <td>None selected</td>\n",
       "      <td>33599</td>\n",
       "      <td>316299978</td>\n",
       "      <td>10.6</td>\n",
       "    </tr>\n",
       "    <tr>\n",
       "      <th>2</th>\n",
       "      <td>None selected</td>\n",
       "      <td>None selected</td>\n",
       "      <td>None selected</td>\n",
       "      <td>White</td>\n",
       "      <td>22079</td>\n",
       "      <td>197369634</td>\n",
       "      <td>11.2</td>\n",
       "    </tr>\n",
       "    <tr>\n",
       "      <th>3</th>\n",
       "      <td>None selected</td>\n",
       "      <td>None selected</td>\n",
       "      <td>None selected</td>\n",
       "      <td>Black</td>\n",
       "      <td>7765</td>\n",
       "      <td>38896382</td>\n",
       "      <td>20.0</td>\n",
       "    </tr>\n",
       "    <tr>\n",
       "      <th>4</th>\n",
       "      <td>None selected</td>\n",
       "      <td>None selected</td>\n",
       "      <td>None selected</td>\n",
       "      <td>Hispanic</td>\n",
       "      <td>3007</td>\n",
       "      <td>54049078</td>\n",
       "      <td>5.6</td>\n",
       "    </tr>\n",
       "    <tr>\n",
       "      <th>5</th>\n",
       "      <td>None selected</td>\n",
       "      <td>None selected</td>\n",
       "      <td>None selected</td>\n",
       "      <td>Asian/Pacific Islander</td>\n",
       "      <td>442</td>\n",
       "      <td>16315561</td>\n",
       "      <td>2.7</td>\n",
       "    </tr>\n",
       "  </tbody>\n",
       "</table>\n",
       "</div>"
      ],
      "text/plain": [
       "          Intent         Gender            Age                    Race  \\\n",
       "1  None selected  None selected  None selected           None selected   \n",
       "2  None selected  None selected  None selected                   White   \n",
       "3  None selected  None selected  None selected                   Black   \n",
       "4  None selected  None selected  None selected                Hispanic   \n",
       "5  None selected  None selected  None selected  Asian/Pacific Islander   \n",
       "\n",
       "   Deaths  Population  Rate  \n",
       "1   33599   316299978  10.6  \n",
       "2   22079   197369634  11.2  \n",
       "3    7765    38896382  20.0  \n",
       "4    3007    54049078   5.6  \n",
       "5     442    16315561   2.7  "
      ]
     },
     "execution_count": 4,
     "metadata": {},
     "output_type": "execute_result"
    }
   ],
   "source": [
    "fname = 'interactive_data.csv'\n",
    "df = pd.read_csv(fname, index_col=0)\n",
    "df.head(5)"
   ]
  },
  {
   "cell_type": "code",
   "execution_count": null,
   "id": "0c046888-c9a1-4401-862e-9670ea9e3fea",
   "metadata": {},
   "outputs": [],
   "source": [
    "df_filtered = df.loc[~(df=='None selected').any(axis=1)]"
   ]
  },
  {
   "cell_type": "code",
   "execution_count": 7,
   "id": "c94b4038-13f5-4123-bf34-c57722e0c36b",
   "metadata": {},
   "outputs": [
    {
     "name": "stdout",
     "output_type": "stream",
     "text": [
      "33595\n"
     ]
    }
   ],
   "source": [
    "all_deaths = df_filtered['Deaths'].sum()\n",
    "print(all_deaths)"
   ]
  },
  {
   "cell_type": "code",
   "execution_count": 15,
   "id": "6adabf7b-9c6a-4b39-9f2e-4dfa327a062a",
   "metadata": {},
   "outputs": [
    {
     "name": "stdout",
     "output_type": "stream",
     "text": [
      "62.68194671826165% of gun deaths are suicides.\n"
     ]
    }
   ],
   "source": [
    "no_suicide = df_filtered.loc[df_filtered['Intent'] == 'Suicide', 'Deaths'].sum()\n",
    "print(f'{no_suicide/all_deaths*100}% of gun deaths are suicides.')"
   ]
  },
  {
   "cell_type": "code",
   "execution_count": 17,
   "id": "7d27888c-63e4-4ae2-b9c1-a42fd12655e5",
   "metadata": {},
   "outputs": [
    {
     "name": "stdout",
     "output_type": "stream",
     "text": [
      "86.24275809668535% of suicide victims are male\n"
     ]
    }
   ],
   "source": [
    "male_suicide = df_filtered.loc[(df_filtered['Intent'] == 'Suicide') & (df_filtered['Gender'] == 'Male'), 'Deaths'].sum()\n",
    "print(f'{male_suicide/no_suicide*100}% of suicide victims are male')"
   ]
  },
  {
   "cell_type": "code",
   "execution_count": 19,
   "id": "8e6d224c-cc3e-40cb-9870-28643c5ea381",
   "metadata": {},
   "outputs": [
    {
     "name": "stdout",
     "output_type": "stream",
     "text": [
      "34.906980205387704% of gun deaths are suicides\n"
     ]
    }
   ],
   "source": [
    "homicides = df_filtered.loc[df_filtered['Intent'] == 'Homicide', 'Deaths'].sum()\n",
    "print(f'{homicides/all_deaths*100}% of gun deaths are suicides')"
   ]
  },
  {
   "cell_type": "code",
   "execution_count": 23,
   "id": "459eaba9-5565-48c3-9867-3fe09f6c3812",
   "metadata": {},
   "outputs": [
    {
     "name": "stdout",
     "output_type": "stream",
     "text": [
      "66.12482748044778% of homicide victims are black between the ages of 15 and 34\n"
     ]
    }
   ],
   "source": [
    "black_homicide_1534 = df_filtered.loc[(df_filtered['Gender'] == 'Male') & (df_filtered['Intent'] == 'Homicide') & (df_filtered['Race'] == 'Black') & (df_filtered['Age'] == '15 - 34'), 'Deaths'].sum()\n",
    "homicide_1534 = df_filtered.loc[(df_filtered['Gender'] == 'Male') & (df_filtered['Intent'] == 'Homicide') & (df_filtered['Age'] == '15 - 34'), 'Deaths'].sum()\n",
    "print(f'{black_homicide_1534/homicide_1534*100}% of homicide victims are black between the ages of 15 and 34')"
   ]
  },
  {
   "cell_type": "code",
   "execution_count": 25,
   "id": "966978fe-1048-4f1e-bc55-df6e657bf3a2",
   "metadata": {},
   "outputs": [
    {
     "name": "stdout",
     "output_type": "stream",
     "text": [
      "15.289502856655583% of homicide victims are women\n"
     ]
    }
   ],
   "source": [
    "women_homicide_victims = df_filtered.loc[(df_filtered['Gender'] == 'Female') & (df_filtered['Intent'] == 'Homicide'), 'Deaths'].sum()\n",
    "print(f'{women_homicide_victims/homicides*100}% of homicide victims are women')"
   ]
  },
  {
   "cell_type": "code",
   "execution_count": null,
   "id": "9624ab08-036e-4b1e-979b-3d54e2db9cc1",
   "metadata": {},
   "outputs": [],
   "source": []
  }
 ],
 "metadata": {
  "kernelspec": {
   "display_name": "Python 3 (ipykernel)",
   "language": "python",
   "name": "python3"
  },
  "language_info": {
   "codemirror_mode": {
    "name": "ipython",
    "version": 3
   },
   "file_extension": ".py",
   "mimetype": "text/x-python",
   "name": "python",
   "nbconvert_exporter": "python",
   "pygments_lexer": "ipython3",
   "version": "3.11.9"
  }
 },
 "nbformat": 4,
 "nbformat_minor": 5
}
